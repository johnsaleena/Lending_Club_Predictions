# Group Members: Jared Kacso, Sidney Johnson & Saleena John 

import numpy as np
import scipy as sp
import pandas as pd
import matplotlib as mpl
import matplotlib.pyplot as plt
import seaborn as sns

# Pandas options
pd.set_option('display.max_colwidth', 1000, 'display.max_rows', None, 'display.max_columns', None)

# Plotting options
%matplotlib inline
mpl.style.use('ggplot')
sns.set(style='whitegrid')


import os
os.chdir('/Users/saleenajohn/Downloads/DataMining/PROJECT2')

#Read the data into a pandas dataframe:
#loans = pd.read_csv('../input/accepted_2007_to_2018Q2.csv.gz', compression='gzip', low_memory=True)
#loans = pd.read_csv('../input/accepted-200000.csv')
#loans = pd.read_csv('accepted_2007_to_2018Q4.csv') 
loans = pd.read_csv('accepted-200000.csv')

#Check basic dataframe info:
loans.info()

#There are 1.6 million rows and 150 variables. The size of the dataset is 1.8 GB.
#5 randomly selected rows. Each row corresponds to a single loan.
loans.sample(5)

#3. Response Variable
#We're going to try to predict the loan_status variable.
loans['loan_status'].value_counts(dropna=False)

#We're going to try to learn differences in the features between completed loans that have been fully paid or charged off. 
#We won't consider loans that are current, don't meet the credit policy, defaulted, or have a missing status. 
#So we only keep the loans with status "Fully Paid" or "Charged Off."
help(loans.loc)
loans = loans.loc[loans['loan_status'].isin(['Fully Paid', 'Charged Off'])]

#How many loans remain in the dataset?
loans.shape

#There are 814,986 loans remaining. Check that the statuses are as expected:
loans['loan_status'].value_counts(dropna=False)

#Status counts as percentages:
loans['loan_status'].value_counts(normalize=True, dropna=False)

#4. Limit the Feature Space
#The full dataset has 150 features for each loan. We'll select features in two steps:
#Drop features with more than 30% of their data missing.
#Of the remaining features, choose only those that would be available to an investor before deciding to fund the loan.

#4.1 Drop features missing more than 30% data
#First calculate the percentage of missing data for each feature:
missing_fractions = loans.isnull().mean().sort_values(ascending=False)

#Top 10 features missing the most data:
missing_fractions.head(10)
