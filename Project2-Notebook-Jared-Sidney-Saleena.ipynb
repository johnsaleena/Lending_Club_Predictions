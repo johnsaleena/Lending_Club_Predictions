{
 "cells": [
  {
   "cell_type": "markdown",
   "metadata": {
    "_cell_guid": "1e8676bb-b153-45c9-a4ab-13b883e8e896",
    "_uuid": "90e7167782a3bdb675b5b6c581ec99d6920c8939"
   },
   "source": [
    "# Predicting LendingClub Loan Charge-offs from Initial Listing Data\n",
    "\n",
    "\n",
    "**June 14, 2018**"
   ]
  },
  {
   "cell_type": "code",
   "execution_count": 1,
   "metadata": {},
   "outputs": [],
   "source": [
    "# Group Members: Jared Kacso, Sidney Johnson & Saleena John "
   ]
  },
  {
   "cell_type": "markdown",
   "metadata": {
    "_cell_guid": "40dc37f2-37a8-4f73-897d-b28a8755e88b",
    "_uuid": "b645d94d7d7103b4000a089c42fca8afa54bac2e"
   },
   "source": [
    "## Table of Contents\n",
    "\n",
    "* [1. Introduction](#1)\n",
    " * [1.1 References](#1.1)\n",
    "* [2. Import the Data](#2)\n",
    "* [3. Response Variable](#3)\n",
    "* [4. Limit the Feature Space](#4)\n",
    " * [4.1 Drop features missing more than 30% data](#4.1)\n",
    " * [4.2 Only keep loan features known to potential investors](#4.2)\n",
    "* [5. Pre-processing and Exploratory Analysis](#5)\n",
    "* [6. More Pre-processing](#6)\n",
    " * [6.1 Convert loan status to 0/1 charge-off indicator](#6.1)\n",
    " * [6.2 Create dummy variables](#6.2)\n",
    " * [6.3 Train/test split](#6.3)\n",
    "* [7. Linear Dependence of Charge-off on the Predictors](#7)\n",
    "* [8. Model Training and Testing](#8)\n",
    " * [8.1 Logistic regression with SGD training](#8.1)\n",
    " * [8.2 Random forest classifier](#8.2)\n",
    " * [8.3 k-nearest neighbors](#8.3)\n",
    " * [8.4 Tune hyperparameters on the chosen model more finely](#8.4)\n",
    " * [8.5 Test set evaluation](#8.5)\n",
    "* [9. Conclusion](#9)"
   ]
  },
  {
   "cell_type": "markdown",
   "metadata": {
    "_uuid": "ddbbc2e798a8e2e6f62d254218970a5e60bf90dc"
   },
   "source": [
    "# 1. Introduction\n",
    "<a id=\"1\"></a>"
   ]
  },
  {
   "cell_type": "markdown",
   "metadata": {
    "_uuid": "eca0fc691a7fa4f011b666ededfaebdf4c14844f"
   },
   "source": [
    "[LendingClub](https://www.lendingclub.com/) is a US peer-to-peer lending company and the world's largest peer-to-peer lending platform. As explained by [Wikipedia](https://en.wikipedia.org/wiki/Lending_Club),\n",
    "\n",
    "> Lending Club enables borrowers to create unsecured personal loans between \\$1,000 and \\$40,000. The standard loan period is three years. Investors can search and browse the loan listings on Lending Club website and select loans that they want to invest in based on the information supplied about the borrower, amount of loan, loan grade, and loan purpose. Investors make money from interest. Lending Club makes money by charging borrowers an origination fee and investors a service fee.\n",
    "\n",
    "The goal of this project is to build a machine learning model to predict the probability that a loan will charge off. We will attempt to only use data available to investors via the LendingClub loan listing, including information about the borrower (income, employment length, FICO score, debt-to-income ratio, etc.) and the loan listing (the loan amount, loan purpose, loan grade, interest rate, installment, etc.). Such a predictive model could help LendingClub investors make better-informed investment decisions. We will only consider loans that LendingClub accepted under its credit underwriting policy."
   ]
  },
  {
   "cell_type": "markdown",
   "metadata": {
    "_uuid": "a4296e616977f6b02010a0984e83667f3d76c3c2"
   },
   "source": [
    "## 1.1 References\n",
    "<a id=\"1.1\"></a>"
   ]
  },
  {
   "cell_type": "markdown",
   "metadata": {
    "_uuid": "aeae213fd6615256f05839a61479c60319051c24"
   },
   "source": [
    "* LendingClub information\n",
    " * [LendingClub website](https://www.lendingclub.com/)\n",
    " * [LendingClub Wikipedia page](https://en.wikipedia.org/wiki/Lending_Club)\n",
    "* Datasets\n",
    " * [LendingClub statistics](https://www.lendingclub.com/info/download-data.action) - Original data source, aggregated on Kaggle\n",
    " * [All Lending Club loan data](https://www.kaggle.com/wordsforthewise/lending-club) - The dataset used in this project, hosted on Kaggle\n",
    " * [Lending Club Loan Data](https://www.kaggle.com/wendykan/lending-club-loan-data) - Another LendingClub dataset on Kaggle, not used in this project\n",
    "* This project\n",
    " * [Kaggle notebook](https://www.kaggle.com/pileatedperch/predicting-charge-off-from-initial-listing-data)\n",
    " * [GitHub repo](https://github.com/jgcorliss/lending-club)"
   ]
  },
  {
   "cell_type": "markdown",
   "metadata": {
    "_cell_guid": "b018242b-b3c5-4245-b5d7-ea6a3f28d4c8",
    "_uuid": "2053f9b0b897cad21155cca0a00c537bfd1bb340"
   },
   "source": [
    "# 2. Import the Data\n",
    "<a id=\"2\"></a>"
   ]
  },
  {
   "cell_type": "code",
   "execution_count": 2,
   "metadata": {
    "_cell_guid": "d237539e-2aa1-438e-a2c6-39a48c47211c",
    "_uuid": "3a39bcc870d823d4923c7ec9d8acb62c733bebaa"
   },
   "outputs": [],
   "source": [
    "import numpy as np\n",
    "import scipy as sp\n",
    "import pandas as pd\n",
    "import matplotlib as mpl\n",
    "import matplotlib.pyplot as plt\n",
    "import seaborn as sns\n",
    "\n",
    "# Pandas options\n",
    "pd.set_option('display.max_colwidth', 1000, 'display.max_rows', None, 'display.max_columns', None)\n",
    "\n",
    "# Plotting options\n",
    "%matplotlib inline\n",
    "mpl.style.use('ggplot')\n",
    "sns.set(style='whitegrid')"
   ]
  },
  {
   "cell_type": "code",
   "execution_count": 3,
   "metadata": {},
   "outputs": [],
   "source": [
    "import os\n",
    "os.chdir('/Users/saleenajohn/Downloads/DataMining/PROJECT2')"
   ]
  },
  {
   "cell_type": "markdown",
   "metadata": {
    "_cell_guid": "4c0f7ef4-37a3-4c71-847f-38f924706540",
    "_uuid": "c4b355a5d50e067d1461d6504cb04d827f65c6cd"
   },
   "source": [
    "Read the data into a pandas dataframe:"
   ]
  },
  {
   "cell_type": "code",
   "execution_count": 4,
   "metadata": {
    "_cell_guid": "b54dd1e5-bbf7-4014-9434-3495a578e27f",
    "_uuid": "370f21d16cb87752040bb20a82a9115db2e36cb5"
   },
   "outputs": [
    {
     "name": "stderr",
     "output_type": "stream",
     "text": [
      "/Users/saleenajohn/opt/anaconda3/lib/python3.8/site-packages/IPython/core/interactiveshell.py:3071: DtypeWarning: Columns (19) have mixed types.Specify dtype option on import or set low_memory=False.\n",
      "  has_raised = await self.run_ast_nodes(code_ast.body, cell_name,\n"
     ]
    }
   ],
   "source": [
    "#loans = pd.read_csv('../input/accepted_2007_to_2018Q2.csv.gz', compression='gzip', low_memory=True)\n",
    "#loans = pd.read_csv('../input/accepted-200000.csv')\n",
    "#loans = pd.read_csv('accepted_2007_to_2018Q4.csv') \n",
    "loans = pd.read_csv('accepted-200000.csv')\n"
   ]
  },
  {
   "cell_type": "code",
   "execution_count": 5,
   "metadata": {},
   "outputs": [],
   "source": [
    "#!ls -l ../input "
   ]
  },
  {
   "cell_type": "markdown",
   "metadata": {
    "_cell_guid": "b195b476-a58b-4a6b-9745-f26a86e9c61c",
    "_uuid": "ee053ebca5fbc378cf651939bde5e378e5d0cdae"
   },
   "source": [
    "Check basic dataframe info:"
   ]
  },
  {
   "cell_type": "code",
   "execution_count": 6,
   "metadata": {
    "_cell_guid": "f4a7c9a2-ff89-4219-8ff9-2324bef16bdf",
    "_uuid": "00c703a1943e72a68b83c4ddf46c00310656e22c"
   },
   "outputs": [
    {
     "name": "stdout",
     "output_type": "stream",
     "text": [
      "<class 'pandas.core.frame.DataFrame'>\n",
      "RangeIndex: 199999 entries, 0 to 199998\n",
      "Columns: 151 entries, id to settlement_term\n",
      "dtypes: float64(115), int64(1), object(35)\n",
      "memory usage: 230.4+ MB\n"
     ]
    }
   ],
   "source": [
    "loans.info()"
   ]
  },
  {
   "cell_type": "code",
   "execution_count": 7,
   "metadata": {
    "_cell_guid": "53dad5c0-e147-4a75-9143-263c25aca443",
    "_uuid": "9174c9f401807a208e48aae2553eb69fa807f1cf"
   },
   "outputs": [],
   "source": [
    "#There are 1.6 million rows and 150 variables. The size of the dataset is 1.8 GB.\n",
    "\n",
    "#Let's peek at 5 randomly selected rows. Each row corresponds to a single loan."
   ]
  },
  {
   "cell_type": "code",
   "execution_count": 8,
   "metadata": {
    "_cell_guid": "ecdf5e79-8e7d-4e10-9d6a-bbed279cf07d",
    "_uuid": "927c3589a9c7ae39e78c2ad42f569101442cbb48",
    "scrolled": true
   },
   "outputs": [
    {
     "data": {
      "text/html": [
       "<div>\n",
       "<style scoped>\n",
       "    .dataframe tbody tr th:only-of-type {\n",
       "        vertical-align: middle;\n",
       "    }\n",
       "\n",
       "    .dataframe tbody tr th {\n",
       "        vertical-align: top;\n",
       "    }\n",
       "\n",
       "    .dataframe thead th {\n",
       "        text-align: right;\n",
       "    }\n",
       "</style>\n",
       "<table border=\"1\" class=\"dataframe\">\n",
       "  <thead>\n",
       "    <tr style=\"text-align: right;\">\n",
       "      <th></th>\n",
       "      <th>id</th>\n",
       "      <th>member_id</th>\n",
       "      <th>loan_amnt</th>\n",
       "      <th>funded_amnt</th>\n",
       "      <th>funded_amnt_inv</th>\n",
       "      <th>term</th>\n",
       "      <th>int_rate</th>\n",
       "      <th>installment</th>\n",
       "      <th>grade</th>\n",
       "      <th>sub_grade</th>\n",
       "      <th>emp_title</th>\n",
       "      <th>emp_length</th>\n",
       "      <th>home_ownership</th>\n",
       "      <th>annual_inc</th>\n",
       "      <th>verification_status</th>\n",
       "      <th>issue_d</th>\n",
       "      <th>loan_status</th>\n",
       "      <th>pymnt_plan</th>\n",
       "      <th>url</th>\n",
       "      <th>desc</th>\n",
       "      <th>purpose</th>\n",
       "      <th>title</th>\n",
       "      <th>zip_code</th>\n",
       "      <th>addr_state</th>\n",
       "      <th>dti</th>\n",
       "      <th>delinq_2yrs</th>\n",
       "      <th>earliest_cr_line</th>\n",
       "      <th>fico_range_low</th>\n",
       "      <th>fico_range_high</th>\n",
       "      <th>inq_last_6mths</th>\n",
       "      <th>mths_since_last_delinq</th>\n",
       "      <th>mths_since_last_record</th>\n",
       "      <th>open_acc</th>\n",
       "      <th>pub_rec</th>\n",
       "      <th>revol_bal</th>\n",
       "      <th>revol_util</th>\n",
       "      <th>total_acc</th>\n",
       "      <th>initial_list_status</th>\n",
       "      <th>out_prncp</th>\n",
       "      <th>out_prncp_inv</th>\n",
       "      <th>total_pymnt</th>\n",
       "      <th>total_pymnt_inv</th>\n",
       "      <th>total_rec_prncp</th>\n",
       "      <th>total_rec_int</th>\n",
       "      <th>total_rec_late_fee</th>\n",
       "      <th>recoveries</th>\n",
       "      <th>collection_recovery_fee</th>\n",
       "      <th>last_pymnt_d</th>\n",
       "      <th>last_pymnt_amnt</th>\n",
       "      <th>next_pymnt_d</th>\n",
       "      <th>last_credit_pull_d</th>\n",
       "      <th>last_fico_range_high</th>\n",
       "      <th>last_fico_range_low</th>\n",
       "      <th>collections_12_mths_ex_med</th>\n",
       "      <th>mths_since_last_major_derog</th>\n",
       "      <th>policy_code</th>\n",
       "      <th>application_type</th>\n",
       "      <th>annual_inc_joint</th>\n",
       "      <th>dti_joint</th>\n",
       "      <th>verification_status_joint</th>\n",
       "      <th>acc_now_delinq</th>\n",
       "      <th>tot_coll_amt</th>\n",
       "      <th>tot_cur_bal</th>\n",
       "      <th>open_acc_6m</th>\n",
       "      <th>open_act_il</th>\n",
       "      <th>open_il_12m</th>\n",
       "      <th>open_il_24m</th>\n",
       "      <th>mths_since_rcnt_il</th>\n",
       "      <th>total_bal_il</th>\n",
       "      <th>il_util</th>\n",
       "      <th>open_rv_12m</th>\n",
       "      <th>open_rv_24m</th>\n",
       "      <th>max_bal_bc</th>\n",
       "      <th>all_util</th>\n",
       "      <th>total_rev_hi_lim</th>\n",
       "      <th>inq_fi</th>\n",
       "      <th>total_cu_tl</th>\n",
       "      <th>inq_last_12m</th>\n",
       "      <th>acc_open_past_24mths</th>\n",
       "      <th>avg_cur_bal</th>\n",
       "      <th>bc_open_to_buy</th>\n",
       "      <th>bc_util</th>\n",
       "      <th>chargeoff_within_12_mths</th>\n",
       "      <th>delinq_amnt</th>\n",
       "      <th>mo_sin_old_il_acct</th>\n",
       "      <th>mo_sin_old_rev_tl_op</th>\n",
       "      <th>mo_sin_rcnt_rev_tl_op</th>\n",
       "      <th>mo_sin_rcnt_tl</th>\n",
       "      <th>mort_acc</th>\n",
       "      <th>mths_since_recent_bc</th>\n",
       "      <th>mths_since_recent_bc_dlq</th>\n",
       "      <th>mths_since_recent_inq</th>\n",
       "      <th>mths_since_recent_revol_delinq</th>\n",
       "      <th>num_accts_ever_120_pd</th>\n",
       "      <th>num_actv_bc_tl</th>\n",
       "      <th>num_actv_rev_tl</th>\n",
       "      <th>num_bc_sats</th>\n",
       "      <th>num_bc_tl</th>\n",
       "      <th>num_il_tl</th>\n",
       "      <th>num_op_rev_tl</th>\n",
       "      <th>num_rev_accts</th>\n",
       "      <th>num_rev_tl_bal_gt_0</th>\n",
       "      <th>num_sats</th>\n",
       "      <th>num_tl_120dpd_2m</th>\n",
       "      <th>num_tl_30dpd</th>\n",
       "      <th>num_tl_90g_dpd_24m</th>\n",
       "      <th>num_tl_op_past_12m</th>\n",
       "      <th>pct_tl_nvr_dlq</th>\n",
       "      <th>percent_bc_gt_75</th>\n",
       "      <th>pub_rec_bankruptcies</th>\n",
       "      <th>tax_liens</th>\n",
       "      <th>tot_hi_cred_lim</th>\n",
       "      <th>total_bal_ex_mort</th>\n",
       "      <th>total_bc_limit</th>\n",
       "      <th>total_il_high_credit_limit</th>\n",
       "      <th>revol_bal_joint</th>\n",
       "      <th>sec_app_fico_range_low</th>\n",
       "      <th>sec_app_fico_range_high</th>\n",
       "      <th>sec_app_earliest_cr_line</th>\n",
       "      <th>sec_app_inq_last_6mths</th>\n",
       "      <th>sec_app_mort_acc</th>\n",
       "      <th>sec_app_open_acc</th>\n",
       "      <th>sec_app_revol_util</th>\n",
       "      <th>sec_app_open_act_il</th>\n",
       "      <th>sec_app_num_rev_accts</th>\n",
       "      <th>sec_app_chargeoff_within_12_mths</th>\n",
       "      <th>sec_app_collections_12_mths_ex_med</th>\n",
       "      <th>sec_app_mths_since_last_major_derog</th>\n",
       "      <th>hardship_flag</th>\n",
       "      <th>hardship_type</th>\n",
       "      <th>hardship_reason</th>\n",
       "      <th>hardship_status</th>\n",
       "      <th>deferral_term</th>\n",
       "      <th>hardship_amount</th>\n",
       "      <th>hardship_start_date</th>\n",
       "      <th>hardship_end_date</th>\n",
       "      <th>payment_plan_start_date</th>\n",
       "      <th>hardship_length</th>\n",
       "      <th>hardship_dpd</th>\n",
       "      <th>hardship_loan_status</th>\n",
       "      <th>orig_projected_additional_accrued_interest</th>\n",
       "      <th>hardship_payoff_balance_amount</th>\n",
       "      <th>hardship_last_payment_amount</th>\n",
       "      <th>disbursement_method</th>\n",
       "      <th>debt_settlement_flag</th>\n",
       "      <th>debt_settlement_flag_date</th>\n",
       "      <th>settlement_status</th>\n",
       "      <th>settlement_date</th>\n",
       "      <th>settlement_amount</th>\n",
       "      <th>settlement_percentage</th>\n",
       "      <th>settlement_term</th>\n",
       "    </tr>\n",
       "  </thead>\n",
       "  <tbody>\n",
       "    <tr>\n",
       "      <th>144138</th>\n",
       "      <td>17563432</td>\n",
       "      <td>NaN</td>\n",
       "      <td>14000.0</td>\n",
       "      <td>14000.0</td>\n",
       "      <td>14000.0</td>\n",
       "      <td>36 months</td>\n",
       "      <td>10.99</td>\n",
       "      <td>458.28</td>\n",
       "      <td>B</td>\n",
       "      <td>B3</td>\n",
       "      <td>Mathematics Teacher</td>\n",
       "      <td>1 year</td>\n",
       "      <td>MORTGAGE</td>\n",
       "      <td>50000.0</td>\n",
       "      <td>Source Verified</td>\n",
       "      <td>Jun-2014</td>\n",
       "      <td>Charged Off</td>\n",
       "      <td>n</td>\n",
       "      <td>https://lendingclub.com/browse/loanDetail.action?loan_id=17563432</td>\n",
       "      <td>NaN</td>\n",
       "      <td>debt_consolidation</td>\n",
       "      <td>Debt consolidation</td>\n",
       "      <td>704xx</td>\n",
       "      <td>LA</td>\n",
       "      <td>18.96</td>\n",
       "      <td>0.0</td>\n",
       "      <td>Aug-1988</td>\n",
       "      <td>690.0</td>\n",
       "      <td>694.0</td>\n",
       "      <td>0.0</td>\n",
       "      <td>42.0</td>\n",
       "      <td>NaN</td>\n",
       "      <td>11.0</td>\n",
       "      <td>0.0</td>\n",
       "      <td>12932.0</td>\n",
       "      <td>73.1</td>\n",
       "      <td>25.0</td>\n",
       "      <td>w</td>\n",
       "      <td>0.0</td>\n",
       "      <td>0.0</td>\n",
       "      <td>3207.960000</td>\n",
       "      <td>3207.96</td>\n",
       "      <td>2374.9</td>\n",
       "      <td>833.06</td>\n",
       "      <td>0.0</td>\n",
       "      <td>0.0</td>\n",
       "      <td>0.0</td>\n",
       "      <td>Jan-2015</td>\n",
       "      <td>458.28</td>\n",
       "      <td>NaN</td>\n",
       "      <td>Feb-2017</td>\n",
       "      <td>524.0</td>\n",
       "      <td>520.0</td>\n",
       "      <td>0.0</td>\n",
       "      <td>NaN</td>\n",
       "      <td>1.0</td>\n",
       "      <td>Individual</td>\n",
       "      <td>NaN</td>\n",
       "      <td>NaN</td>\n",
       "      <td>NaN</td>\n",
       "      <td>0.0</td>\n",
       "      <td>200.0</td>\n",
       "      <td>178476.0</td>\n",
       "      <td>NaN</td>\n",
       "      <td>NaN</td>\n",
       "      <td>NaN</td>\n",
       "      <td>NaN</td>\n",
       "      <td>NaN</td>\n",
       "      <td>NaN</td>\n",
       "      <td>NaN</td>\n",
       "      <td>NaN</td>\n",
       "      <td>NaN</td>\n",
       "      <td>NaN</td>\n",
       "      <td>NaN</td>\n",
       "      <td>17700.0</td>\n",
       "      <td>NaN</td>\n",
       "      <td>NaN</td>\n",
       "      <td>NaN</td>\n",
       "      <td>3.0</td>\n",
       "      <td>16225.0</td>\n",
       "      <td>699.0</td>\n",
       "      <td>93.6</td>\n",
       "      <td>0.0</td>\n",
       "      <td>0.0</td>\n",
       "      <td>309.0</td>\n",
       "      <td>222.0</td>\n",
       "      <td>11.0</td>\n",
       "      <td>9.0</td>\n",
       "      <td>3.0</td>\n",
       "      <td>36.0</td>\n",
       "      <td>NaN</td>\n",
       "      <td>11.0</td>\n",
       "      <td>NaN</td>\n",
       "      <td>0.0</td>\n",
       "      <td>3.0</td>\n",
       "      <td>6.0</td>\n",
       "      <td>3.0</td>\n",
       "      <td>3.0</td>\n",
       "      <td>16.0</td>\n",
       "      <td>6.0</td>\n",
       "      <td>6.0</td>\n",
       "      <td>6.0</td>\n",
       "      <td>11.0</td>\n",
       "      <td>0.0</td>\n",
       "      <td>0.0</td>\n",
       "      <td>0.0</td>\n",
       "      <td>2.0</td>\n",
       "      <td>95.8</td>\n",
       "      <td>100.0</td>\n",
       "      <td>0.0</td>\n",
       "      <td>0.0</td>\n",
       "      <td>199457.0</td>\n",
       "      <td>67286.0</td>\n",
       "      <td>10900.0</td>\n",
       "      <td>48690.0</td>\n",
       "      <td>NaN</td>\n",
       "      <td>NaN</td>\n",
       "      <td>NaN</td>\n",
       "      <td>NaN</td>\n",
       "      <td>NaN</td>\n",
       "      <td>NaN</td>\n",
       "      <td>NaN</td>\n",
       "      <td>NaN</td>\n",
       "      <td>NaN</td>\n",
       "      <td>NaN</td>\n",
       "      <td>NaN</td>\n",
       "      <td>NaN</td>\n",
       "      <td>NaN</td>\n",
       "      <td>N</td>\n",
       "      <td>NaN</td>\n",
       "      <td>NaN</td>\n",
       "      <td>NaN</td>\n",
       "      <td>NaN</td>\n",
       "      <td>NaN</td>\n",
       "      <td>NaN</td>\n",
       "      <td>NaN</td>\n",
       "      <td>NaN</td>\n",
       "      <td>NaN</td>\n",
       "      <td>NaN</td>\n",
       "      <td>NaN</td>\n",
       "      <td>NaN</td>\n",
       "      <td>NaN</td>\n",
       "      <td>NaN</td>\n",
       "      <td>Cash</td>\n",
       "      <td>N</td>\n",
       "      <td>NaN</td>\n",
       "      <td>NaN</td>\n",
       "      <td>NaN</td>\n",
       "      <td>NaN</td>\n",
       "      <td>NaN</td>\n",
       "      <td>NaN</td>\n",
       "    </tr>\n",
       "    <tr>\n",
       "      <th>133140</th>\n",
       "      <td>19566886</td>\n",
       "      <td>NaN</td>\n",
       "      <td>6800.0</td>\n",
       "      <td>6800.0</td>\n",
       "      <td>6800.0</td>\n",
       "      <td>36 months</td>\n",
       "      <td>11.67</td>\n",
       "      <td>224.79</td>\n",
       "      <td>B</td>\n",
       "      <td>B4</td>\n",
       "      <td>Night supervisor</td>\n",
       "      <td>10+ years</td>\n",
       "      <td>RENT</td>\n",
       "      <td>50000.0</td>\n",
       "      <td>Not Verified</td>\n",
       "      <td>Jun-2014</td>\n",
       "      <td>Fully Paid</td>\n",
       "      <td>n</td>\n",
       "      <td>https://lendingclub.com/browse/loanDetail.action?loan_id=19566886</td>\n",
       "      <td>NaN</td>\n",
       "      <td>debt_consolidation</td>\n",
       "      <td>Debt consolidation</td>\n",
       "      <td>154xx</td>\n",
       "      <td>PA</td>\n",
       "      <td>11.93</td>\n",
       "      <td>0.0</td>\n",
       "      <td>Jan-1999</td>\n",
       "      <td>660.0</td>\n",
       "      <td>664.0</td>\n",
       "      <td>0.0</td>\n",
       "      <td>NaN</td>\n",
       "      <td>104.0</td>\n",
       "      <td>5.0</td>\n",
       "      <td>1.0</td>\n",
       "      <td>4542.0</td>\n",
       "      <td>46.8</td>\n",
       "      <td>7.0</td>\n",
       "      <td>w</td>\n",
       "      <td>0.0</td>\n",
       "      <td>0.0</td>\n",
       "      <td>7976.750000</td>\n",
       "      <td>7976.75</td>\n",
       "      <td>6800.0</td>\n",
       "      <td>1176.75</td>\n",
       "      <td>0.0</td>\n",
       "      <td>0.0</td>\n",
       "      <td>0.0</td>\n",
       "      <td>Jul-2016</td>\n",
       "      <td>2579.40</td>\n",
       "      <td>NaN</td>\n",
       "      <td>Dec-2017</td>\n",
       "      <td>609.0</td>\n",
       "      <td>605.0</td>\n",
       "      <td>0.0</td>\n",
       "      <td>NaN</td>\n",
       "      <td>1.0</td>\n",
       "      <td>Individual</td>\n",
       "      <td>NaN</td>\n",
       "      <td>NaN</td>\n",
       "      <td>NaN</td>\n",
       "      <td>0.0</td>\n",
       "      <td>0.0</td>\n",
       "      <td>23986.0</td>\n",
       "      <td>NaN</td>\n",
       "      <td>NaN</td>\n",
       "      <td>NaN</td>\n",
       "      <td>NaN</td>\n",
       "      <td>NaN</td>\n",
       "      <td>NaN</td>\n",
       "      <td>NaN</td>\n",
       "      <td>NaN</td>\n",
       "      <td>NaN</td>\n",
       "      <td>NaN</td>\n",
       "      <td>NaN</td>\n",
       "      <td>9700.0</td>\n",
       "      <td>NaN</td>\n",
       "      <td>NaN</td>\n",
       "      <td>NaN</td>\n",
       "      <td>3.0</td>\n",
       "      <td>4797.0</td>\n",
       "      <td>NaN</td>\n",
       "      <td>NaN</td>\n",
       "      <td>0.0</td>\n",
       "      <td>0.0</td>\n",
       "      <td>185.0</td>\n",
       "      <td>39.0</td>\n",
       "      <td>19.0</td>\n",
       "      <td>15.0</td>\n",
       "      <td>0.0</td>\n",
       "      <td>NaN</td>\n",
       "      <td>NaN</td>\n",
       "      <td>13.0</td>\n",
       "      <td>NaN</td>\n",
       "      <td>0.0</td>\n",
       "      <td>0.0</td>\n",
       "      <td>2.0</td>\n",
       "      <td>0.0</td>\n",
       "      <td>0.0</td>\n",
       "      <td>3.0</td>\n",
       "      <td>4.0</td>\n",
       "      <td>4.0</td>\n",
       "      <td>2.0</td>\n",
       "      <td>5.0</td>\n",
       "      <td>0.0</td>\n",
       "      <td>0.0</td>\n",
       "      <td>0.0</td>\n",
       "      <td>0.0</td>\n",
       "      <td>100.0</td>\n",
       "      <td>NaN</td>\n",
       "      <td>1.0</td>\n",
       "      <td>0.0</td>\n",
       "      <td>33423.0</td>\n",
       "      <td>23986.0</td>\n",
       "      <td>0.0</td>\n",
       "      <td>23723.0</td>\n",
       "      <td>NaN</td>\n",
       "      <td>NaN</td>\n",
       "      <td>NaN</td>\n",
       "      <td>NaN</td>\n",
       "      <td>NaN</td>\n",
       "      <td>NaN</td>\n",
       "      <td>NaN</td>\n",
       "      <td>NaN</td>\n",
       "      <td>NaN</td>\n",
       "      <td>NaN</td>\n",
       "      <td>NaN</td>\n",
       "      <td>NaN</td>\n",
       "      <td>NaN</td>\n",
       "      <td>N</td>\n",
       "      <td>NaN</td>\n",
       "      <td>NaN</td>\n",
       "      <td>NaN</td>\n",
       "      <td>NaN</td>\n",
       "      <td>NaN</td>\n",
       "      <td>NaN</td>\n",
       "      <td>NaN</td>\n",
       "      <td>NaN</td>\n",
       "      <td>NaN</td>\n",
       "      <td>NaN</td>\n",
       "      <td>NaN</td>\n",
       "      <td>NaN</td>\n",
       "      <td>NaN</td>\n",
       "      <td>NaN</td>\n",
       "      <td>Cash</td>\n",
       "      <td>N</td>\n",
       "      <td>NaN</td>\n",
       "      <td>NaN</td>\n",
       "      <td>NaN</td>\n",
       "      <td>NaN</td>\n",
       "      <td>NaN</td>\n",
       "      <td>NaN</td>\n",
       "    </tr>\n",
       "    <tr>\n",
       "      <th>158064</th>\n",
       "      <td>16531863</td>\n",
       "      <td>NaN</td>\n",
       "      <td>20000.0</td>\n",
       "      <td>20000.0</td>\n",
       "      <td>20000.0</td>\n",
       "      <td>36 months</td>\n",
       "      <td>6.49</td>\n",
       "      <td>612.89</td>\n",
       "      <td>A</td>\n",
       "      <td>A2</td>\n",
       "      <td>Manager</td>\n",
       "      <td>4 years</td>\n",
       "      <td>MORTGAGE</td>\n",
       "      <td>99000.0</td>\n",
       "      <td>Source Verified</td>\n",
       "      <td>May-2014</td>\n",
       "      <td>Fully Paid</td>\n",
       "      <td>n</td>\n",
       "      <td>https://lendingclub.com/browse/loanDetail.action?loan_id=16531863</td>\n",
       "      <td>NaN</td>\n",
       "      <td>credit_card</td>\n",
       "      <td>Credit card refinancing</td>\n",
       "      <td>758xx</td>\n",
       "      <td>TX</td>\n",
       "      <td>21.21</td>\n",
       "      <td>0.0</td>\n",
       "      <td>Mar-1985</td>\n",
       "      <td>740.0</td>\n",
       "      <td>744.0</td>\n",
       "      <td>0.0</td>\n",
       "      <td>27.0</td>\n",
       "      <td>NaN</td>\n",
       "      <td>14.0</td>\n",
       "      <td>0.0</td>\n",
       "      <td>18336.0</td>\n",
       "      <td>41.1</td>\n",
       "      <td>24.0</td>\n",
       "      <td>w</td>\n",
       "      <td>0.0</td>\n",
       "      <td>0.0</td>\n",
       "      <td>21534.080000</td>\n",
       "      <td>21534.08</td>\n",
       "      <td>20000.0</td>\n",
       "      <td>1534.08</td>\n",
       "      <td>0.0</td>\n",
       "      <td>0.0</td>\n",
       "      <td>0.0</td>\n",
       "      <td>Nov-2015</td>\n",
       "      <td>11114.95</td>\n",
       "      <td>NaN</td>\n",
       "      <td>Dec-2017</td>\n",
       "      <td>679.0</td>\n",
       "      <td>675.0</td>\n",
       "      <td>0.0</td>\n",
       "      <td>NaN</td>\n",
       "      <td>1.0</td>\n",
       "      <td>Individual</td>\n",
       "      <td>NaN</td>\n",
       "      <td>NaN</td>\n",
       "      <td>NaN</td>\n",
       "      <td>0.0</td>\n",
       "      <td>136.0</td>\n",
       "      <td>289085.0</td>\n",
       "      <td>NaN</td>\n",
       "      <td>NaN</td>\n",
       "      <td>NaN</td>\n",
       "      <td>NaN</td>\n",
       "      <td>NaN</td>\n",
       "      <td>NaN</td>\n",
       "      <td>NaN</td>\n",
       "      <td>NaN</td>\n",
       "      <td>NaN</td>\n",
       "      <td>NaN</td>\n",
       "      <td>NaN</td>\n",
       "      <td>44600.0</td>\n",
       "      <td>NaN</td>\n",
       "      <td>NaN</td>\n",
       "      <td>NaN</td>\n",
       "      <td>2.0</td>\n",
       "      <td>22237.0</td>\n",
       "      <td>22493.0</td>\n",
       "      <td>44.9</td>\n",
       "      <td>0.0</td>\n",
       "      <td>0.0</td>\n",
       "      <td>61.0</td>\n",
       "      <td>350.0</td>\n",
       "      <td>34.0</td>\n",
       "      <td>18.0</td>\n",
       "      <td>4.0</td>\n",
       "      <td>42.0</td>\n",
       "      <td>27.0</td>\n",
       "      <td>8.0</td>\n",
       "      <td>27.0</td>\n",
       "      <td>0.0</td>\n",
       "      <td>4.0</td>\n",
       "      <td>5.0</td>\n",
       "      <td>7.0</td>\n",
       "      <td>8.0</td>\n",
       "      <td>5.0</td>\n",
       "      <td>9.0</td>\n",
       "      <td>15.0</td>\n",
       "      <td>5.0</td>\n",
       "      <td>14.0</td>\n",
       "      <td>0.0</td>\n",
       "      <td>0.0</td>\n",
       "      <td>0.0</td>\n",
       "      <td>0.0</td>\n",
       "      <td>91.7</td>\n",
       "      <td>0.0</td>\n",
       "      <td>0.0</td>\n",
       "      <td>0.0</td>\n",
       "      <td>350999.0</td>\n",
       "      <td>69145.0</td>\n",
       "      <td>40800.0</td>\n",
       "      <td>74758.0</td>\n",
       "      <td>NaN</td>\n",
       "      <td>NaN</td>\n",
       "      <td>NaN</td>\n",
       "      <td>NaN</td>\n",
       "      <td>NaN</td>\n",
       "      <td>NaN</td>\n",
       "      <td>NaN</td>\n",
       "      <td>NaN</td>\n",
       "      <td>NaN</td>\n",
       "      <td>NaN</td>\n",
       "      <td>NaN</td>\n",
       "      <td>NaN</td>\n",
       "      <td>NaN</td>\n",
       "      <td>N</td>\n",
       "      <td>NaN</td>\n",
       "      <td>NaN</td>\n",
       "      <td>NaN</td>\n",
       "      <td>NaN</td>\n",
       "      <td>NaN</td>\n",
       "      <td>NaN</td>\n",
       "      <td>NaN</td>\n",
       "      <td>NaN</td>\n",
       "      <td>NaN</td>\n",
       "      <td>NaN</td>\n",
       "      <td>NaN</td>\n",
       "      <td>NaN</td>\n",
       "      <td>NaN</td>\n",
       "      <td>NaN</td>\n",
       "      <td>Cash</td>\n",
       "      <td>N</td>\n",
       "      <td>NaN</td>\n",
       "      <td>NaN</td>\n",
       "      <td>NaN</td>\n",
       "      <td>NaN</td>\n",
       "      <td>NaN</td>\n",
       "      <td>NaN</td>\n",
       "    </tr>\n",
       "    <tr>\n",
       "      <th>45280</th>\n",
       "      <td>31537624</td>\n",
       "      <td>NaN</td>\n",
       "      <td>12000.0</td>\n",
       "      <td>12000.0</td>\n",
       "      <td>12000.0</td>\n",
       "      <td>60 months</td>\n",
       "      <td>16.99</td>\n",
       "      <td>298.17</td>\n",
       "      <td>D</td>\n",
       "      <td>D3</td>\n",
       "      <td>Inventory Specialist</td>\n",
       "      <td>10+ years</td>\n",
       "      <td>MORTGAGE</td>\n",
       "      <td>40000.0</td>\n",
       "      <td>Source Verified</td>\n",
       "      <td>Oct-2014</td>\n",
       "      <td>Fully Paid</td>\n",
       "      <td>n</td>\n",
       "      <td>https://lendingclub.com/browse/loanDetail.action?loan_id=31537624</td>\n",
       "      <td>NaN</td>\n",
       "      <td>debt_consolidation</td>\n",
       "      <td>Debt consolidation</td>\n",
       "      <td>754xx</td>\n",
       "      <td>TX</td>\n",
       "      <td>34.56</td>\n",
       "      <td>0.0</td>\n",
       "      <td>Mar-1994</td>\n",
       "      <td>660.0</td>\n",
       "      <td>664.0</td>\n",
       "      <td>2.0</td>\n",
       "      <td>25.0</td>\n",
       "      <td>NaN</td>\n",
       "      <td>8.0</td>\n",
       "      <td>0.0</td>\n",
       "      <td>48188.0</td>\n",
       "      <td>96.8</td>\n",
       "      <td>13.0</td>\n",
       "      <td>w</td>\n",
       "      <td>0.0</td>\n",
       "      <td>0.0</td>\n",
       "      <td>16814.059321</td>\n",
       "      <td>16814.06</td>\n",
       "      <td>12000.0</td>\n",
       "      <td>4814.06</td>\n",
       "      <td>0.0</td>\n",
       "      <td>0.0</td>\n",
       "      <td>0.0</td>\n",
       "      <td>Nov-2017</td>\n",
       "      <td>6380.43</td>\n",
       "      <td>NaN</td>\n",
       "      <td>Nov-2017</td>\n",
       "      <td>724.0</td>\n",
       "      <td>720.0</td>\n",
       "      <td>0.0</td>\n",
       "      <td>NaN</td>\n",
       "      <td>1.0</td>\n",
       "      <td>Individual</td>\n",
       "      <td>NaN</td>\n",
       "      <td>NaN</td>\n",
       "      <td>NaN</td>\n",
       "      <td>0.0</td>\n",
       "      <td>0.0</td>\n",
       "      <td>149097.0</td>\n",
       "      <td>NaN</td>\n",
       "      <td>NaN</td>\n",
       "      <td>NaN</td>\n",
       "      <td>NaN</td>\n",
       "      <td>NaN</td>\n",
       "      <td>NaN</td>\n",
       "      <td>NaN</td>\n",
       "      <td>NaN</td>\n",
       "      <td>NaN</td>\n",
       "      <td>NaN</td>\n",
       "      <td>NaN</td>\n",
       "      <td>49800.0</td>\n",
       "      <td>NaN</td>\n",
       "      <td>NaN</td>\n",
       "      <td>NaN</td>\n",
       "      <td>2.0</td>\n",
       "      <td>18637.0</td>\n",
       "      <td>0.0</td>\n",
       "      <td>100.0</td>\n",
       "      <td>0.0</td>\n",
       "      <td>0.0</td>\n",
       "      <td>145.0</td>\n",
       "      <td>247.0</td>\n",
       "      <td>2.0</td>\n",
       "      <td>2.0</td>\n",
       "      <td>1.0</td>\n",
       "      <td>117.0</td>\n",
       "      <td>65.0</td>\n",
       "      <td>2.0</td>\n",
       "      <td>65.0</td>\n",
       "      <td>0.0</td>\n",
       "      <td>4.0</td>\n",
       "      <td>6.0</td>\n",
       "      <td>4.0</td>\n",
       "      <td>6.0</td>\n",
       "      <td>3.0</td>\n",
       "      <td>6.0</td>\n",
       "      <td>9.0</td>\n",
       "      <td>6.0</td>\n",
       "      <td>8.0</td>\n",
       "      <td>0.0</td>\n",
       "      <td>0.0</td>\n",
       "      <td>0.0</td>\n",
       "      <td>2.0</td>\n",
       "      <td>76.9</td>\n",
       "      <td>100.0</td>\n",
       "      <td>0.0</td>\n",
       "      <td>0.0</td>\n",
       "      <td>171008.0</td>\n",
       "      <td>62886.0</td>\n",
       "      <td>44200.0</td>\n",
       "      <td>14887.0</td>\n",
       "      <td>NaN</td>\n",
       "      <td>NaN</td>\n",
       "      <td>NaN</td>\n",
       "      <td>NaN</td>\n",
       "      <td>NaN</td>\n",
       "      <td>NaN</td>\n",
       "      <td>NaN</td>\n",
       "      <td>NaN</td>\n",
       "      <td>NaN</td>\n",
       "      <td>NaN</td>\n",
       "      <td>NaN</td>\n",
       "      <td>NaN</td>\n",
       "      <td>NaN</td>\n",
       "      <td>N</td>\n",
       "      <td>NaN</td>\n",
       "      <td>NaN</td>\n",
       "      <td>NaN</td>\n",
       "      <td>NaN</td>\n",
       "      <td>NaN</td>\n",
       "      <td>NaN</td>\n",
       "      <td>NaN</td>\n",
       "      <td>NaN</td>\n",
       "      <td>NaN</td>\n",
       "      <td>NaN</td>\n",
       "      <td>NaN</td>\n",
       "      <td>NaN</td>\n",
       "      <td>NaN</td>\n",
       "      <td>NaN</td>\n",
       "      <td>Cash</td>\n",
       "      <td>N</td>\n",
       "      <td>NaN</td>\n",
       "      <td>NaN</td>\n",
       "      <td>NaN</td>\n",
       "      <td>NaN</td>\n",
       "      <td>NaN</td>\n",
       "      <td>NaN</td>\n",
       "    </tr>\n",
       "    <tr>\n",
       "      <th>181113</th>\n",
       "      <td>13947841</td>\n",
       "      <td>NaN</td>\n",
       "      <td>11350.0</td>\n",
       "      <td>11350.0</td>\n",
       "      <td>11350.0</td>\n",
       "      <td>36 months</td>\n",
       "      <td>10.99</td>\n",
       "      <td>371.54</td>\n",
       "      <td>B</td>\n",
       "      <td>B2</td>\n",
       "      <td>maintenance</td>\n",
       "      <td>10+ years</td>\n",
       "      <td>MORTGAGE</td>\n",
       "      <td>60000.0</td>\n",
       "      <td>Not Verified</td>\n",
       "      <td>Apr-2014</td>\n",
       "      <td>Fully Paid</td>\n",
       "      <td>n</td>\n",
       "      <td>https://lendingclub.com/browse/loanDetail.action?loan_id=13947841</td>\n",
       "      <td>NaN</td>\n",
       "      <td>credit_card</td>\n",
       "      <td>Credit card refinancing</td>\n",
       "      <td>177xx</td>\n",
       "      <td>PA</td>\n",
       "      <td>10.16</td>\n",
       "      <td>0.0</td>\n",
       "      <td>Jun-1999</td>\n",
       "      <td>660.0</td>\n",
       "      <td>664.0</td>\n",
       "      <td>0.0</td>\n",
       "      <td>39.0</td>\n",
       "      <td>NaN</td>\n",
       "      <td>8.0</td>\n",
       "      <td>0.0</td>\n",
       "      <td>12728.0</td>\n",
       "      <td>47.3</td>\n",
       "      <td>12.0</td>\n",
       "      <td>f</td>\n",
       "      <td>0.0</td>\n",
       "      <td>0.0</td>\n",
       "      <td>13375.045201</td>\n",
       "      <td>13375.05</td>\n",
       "      <td>11350.0</td>\n",
       "      <td>2025.05</td>\n",
       "      <td>0.0</td>\n",
       "      <td>0.0</td>\n",
       "      <td>0.0</td>\n",
       "      <td>Apr-2017</td>\n",
       "      <td>371.15</td>\n",
       "      <td>NaN</td>\n",
       "      <td>Dec-2017</td>\n",
       "      <td>814.0</td>\n",
       "      <td>810.0</td>\n",
       "      <td>0.0</td>\n",
       "      <td>NaN</td>\n",
       "      <td>1.0</td>\n",
       "      <td>Individual</td>\n",
       "      <td>NaN</td>\n",
       "      <td>NaN</td>\n",
       "      <td>NaN</td>\n",
       "      <td>0.0</td>\n",
       "      <td>315.0</td>\n",
       "      <td>115290.0</td>\n",
       "      <td>NaN</td>\n",
       "      <td>NaN</td>\n",
       "      <td>NaN</td>\n",
       "      <td>NaN</td>\n",
       "      <td>NaN</td>\n",
       "      <td>NaN</td>\n",
       "      <td>NaN</td>\n",
       "      <td>NaN</td>\n",
       "      <td>NaN</td>\n",
       "      <td>NaN</td>\n",
       "      <td>NaN</td>\n",
       "      <td>26900.0</td>\n",
       "      <td>NaN</td>\n",
       "      <td>NaN</td>\n",
       "      <td>NaN</td>\n",
       "      <td>1.0</td>\n",
       "      <td>14411.0</td>\n",
       "      <td>630.0</td>\n",
       "      <td>95.2</td>\n",
       "      <td>0.0</td>\n",
       "      <td>0.0</td>\n",
       "      <td>118.0</td>\n",
       "      <td>178.0</td>\n",
       "      <td>13.0</td>\n",
       "      <td>13.0</td>\n",
       "      <td>1.0</td>\n",
       "      <td>45.0</td>\n",
       "      <td>39.0</td>\n",
       "      <td>13.0</td>\n",
       "      <td>39.0</td>\n",
       "      <td>0.0</td>\n",
       "      <td>5.0</td>\n",
       "      <td>6.0</td>\n",
       "      <td>5.0</td>\n",
       "      <td>7.0</td>\n",
       "      <td>2.0</td>\n",
       "      <td>7.0</td>\n",
       "      <td>9.0</td>\n",
       "      <td>6.0</td>\n",
       "      <td>8.0</td>\n",
       "      <td>0.0</td>\n",
       "      <td>0.0</td>\n",
       "      <td>0.0</td>\n",
       "      <td>0.0</td>\n",
       "      <td>91.7</td>\n",
       "      <td>100.0</td>\n",
       "      <td>0.0</td>\n",
       "      <td>0.0</td>\n",
       "      <td>139900.0</td>\n",
       "      <td>12728.0</td>\n",
       "      <td>13100.0</td>\n",
       "      <td>0.0</td>\n",
       "      <td>NaN</td>\n",
       "      <td>NaN</td>\n",
       "      <td>NaN</td>\n",
       "      <td>NaN</td>\n",
       "      <td>NaN</td>\n",
       "      <td>NaN</td>\n",
       "      <td>NaN</td>\n",
       "      <td>NaN</td>\n",
       "      <td>NaN</td>\n",
       "      <td>NaN</td>\n",
       "      <td>NaN</td>\n",
       "      <td>NaN</td>\n",
       "      <td>NaN</td>\n",
       "      <td>N</td>\n",
       "      <td>NaN</td>\n",
       "      <td>NaN</td>\n",
       "      <td>NaN</td>\n",
       "      <td>NaN</td>\n",
       "      <td>NaN</td>\n",
       "      <td>NaN</td>\n",
       "      <td>NaN</td>\n",
       "      <td>NaN</td>\n",
       "      <td>NaN</td>\n",
       "      <td>NaN</td>\n",
       "      <td>NaN</td>\n",
       "      <td>NaN</td>\n",
       "      <td>NaN</td>\n",
       "      <td>NaN</td>\n",
       "      <td>Cash</td>\n",
       "      <td>N</td>\n",
       "      <td>NaN</td>\n",
       "      <td>NaN</td>\n",
       "      <td>NaN</td>\n",
       "      <td>NaN</td>\n",
       "      <td>NaN</td>\n",
       "      <td>NaN</td>\n",
       "    </tr>\n",
       "  </tbody>\n",
       "</table>\n",
       "</div>"
      ],
      "text/plain": [
       "              id  member_id  loan_amnt  funded_amnt  funded_amnt_inv  \\\n",
       "144138  17563432        NaN    14000.0      14000.0          14000.0   \n",
       "133140  19566886        NaN     6800.0       6800.0           6800.0   \n",
       "158064  16531863        NaN    20000.0      20000.0          20000.0   \n",
       "45280   31537624        NaN    12000.0      12000.0          12000.0   \n",
       "181113  13947841        NaN    11350.0      11350.0          11350.0   \n",
       "\n",
       "              term  int_rate  installment grade sub_grade  \\\n",
       "144138   36 months     10.99       458.28     B        B3   \n",
       "133140   36 months     11.67       224.79     B        B4   \n",
       "158064   36 months      6.49       612.89     A        A2   \n",
       "45280    60 months     16.99       298.17     D        D3   \n",
       "181113   36 months     10.99       371.54     B        B2   \n",
       "\n",
       "                   emp_title emp_length home_ownership  annual_inc  \\\n",
       "144138   Mathematics Teacher     1 year       MORTGAGE     50000.0   \n",
       "133140      Night supervisor  10+ years           RENT     50000.0   \n",
       "158064               Manager    4 years       MORTGAGE     99000.0   \n",
       "45280   Inventory Specialist  10+ years       MORTGAGE     40000.0   \n",
       "181113           maintenance  10+ years       MORTGAGE     60000.0   \n",
       "\n",
       "       verification_status   issue_d  loan_status pymnt_plan  \\\n",
       "144138     Source Verified  Jun-2014  Charged Off          n   \n",
       "133140        Not Verified  Jun-2014   Fully Paid          n   \n",
       "158064     Source Verified  May-2014   Fully Paid          n   \n",
       "45280      Source Verified  Oct-2014   Fully Paid          n   \n",
       "181113        Not Verified  Apr-2014   Fully Paid          n   \n",
       "\n",
       "                                                                      url  \\\n",
       "144138  https://lendingclub.com/browse/loanDetail.action?loan_id=17563432   \n",
       "133140  https://lendingclub.com/browse/loanDetail.action?loan_id=19566886   \n",
       "158064  https://lendingclub.com/browse/loanDetail.action?loan_id=16531863   \n",
       "45280   https://lendingclub.com/browse/loanDetail.action?loan_id=31537624   \n",
       "181113  https://lendingclub.com/browse/loanDetail.action?loan_id=13947841   \n",
       "\n",
       "       desc             purpose                    title zip_code addr_state  \\\n",
       "144138  NaN  debt_consolidation       Debt consolidation    704xx         LA   \n",
       "133140  NaN  debt_consolidation       Debt consolidation    154xx         PA   \n",
       "158064  NaN         credit_card  Credit card refinancing    758xx         TX   \n",
       "45280   NaN  debt_consolidation       Debt consolidation    754xx         TX   \n",
       "181113  NaN         credit_card  Credit card refinancing    177xx         PA   \n",
       "\n",
       "          dti  delinq_2yrs earliest_cr_line  fico_range_low  fico_range_high  \\\n",
       "144138  18.96          0.0         Aug-1988           690.0            694.0   \n",
       "133140  11.93          0.0         Jan-1999           660.0            664.0   \n",
       "158064  21.21          0.0         Mar-1985           740.0            744.0   \n",
       "45280   34.56          0.0         Mar-1994           660.0            664.0   \n",
       "181113  10.16          0.0         Jun-1999           660.0            664.0   \n",
       "\n",
       "        inq_last_6mths  mths_since_last_delinq  mths_since_last_record  \\\n",
       "144138             0.0                    42.0                     NaN   \n",
       "133140             0.0                     NaN                   104.0   \n",
       "158064             0.0                    27.0                     NaN   \n",
       "45280              2.0                    25.0                     NaN   \n",
       "181113             0.0                    39.0                     NaN   \n",
       "\n",
       "        open_acc  pub_rec  revol_bal  revol_util  total_acc  \\\n",
       "144138      11.0      0.0    12932.0        73.1       25.0   \n",
       "133140       5.0      1.0     4542.0        46.8        7.0   \n",
       "158064      14.0      0.0    18336.0        41.1       24.0   \n",
       "45280        8.0      0.0    48188.0        96.8       13.0   \n",
       "181113       8.0      0.0    12728.0        47.3       12.0   \n",
       "\n",
       "       initial_list_status  out_prncp  out_prncp_inv   total_pymnt  \\\n",
       "144138                   w        0.0            0.0   3207.960000   \n",
       "133140                   w        0.0            0.0   7976.750000   \n",
       "158064                   w        0.0            0.0  21534.080000   \n",
       "45280                    w        0.0            0.0  16814.059321   \n",
       "181113                   f        0.0            0.0  13375.045201   \n",
       "\n",
       "        total_pymnt_inv  total_rec_prncp  total_rec_int  total_rec_late_fee  \\\n",
       "144138          3207.96           2374.9         833.06                 0.0   \n",
       "133140          7976.75           6800.0        1176.75                 0.0   \n",
       "158064         21534.08          20000.0        1534.08                 0.0   \n",
       "45280          16814.06          12000.0        4814.06                 0.0   \n",
       "181113         13375.05          11350.0        2025.05                 0.0   \n",
       "\n",
       "        recoveries  collection_recovery_fee last_pymnt_d  last_pymnt_amnt  \\\n",
       "144138         0.0                      0.0     Jan-2015           458.28   \n",
       "133140         0.0                      0.0     Jul-2016          2579.40   \n",
       "158064         0.0                      0.0     Nov-2015         11114.95   \n",
       "45280          0.0                      0.0     Nov-2017          6380.43   \n",
       "181113         0.0                      0.0     Apr-2017           371.15   \n",
       "\n",
       "       next_pymnt_d last_credit_pull_d  last_fico_range_high  \\\n",
       "144138          NaN           Feb-2017                 524.0   \n",
       "133140          NaN           Dec-2017                 609.0   \n",
       "158064          NaN           Dec-2017                 679.0   \n",
       "45280           NaN           Nov-2017                 724.0   \n",
       "181113          NaN           Dec-2017                 814.0   \n",
       "\n",
       "        last_fico_range_low  collections_12_mths_ex_med  \\\n",
       "144138                520.0                         0.0   \n",
       "133140                605.0                         0.0   \n",
       "158064                675.0                         0.0   \n",
       "45280                 720.0                         0.0   \n",
       "181113                810.0                         0.0   \n",
       "\n",
       "        mths_since_last_major_derog  policy_code application_type  \\\n",
       "144138                          NaN          1.0       Individual   \n",
       "133140                          NaN          1.0       Individual   \n",
       "158064                          NaN          1.0       Individual   \n",
       "45280                           NaN          1.0       Individual   \n",
       "181113                          NaN          1.0       Individual   \n",
       "\n",
       "        annual_inc_joint  dti_joint  verification_status_joint  \\\n",
       "144138               NaN        NaN                        NaN   \n",
       "133140               NaN        NaN                        NaN   \n",
       "158064               NaN        NaN                        NaN   \n",
       "45280                NaN        NaN                        NaN   \n",
       "181113               NaN        NaN                        NaN   \n",
       "\n",
       "        acc_now_delinq  tot_coll_amt  tot_cur_bal  open_acc_6m  open_act_il  \\\n",
       "144138             0.0         200.0     178476.0          NaN          NaN   \n",
       "133140             0.0           0.0      23986.0          NaN          NaN   \n",
       "158064             0.0         136.0     289085.0          NaN          NaN   \n",
       "45280              0.0           0.0     149097.0          NaN          NaN   \n",
       "181113             0.0         315.0     115290.0          NaN          NaN   \n",
       "\n",
       "        open_il_12m  open_il_24m  mths_since_rcnt_il  total_bal_il  il_util  \\\n",
       "144138          NaN          NaN                 NaN           NaN      NaN   \n",
       "133140          NaN          NaN                 NaN           NaN      NaN   \n",
       "158064          NaN          NaN                 NaN           NaN      NaN   \n",
       "45280           NaN          NaN                 NaN           NaN      NaN   \n",
       "181113          NaN          NaN                 NaN           NaN      NaN   \n",
       "\n",
       "        open_rv_12m  open_rv_24m  max_bal_bc  all_util  total_rev_hi_lim  \\\n",
       "144138          NaN          NaN         NaN       NaN           17700.0   \n",
       "133140          NaN          NaN         NaN       NaN            9700.0   \n",
       "158064          NaN          NaN         NaN       NaN           44600.0   \n",
       "45280           NaN          NaN         NaN       NaN           49800.0   \n",
       "181113          NaN          NaN         NaN       NaN           26900.0   \n",
       "\n",
       "        inq_fi  total_cu_tl  inq_last_12m  acc_open_past_24mths  avg_cur_bal  \\\n",
       "144138     NaN          NaN           NaN                   3.0      16225.0   \n",
       "133140     NaN          NaN           NaN                   3.0       4797.0   \n",
       "158064     NaN          NaN           NaN                   2.0      22237.0   \n",
       "45280      NaN          NaN           NaN                   2.0      18637.0   \n",
       "181113     NaN          NaN           NaN                   1.0      14411.0   \n",
       "\n",
       "        bc_open_to_buy  bc_util  chargeoff_within_12_mths  delinq_amnt  \\\n",
       "144138           699.0     93.6                       0.0          0.0   \n",
       "133140             NaN      NaN                       0.0          0.0   \n",
       "158064         22493.0     44.9                       0.0          0.0   \n",
       "45280              0.0    100.0                       0.0          0.0   \n",
       "181113           630.0     95.2                       0.0          0.0   \n",
       "\n",
       "        mo_sin_old_il_acct  mo_sin_old_rev_tl_op  mo_sin_rcnt_rev_tl_op  \\\n",
       "144138               309.0                 222.0                   11.0   \n",
       "133140               185.0                  39.0                   19.0   \n",
       "158064                61.0                 350.0                   34.0   \n",
       "45280                145.0                 247.0                    2.0   \n",
       "181113               118.0                 178.0                   13.0   \n",
       "\n",
       "        mo_sin_rcnt_tl  mort_acc  mths_since_recent_bc  \\\n",
       "144138             9.0       3.0                  36.0   \n",
       "133140            15.0       0.0                   NaN   \n",
       "158064            18.0       4.0                  42.0   \n",
       "45280              2.0       1.0                 117.0   \n",
       "181113            13.0       1.0                  45.0   \n",
       "\n",
       "        mths_since_recent_bc_dlq  mths_since_recent_inq  \\\n",
       "144138                       NaN                   11.0   \n",
       "133140                       NaN                   13.0   \n",
       "158064                      27.0                    8.0   \n",
       "45280                       65.0                    2.0   \n",
       "181113                      39.0                   13.0   \n",
       "\n",
       "        mths_since_recent_revol_delinq  num_accts_ever_120_pd  num_actv_bc_tl  \\\n",
       "144138                             NaN                    0.0             3.0   \n",
       "133140                             NaN                    0.0             0.0   \n",
       "158064                            27.0                    0.0             4.0   \n",
       "45280                             65.0                    0.0             4.0   \n",
       "181113                            39.0                    0.0             5.0   \n",
       "\n",
       "        num_actv_rev_tl  num_bc_sats  num_bc_tl  num_il_tl  num_op_rev_tl  \\\n",
       "144138              6.0          3.0        3.0       16.0            6.0   \n",
       "133140              2.0          0.0        0.0        3.0            4.0   \n",
       "158064              5.0          7.0        8.0        5.0            9.0   \n",
       "45280               6.0          4.0        6.0        3.0            6.0   \n",
       "181113              6.0          5.0        7.0        2.0            7.0   \n",
       "\n",
       "        num_rev_accts  num_rev_tl_bal_gt_0  num_sats  num_tl_120dpd_2m  \\\n",
       "144138            6.0                  6.0      11.0               0.0   \n",
       "133140            4.0                  2.0       5.0               0.0   \n",
       "158064           15.0                  5.0      14.0               0.0   \n",
       "45280             9.0                  6.0       8.0               0.0   \n",
       "181113            9.0                  6.0       8.0               0.0   \n",
       "\n",
       "        num_tl_30dpd  num_tl_90g_dpd_24m  num_tl_op_past_12m  pct_tl_nvr_dlq  \\\n",
       "144138           0.0                 0.0                 2.0            95.8   \n",
       "133140           0.0                 0.0                 0.0           100.0   \n",
       "158064           0.0                 0.0                 0.0            91.7   \n",
       "45280            0.0                 0.0                 2.0            76.9   \n",
       "181113           0.0                 0.0                 0.0            91.7   \n",
       "\n",
       "        percent_bc_gt_75  pub_rec_bankruptcies  tax_liens  tot_hi_cred_lim  \\\n",
       "144138             100.0                   0.0        0.0         199457.0   \n",
       "133140               NaN                   1.0        0.0          33423.0   \n",
       "158064               0.0                   0.0        0.0         350999.0   \n",
       "45280              100.0                   0.0        0.0         171008.0   \n",
       "181113             100.0                   0.0        0.0         139900.0   \n",
       "\n",
       "        total_bal_ex_mort  total_bc_limit  total_il_high_credit_limit  \\\n",
       "144138            67286.0         10900.0                     48690.0   \n",
       "133140            23986.0             0.0                     23723.0   \n",
       "158064            69145.0         40800.0                     74758.0   \n",
       "45280             62886.0         44200.0                     14887.0   \n",
       "181113            12728.0         13100.0                         0.0   \n",
       "\n",
       "        revol_bal_joint  sec_app_fico_range_low  sec_app_fico_range_high  \\\n",
       "144138              NaN                     NaN                      NaN   \n",
       "133140              NaN                     NaN                      NaN   \n",
       "158064              NaN                     NaN                      NaN   \n",
       "45280               NaN                     NaN                      NaN   \n",
       "181113              NaN                     NaN                      NaN   \n",
       "\n",
       "        sec_app_earliest_cr_line  sec_app_inq_last_6mths  sec_app_mort_acc  \\\n",
       "144138                       NaN                     NaN               NaN   \n",
       "133140                       NaN                     NaN               NaN   \n",
       "158064                       NaN                     NaN               NaN   \n",
       "45280                        NaN                     NaN               NaN   \n",
       "181113                       NaN                     NaN               NaN   \n",
       "\n",
       "        sec_app_open_acc  sec_app_revol_util  sec_app_open_act_il  \\\n",
       "144138               NaN                 NaN                  NaN   \n",
       "133140               NaN                 NaN                  NaN   \n",
       "158064               NaN                 NaN                  NaN   \n",
       "45280                NaN                 NaN                  NaN   \n",
       "181113               NaN                 NaN                  NaN   \n",
       "\n",
       "        sec_app_num_rev_accts  sec_app_chargeoff_within_12_mths  \\\n",
       "144138                    NaN                               NaN   \n",
       "133140                    NaN                               NaN   \n",
       "158064                    NaN                               NaN   \n",
       "45280                     NaN                               NaN   \n",
       "181113                    NaN                               NaN   \n",
       "\n",
       "        sec_app_collections_12_mths_ex_med  \\\n",
       "144138                                 NaN   \n",
       "133140                                 NaN   \n",
       "158064                                 NaN   \n",
       "45280                                  NaN   \n",
       "181113                                 NaN   \n",
       "\n",
       "        sec_app_mths_since_last_major_derog hardship_flag hardship_type  \\\n",
       "144138                                  NaN             N           NaN   \n",
       "133140                                  NaN             N           NaN   \n",
       "158064                                  NaN             N           NaN   \n",
       "45280                                   NaN             N           NaN   \n",
       "181113                                  NaN             N           NaN   \n",
       "\n",
       "       hardship_reason hardship_status  deferral_term  hardship_amount  \\\n",
       "144138             NaN             NaN            NaN              NaN   \n",
       "133140             NaN             NaN            NaN              NaN   \n",
       "158064             NaN             NaN            NaN              NaN   \n",
       "45280              NaN             NaN            NaN              NaN   \n",
       "181113             NaN             NaN            NaN              NaN   \n",
       "\n",
       "       hardship_start_date hardship_end_date payment_plan_start_date  \\\n",
       "144138                 NaN               NaN                     NaN   \n",
       "133140                 NaN               NaN                     NaN   \n",
       "158064                 NaN               NaN                     NaN   \n",
       "45280                  NaN               NaN                     NaN   \n",
       "181113                 NaN               NaN                     NaN   \n",
       "\n",
       "        hardship_length  hardship_dpd hardship_loan_status  \\\n",
       "144138              NaN           NaN                  NaN   \n",
       "133140              NaN           NaN                  NaN   \n",
       "158064              NaN           NaN                  NaN   \n",
       "45280               NaN           NaN                  NaN   \n",
       "181113              NaN           NaN                  NaN   \n",
       "\n",
       "        orig_projected_additional_accrued_interest  \\\n",
       "144138                                         NaN   \n",
       "133140                                         NaN   \n",
       "158064                                         NaN   \n",
       "45280                                          NaN   \n",
       "181113                                         NaN   \n",
       "\n",
       "        hardship_payoff_balance_amount  hardship_last_payment_amount  \\\n",
       "144138                             NaN                           NaN   \n",
       "133140                             NaN                           NaN   \n",
       "158064                             NaN                           NaN   \n",
       "45280                              NaN                           NaN   \n",
       "181113                             NaN                           NaN   \n",
       "\n",
       "       disbursement_method debt_settlement_flag debt_settlement_flag_date  \\\n",
       "144138                Cash                    N                       NaN   \n",
       "133140                Cash                    N                       NaN   \n",
       "158064                Cash                    N                       NaN   \n",
       "45280                 Cash                    N                       NaN   \n",
       "181113                Cash                    N                       NaN   \n",
       "\n",
       "       settlement_status settlement_date  settlement_amount  \\\n",
       "144138               NaN             NaN                NaN   \n",
       "133140               NaN             NaN                NaN   \n",
       "158064               NaN             NaN                NaN   \n",
       "45280                NaN             NaN                NaN   \n",
       "181113               NaN             NaN                NaN   \n",
       "\n",
       "        settlement_percentage  settlement_term  \n",
       "144138                    NaN              NaN  \n",
       "133140                    NaN              NaN  \n",
       "158064                    NaN              NaN  \n",
       "45280                     NaN              NaN  \n",
       "181113                    NaN              NaN  "
      ]
     },
     "execution_count": 8,
     "metadata": {},
     "output_type": "execute_result"
    }
   ],
   "source": [
    "loans.sample(5)"
   ]
  },
  {
   "cell_type": "markdown",
   "metadata": {
    "_cell_guid": "6e847348-5344-4ebb-b820-03a772ad5059",
    "_uuid": "841ca8b2103b35b98730139c2e64b790f2edeb89"
   },
   "source": [
    "# 3. Response Variable\n",
    "<a id=\"3\"></a>"
   ]
  },
  {
   "cell_type": "markdown",
   "metadata": {
    "_cell_guid": "b9e79844-28d9-4b5e-a6d3-c9dbfd17820e",
    "_uuid": "138869442509b04e45df20b0356e7ed91f77f7c2"
   },
   "source": [
    "We're going to try to predict the `loan_status` variable. What are the value counts for this variable?"
   ]
  },
  {
   "cell_type": "code",
   "execution_count": 9,
   "metadata": {
    "_cell_guid": "d5b467af-c5a1-4ae0-a044-3a421252eb78",
    "_uuid": "84e9c41ee08246a83bc6f8ad04a90c83a1bf408e"
   },
   "outputs": [
    {
     "data": {
      "text/plain": [
       "Fully Paid            142730\n",
       "Charged Off            32691\n",
       "Current                22685\n",
       "Late (31-120 days)      1147\n",
       "In Grace Period          495\n",
       "Late (16-30 days)        247\n",
       "Default                    4\n",
       "Name: loan_status, dtype: int64"
      ]
     },
     "execution_count": 9,
     "metadata": {},
     "output_type": "execute_result"
    }
   ],
   "source": [
    "loans['loan_status'].value_counts(dropna=False)"
   ]
  },
  {
   "cell_type": "markdown",
   "metadata": {
    "_cell_guid": "527520b1-32a4-4b95-ab0a-b24ac47b3cf6",
    "_uuid": "49a92fd5f4aab3a3561edf9929df506c9fd34a9d"
   },
   "source": [
    "We're going to try to learn differences in the features between completed loans that have been fully paid or charged off. We won't consider loans that are current, don't meet the credit policy, defaulted, or have a missing status. So we only keep the loans with status \"Fully Paid\" or \"Charged Off.\""
   ]
  },
  {
   "cell_type": "code",
   "execution_count": 10,
   "metadata": {},
   "outputs": [
    {
     "name": "stdout",
     "output_type": "stream",
     "text": [
      "Help on _LocIndexer in module pandas.core.indexing object:\n",
      "\n",
      "class _LocIndexer(_LocationIndexer)\n",
      " |  Access a group of rows and columns by label(s) or a boolean array.\n",
      " |  \n",
      " |  ``.loc[]`` is primarily label based, but may also be used with a\n",
      " |  boolean array.\n",
      " |  \n",
      " |  Allowed inputs are:\n",
      " |  \n",
      " |  - A single label, e.g. ``5`` or ``'a'``, (note that ``5`` is\n",
      " |    interpreted as a *label* of the index, and **never** as an\n",
      " |    integer position along the index).\n",
      " |  - A list or array of labels, e.g. ``['a', 'b', 'c']``.\n",
      " |  - A slice object with labels, e.g. ``'a':'f'``.\n",
      " |  \n",
      " |    .. warning:: Note that contrary to usual python slices, **both** the\n",
      " |        start and the stop are included\n",
      " |  \n",
      " |  - A boolean array of the same length as the axis being sliced,\n",
      " |    e.g. ``[True, False, True]``.\n",
      " |  - A ``callable`` function with one argument (the calling Series or\n",
      " |    DataFrame) and that returns valid output for indexing (one of the above)\n",
      " |  \n",
      " |  See more at :ref:`Selection by Label <indexing.label>`\n",
      " |  \n",
      " |  Raises\n",
      " |  ------\n",
      " |  KeyError\n",
      " |      If any items are not found.\n",
      " |  \n",
      " |  See Also\n",
      " |  --------\n",
      " |  DataFrame.at : Access a single value for a row/column label pair.\n",
      " |  DataFrame.iloc : Access group of rows and columns by integer position(s).\n",
      " |  DataFrame.xs : Returns a cross-section (row(s) or column(s)) from the\n",
      " |      Series/DataFrame.\n",
      " |  Series.loc : Access group of values using labels.\n",
      " |  \n",
      " |  Examples\n",
      " |  --------\n",
      " |  **Getting values**\n",
      " |  \n",
      " |  >>> df = pd.DataFrame([[1, 2], [4, 5], [7, 8]],\n",
      " |  ...      index=['cobra', 'viper', 'sidewinder'],\n",
      " |  ...      columns=['max_speed', 'shield'])\n",
      " |  >>> df\n",
      " |              max_speed  shield\n",
      " |  cobra               1       2\n",
      " |  viper               4       5\n",
      " |  sidewinder          7       8\n",
      " |  \n",
      " |  Single label. Note this returns the row as a Series.\n",
      " |  \n",
      " |  >>> df.loc['viper']\n",
      " |  max_speed    4\n",
      " |  shield       5\n",
      " |  Name: viper, dtype: int64\n",
      " |  \n",
      " |  List of labels. Note using ``[[]]`` returns a DataFrame.\n",
      " |  \n",
      " |  >>> df.loc[['viper', 'sidewinder']]\n",
      " |              max_speed  shield\n",
      " |  viper               4       5\n",
      " |  sidewinder          7       8\n",
      " |  \n",
      " |  Single label for row and column\n",
      " |  \n",
      " |  >>> df.loc['cobra', 'shield']\n",
      " |  2\n",
      " |  \n",
      " |  Slice with labels for row and single label for column. As mentioned\n",
      " |  above, note that both the start and stop of the slice are included.\n",
      " |  \n",
      " |  >>> df.loc['cobra':'viper', 'max_speed']\n",
      " |  cobra    1\n",
      " |  viper    4\n",
      " |  Name: max_speed, dtype: int64\n",
      " |  \n",
      " |  Boolean list with the same length as the row axis\n",
      " |  \n",
      " |  >>> df.loc[[False, False, True]]\n",
      " |              max_speed  shield\n",
      " |  sidewinder          7       8\n",
      " |  \n",
      " |  Conditional that returns a boolean Series\n",
      " |  \n",
      " |  >>> df.loc[df['shield'] > 6]\n",
      " |              max_speed  shield\n",
      " |  sidewinder          7       8\n",
      " |  \n",
      " |  Conditional that returns a boolean Series with column labels specified\n",
      " |  \n",
      " |  >>> df.loc[df['shield'] > 6, ['max_speed']]\n",
      " |              max_speed\n",
      " |  sidewinder          7\n",
      " |  \n",
      " |  Callable that returns a boolean Series\n",
      " |  \n",
      " |  >>> df.loc[lambda df: df['shield'] == 8]\n",
      " |              max_speed  shield\n",
      " |  sidewinder          7       8\n",
      " |  \n",
      " |  **Setting values**\n",
      " |  \n",
      " |  Set value for all items matching the list of labels\n",
      " |  \n",
      " |  >>> df.loc[['viper', 'sidewinder'], ['shield']] = 50\n",
      " |  >>> df\n",
      " |              max_speed  shield\n",
      " |  cobra               1       2\n",
      " |  viper               4      50\n",
      " |  sidewinder          7      50\n",
      " |  \n",
      " |  Set value for an entire row\n",
      " |  \n",
      " |  >>> df.loc['cobra'] = 10\n",
      " |  >>> df\n",
      " |              max_speed  shield\n",
      " |  cobra              10      10\n",
      " |  viper               4      50\n",
      " |  sidewinder          7      50\n",
      " |  \n",
      " |  Set value for an entire column\n",
      " |  \n",
      " |  >>> df.loc[:, 'max_speed'] = 30\n",
      " |  >>> df\n",
      " |              max_speed  shield\n",
      " |  cobra              30      10\n",
      " |  viper              30      50\n",
      " |  sidewinder         30      50\n",
      " |  \n",
      " |  Set value for rows matching callable condition\n",
      " |  \n",
      " |  >>> df.loc[df['shield'] > 35] = 0\n",
      " |  >>> df\n",
      " |              max_speed  shield\n",
      " |  cobra              30      10\n",
      " |  viper               0       0\n",
      " |  sidewinder          0       0\n",
      " |  \n",
      " |  **Getting values on a DataFrame with an index that has integer labels**\n",
      " |  \n",
      " |  Another example using integers for the index\n",
      " |  \n",
      " |  >>> df = pd.DataFrame([[1, 2], [4, 5], [7, 8]],\n",
      " |  ...      index=[7, 8, 9], columns=['max_speed', 'shield'])\n",
      " |  >>> df\n",
      " |     max_speed  shield\n",
      " |  7          1       2\n",
      " |  8          4       5\n",
      " |  9          7       8\n",
      " |  \n",
      " |  Slice with integer labels for rows. As mentioned above, note that both\n",
      " |  the start and stop of the slice are included.\n",
      " |  \n",
      " |  >>> df.loc[7:9]\n",
      " |     max_speed  shield\n",
      " |  7          1       2\n",
      " |  8          4       5\n",
      " |  9          7       8\n",
      " |  \n",
      " |  **Getting values with a MultiIndex**\n",
      " |  \n",
      " |  A number of examples using a DataFrame with a MultiIndex\n",
      " |  \n",
      " |  >>> tuples = [\n",
      " |  ...    ('cobra', 'mark i'), ('cobra', 'mark ii'),\n",
      " |  ...    ('sidewinder', 'mark i'), ('sidewinder', 'mark ii'),\n",
      " |  ...    ('viper', 'mark ii'), ('viper', 'mark iii')\n",
      " |  ... ]\n",
      " |  >>> index = pd.MultiIndex.from_tuples(tuples)\n",
      " |  >>> values = [[12, 2], [0, 4], [10, 20],\n",
      " |  ...         [1, 4], [7, 1], [16, 36]]\n",
      " |  >>> df = pd.DataFrame(values, columns=['max_speed', 'shield'], index=index)\n",
      " |  >>> df\n",
      " |                       max_speed  shield\n",
      " |  cobra      mark i           12       2\n",
      " |             mark ii           0       4\n",
      " |  sidewinder mark i           10      20\n",
      " |             mark ii           1       4\n",
      " |  viper      mark ii           7       1\n",
      " |             mark iii         16      36\n",
      " |  \n",
      " |  Single label. Note this returns a DataFrame with a single index.\n",
      " |  \n",
      " |  >>> df.loc['cobra']\n",
      " |           max_speed  shield\n",
      " |  mark i          12       2\n",
      " |  mark ii          0       4\n",
      " |  \n",
      " |  Single index tuple. Note this returns a Series.\n",
      " |  \n",
      " |  >>> df.loc[('cobra', 'mark ii')]\n",
      " |  max_speed    0\n",
      " |  shield       4\n",
      " |  Name: (cobra, mark ii), dtype: int64\n",
      " |  \n",
      " |  Single label for row and column. Similar to passing in a tuple, this\n",
      " |  returns a Series.\n",
      " |  \n",
      " |  >>> df.loc['cobra', 'mark i']\n",
      " |  max_speed    12\n",
      " |  shield        2\n",
      " |  Name: (cobra, mark i), dtype: int64\n",
      " |  \n",
      " |  Single tuple. Note using ``[[]]`` returns a DataFrame.\n",
      " |  \n",
      " |  >>> df.loc[[('cobra', 'mark ii')]]\n",
      " |                 max_speed  shield\n",
      " |  cobra mark ii          0       4\n",
      " |  \n",
      " |  Single tuple for the index with a single label for the column\n",
      " |  \n",
      " |  >>> df.loc[('cobra', 'mark i'), 'shield']\n",
      " |  2\n",
      " |  \n",
      " |  Slice from index tuple to single label\n",
      " |  \n",
      " |  >>> df.loc[('cobra', 'mark i'):'viper']\n",
      " |                       max_speed  shield\n",
      " |  cobra      mark i           12       2\n",
      " |             mark ii           0       4\n",
      " |  sidewinder mark i           10      20\n",
      " |             mark ii           1       4\n",
      " |  viper      mark ii           7       1\n",
      " |             mark iii         16      36\n",
      " |  \n",
      " |  Slice from index tuple to index tuple\n",
      " |  \n",
      " |  >>> df.loc[('cobra', 'mark i'):('viper', 'mark ii')]\n",
      " |                      max_speed  shield\n",
      " |  cobra      mark i          12       2\n",
      " |             mark ii          0       4\n",
      " |  sidewinder mark i          10      20\n",
      " |             mark ii          1       4\n",
      " |  viper      mark ii          7       1\n",
      " |  \n",
      " |  Method resolution order:\n",
      " |      _LocIndexer\n",
      " |      _LocationIndexer\n",
      " |      _NDFrameIndexer\n",
      " |      pandas._libs.indexing._NDFrameIndexerBase\n",
      " |      builtins.object\n",
      " |  \n",
      " |  Methods inherited from _LocationIndexer:\n",
      " |  \n",
      " |  __getitem__(self, key)\n",
      " |  \n",
      " |  ----------------------------------------------------------------------\n",
      " |  Methods inherited from _NDFrameIndexer:\n",
      " |  \n",
      " |  __call__(self, axis=None)\n",
      " |      Call self as a function.\n",
      " |  \n",
      " |  __setitem__(self, key, value)\n",
      " |  \n",
      " |  ----------------------------------------------------------------------\n",
      " |  Data descriptors inherited from _NDFrameIndexer:\n",
      " |  \n",
      " |  __dict__\n",
      " |      dictionary for instance variables (if defined)\n",
      " |  \n",
      " |  __weakref__\n",
      " |      list of weak references to the object (if defined)\n",
      " |  \n",
      " |  ----------------------------------------------------------------------\n",
      " |  Data and other attributes inherited from _NDFrameIndexer:\n",
      " |  \n",
      " |  __annotations__ = {'_valid_types': <class 'str'>}\n",
      " |  \n",
      " |  axis = None\n",
      " |  \n",
      " |  ----------------------------------------------------------------------\n",
      " |  Methods inherited from pandas._libs.indexing._NDFrameIndexerBase:\n",
      " |  \n",
      " |  __init__(self, /, *args, **kwargs)\n",
      " |      Initialize self.  See help(type(self)) for accurate signature.\n",
      " |  \n",
      " |  __reduce__ = __reduce_cython__(...)\n",
      " |  \n",
      " |  __setstate__ = __setstate_cython__(...)\n",
      " |  \n",
      " |  ----------------------------------------------------------------------\n",
      " |  Static methods inherited from pandas._libs.indexing._NDFrameIndexerBase:\n",
      " |  \n",
      " |  __new__(*args, **kwargs) from builtins.type\n",
      " |      Create and return a new object.  See help(type) for accurate signature.\n",
      " |  \n",
      " |  ----------------------------------------------------------------------\n",
      " |  Data descriptors inherited from pandas._libs.indexing._NDFrameIndexerBase:\n",
      " |  \n",
      " |  name\n",
      " |  \n",
      " |  ndim\n",
      " |  \n",
      " |  obj\n",
      "\n"
     ]
    }
   ],
   "source": [
    "help(loans.loc)"
   ]
  },
  {
   "cell_type": "code",
   "execution_count": 11,
   "metadata": {
    "_cell_guid": "f4f361b5-32f2-4828-8e37-3e43a32c32c0",
    "_uuid": "5c7dc5453d31b32b849bec55fe252c449d8e9557"
   },
   "outputs": [],
   "source": [
    "loans = loans.loc[loans['loan_status'].isin(['Fully Paid', 'Charged Off'])]"
   ]
  },
  {
   "cell_type": "markdown",
   "metadata": {
    "_uuid": "700a8f42b281c1dc0f9a03aef2765f17c03ad5ef"
   },
   "source": [
    "How many loans remain in the dataset?"
   ]
  },
  {
   "cell_type": "code",
   "execution_count": 12,
   "metadata": {
    "_cell_guid": "be5c5ad3-f002-48f3-9695-3a80a1539c1b",
    "_uuid": "c71ee5ec2f8dc3d8297a7eea7eef441f27c51317"
   },
   "outputs": [
    {
     "data": {
      "text/plain": [
       "(175421, 151)"
      ]
     },
     "execution_count": 12,
     "metadata": {},
     "output_type": "execute_result"
    }
   ],
   "source": [
    "loans.shape"
   ]
  },
  {
   "cell_type": "markdown",
   "metadata": {
    "_uuid": "01d42699420ddaff662cfda3d7818a1b8fea1a54"
   },
   "source": [
    "There are 814,986 loans remaining. Check that the statuses are as expected:"
   ]
  },
  {
   "cell_type": "code",
   "execution_count": 13,
   "metadata": {
    "_cell_guid": "590a5146-c659-43ed-bfb4-7bea32672932",
    "_uuid": "d70396f915861568607ee204c4ff4574f80d5bdc"
   },
   "outputs": [
    {
     "data": {
      "text/plain": [
       "Fully Paid     142730\n",
       "Charged Off     32691\n",
       "Name: loan_status, dtype: int64"
      ]
     },
     "execution_count": 13,
     "metadata": {},
     "output_type": "execute_result"
    }
   ],
   "source": [
    "loans['loan_status'].value_counts(dropna=False)"
   ]
  },
  {
   "cell_type": "markdown",
   "metadata": {
    "_uuid": "d6011be6ec3fa527d90f7a468039506dc3f9dd7c"
   },
   "source": [
    "Status counts as percentages:"
   ]
  },
  {
   "cell_type": "code",
   "execution_count": 14,
   "metadata": {
    "_cell_guid": "590a5146-c659-43ed-bfb4-7bea32672932",
    "_uuid": "d70396f915861568607ee204c4ff4574f80d5bdc"
   },
   "outputs": [
    {
     "data": {
      "text/plain": [
       "Fully Paid     0.813643\n",
       "Charged Off    0.186357\n",
       "Name: loan_status, dtype: float64"
      ]
     },
     "execution_count": 14,
     "metadata": {},
     "output_type": "execute_result"
    }
   ],
   "source": [
    "loans['loan_status'].value_counts(normalize=True, dropna=False)"
   ]
  },
  {
   "cell_type": "markdown",
   "metadata": {
    "_cell_guid": "c44aa6b1-041a-490e-8f64-81d010b1bf4a",
    "_uuid": "715d0aed4051332c5f32f35142e130e7da555150"
   },
   "source": [
    "About 81% of the remaining loans have been fully paid and 19% have charged off, so we have a somewhat unbalanced classification problem."
   ]
  },
  {
   "cell_type": "markdown",
   "metadata": {
    "_cell_guid": "a6220e50-5df9-427a-a92b-5e6138234fb9",
    "_uuid": "34206dc6425cbf3c744c23006e6b10f522777a9d"
   },
   "source": [
    "# 4. Limit the Feature Space\n",
    "<a id=\"4\"></a>"
   ]
  },
  {
   "cell_type": "markdown",
   "metadata": {
    "_cell_guid": "89f9038c-fb12-46e9-9136-5f5e0a81d2bb",
    "_uuid": "a0a000e470b72a6128fc3ec216e181ab4ccc3809"
   },
   "source": [
    "The full dataset has 150 features for each loan. We'll select features in two steps:\n",
    "\n",
    "1. Drop features with more than 30% of their data missing.\n",
    "2. Of the remaining features, choose only those that would be available to an investor before deciding to fund the loan.\n",
    "\n",
    "Definitions of the features are given in the LendingClub Data Dictionary [available here](https://www.lendingclub.com/info/download-data.action)."
   ]
  },
  {
   "cell_type": "markdown",
   "metadata": {
    "_cell_guid": "033676d1-c042-4af2-a41c-1f49d678d03f",
    "_uuid": "6d374ac8147274a76355bbeca958bbcf6ebb1de4"
   },
   "source": [
    "## 4.1 Drop features missing more than 30% data\n",
    "<a id=\"4.1\"></a>"
   ]
  },
  {
   "cell_type": "markdown",
   "metadata": {
    "_uuid": "420071fcaa55fe7f5d8195182a7375ced061ad94"
   },
   "source": [
    "First calculate the percentage of missing data for each feature:"
   ]
  },
  {
   "cell_type": "code",
   "execution_count": 15,
   "metadata": {
    "_uuid": "7d251f04ab602e23503fcf0568173312a78b8d32"
   },
   "outputs": [],
   "source": [
    "missing_fractions = loans.isnull().mean().sort_values(ascending=False)"
   ]
  },
  {
   "cell_type": "markdown",
   "metadata": {
    "_uuid": "a7c344f6557f7292e1c0ef155dc1038cb3f8d0dd"
   },
   "source": [
    "Top 10 features missing the most data:"
   ]
  },
  {
   "cell_type": "code",
   "execution_count": 16,
   "metadata": {
    "_uuid": "e6526659eb9614cdcf86f975678ae2bd07598dd4"
   },
   "outputs": [
    {
     "data": {
      "text/plain": [
       "inq_fi                      1.0\n",
       "revol_bal_joint             1.0\n",
       "sec_app_num_rev_accts       1.0\n",
       "sec_app_open_act_il         1.0\n",
       "sec_app_revol_util          1.0\n",
       "sec_app_open_acc            1.0\n",
       "sec_app_mort_acc            1.0\n",
       "sec_app_inq_last_6mths      1.0\n",
       "sec_app_earliest_cr_line    1.0\n",
       "sec_app_fico_range_high     1.0\n",
       "dtype: float64"
      ]
     },
     "execution_count": 16,
     "metadata": {},
     "output_type": "execute_result"
    }
   ],
   "source": [
    "missing_fractions.head(10)"
   ]
  },
  {
   "cell_type": "markdown",
   "metadata": {
    "_uuid": "e4b9c8da8bd9cc8c0fd79a18339f2fa326b5a1e7"
   },
   "source": [
    "Let's visualize the distribution of missing data percentages:"
   ]
  },
  {
   "cell_type": "code",
   "execution_count": 17,
   "metadata": {
    "_uuid": "a69814fcefdd159b82a0317415536bc48ab1467d"
   },
   "outputs": [
    {
     "data": {
      "text/plain": [
       "Text(0, 0.5, 'Feature count')"
      ]
     },
     "execution_count": 17,
     "metadata": {},
     "output_type": "execute_result"
    },
    {
     "data": {
      "image/png": "[encoded data removed]",
      "text/plain": [
       "<Figure size 540x270 with 1 Axes>"
      ]
     },
     "metadata": {},
     "output_type": "display_data"
    }
   ],
   "source": [
    "plt.figure(figsize=(6,3), dpi=90)\n",
    "missing_fractions.plot.hist(bins=20)\n",
    "plt.title('Histogram of Feature Incompleteness')\n",
    "plt.xlabel('Fraction of data missing')\n",
    "plt.ylabel('Feature count')"
   ]
  },
  {
   "cell_type": "markdown",
   "metadata": {
    "_uuid": "87ae4bb87781f20de21b776d56ed74dbb0d1c3f1"
   },
   "source": [
    "From the above histogram, we see there's a large gap between features missing \"some\" data (&lt;20%) and those missing \"lots\" of data (&gt;40%). Because it's generally very difficult to accurately impute data with more than 30% missing values, we drop such columns. First store all variables missing more than 30% data in an alphabetical list:"
   ]
  },
  {
   "cell_type": "code",
   "execution_count": 18,
   "metadata": {
    "_cell_guid": "b2bccd07-6308-4d83-b45a-de8ade091106",
    "_uuid": "dd01b28cdf204ed38fa2d7123254fe9dd5f62c87"
   },
   "outputs": [
    {
     "name": "stdout",
     "output_type": "stream",
     "text": [
      "['all_util', 'annual_inc_joint', 'debt_settlement_flag_date', 'deferral_term', 'desc', 'dti_joint', 'hardship_amount', 'hardship_dpd', 'hardship_end_date', 'hardship_last_payment_amount', 'hardship_length', 'hardship_loan_status', 'hardship_payoff_balance_amount', 'hardship_reason', 'hardship_start_date', 'hardship_status', 'hardship_type', 'il_util', 'inq_fi', 'inq_last_12m', 'max_bal_bc', 'member_id', 'mths_since_last_delinq', 'mths_since_last_major_derog', 'mths_since_last_record', 'mths_since_rcnt_il', 'mths_since_recent_bc_dlq', 'mths_since_recent_revol_delinq', 'next_pymnt_d', 'open_acc_6m', 'open_act_il', 'open_il_12m', 'open_il_24m', 'open_rv_12m', 'open_rv_24m', 'orig_projected_additional_accrued_interest', 'payment_plan_start_date', 'revol_bal_joint', 'sec_app_chargeoff_within_12_mths', 'sec_app_collections_12_mths_ex_med', 'sec_app_earliest_cr_line', 'sec_app_fico_range_high', 'sec_app_fico_range_low', 'sec_app_inq_last_6mths', 'sec_app_mort_acc', 'sec_app_mths_since_last_major_derog', 'sec_app_num_rev_accts', 'sec_app_open_acc', 'sec_app_open_act_il', 'sec_app_revol_util', 'settlement_amount', 'settlement_date', 'settlement_percentage', 'settlement_status', 'settlement_term', 'total_bal_il', 'total_cu_tl', 'verification_status_joint']\n"
     ]
    }
   ],
   "source": [
    "drop_list = sorted(list(missing_fractions[missing_fractions > 0.3].index))\n",
    "print(drop_list)"
   ]
  },
  {
   "cell_type": "markdown",
   "metadata": {
    "_uuid": "ffe9ec6ac7f4d8a0c67de1586dd817905f0cc7b7"
   },
   "source": [
    "How many features will be dropped?"
   ]
  },
  {
   "cell_type": "code",
   "execution_count": 19,
   "metadata": {
    "_uuid": "3e8a2790ba4539a693435de10957ba2bd57e4b94"
   },
   "outputs": [
    {
     "data": {
      "text/plain": [
       "58"
      ]
     },
     "execution_count": 19,
     "metadata": {},
     "output_type": "execute_result"
    }
   ],
   "source": [
    "len(drop_list)"
   ]
  },
  {
   "cell_type": "markdown",
   "metadata": {
    "_cell_guid": "7fcfae32-fdf5-42af-a14a-0b797c17b034",
    "_uuid": "4477765ea99a243a25421550ff4087b68fc6fa1b"
   },
   "source": [
    "Drop these features:"
   ]
  },
  {
   "cell_type": "code",
   "execution_count": 20,
   "metadata": {
    "_uuid": "437bf9ec0774ae22e6169c3a33beb5379fbd3cb6"
   },
   "outputs": [],
   "source": [
    "loans.drop(labels=drop_list, axis=1, inplace=True)"
   ]
  },
  {
   "cell_type": "code",
   "execution_count": 21,
   "metadata": {
    "_uuid": "8c6fe3497d5649ee636aa59fae01359191037081"
   },
   "outputs": [
    {
     "data": {
      "text/plain": [
       "(175421, 93)"
      ]
     },
     "execution_count": 21,
     "metadata": {},
     "output_type": "execute_result"
    }
   ],
   "source": [
    "loans.shape"
   ]
  },
  {
   "cell_type": "markdown",
   "metadata": {
    "_cell_guid": "33b90b6b-0fcd-4657-ae11-0ff2f6a95823",
    "_uuid": "4066be79385b7b0c6b7d4f96533106093304b746"
   },
   "source": [
    "## 4.2 Only keep loan features known to potential investors\n",
    "<a id=\"4.2\"></a>"
   ]
  },
  {
   "cell_type": "markdown",
   "metadata": {
    "_uuid": "62c3981e9d75ab810ca5f667c2c7ebc9796d9e53"
   },
   "source": [
    "We examine the LendingClub website and Data Dictionary to determine which features would have been available to potential investors. Here's the list of features we currently have, in alphabetical order:"
   ]
  },
  {
   "cell_type": "code",
   "execution_count": 22,
   "metadata": {
    "_uuid": "f2d07ee979231b0ca0ebb4faffb6c3830db5002b"
   },
   "outputs": [
    {
     "name": "stdout",
     "output_type": "stream",
     "text": [
      "['acc_now_delinq', 'acc_open_past_24mths', 'addr_state', 'annual_inc', 'application_type', 'avg_cur_bal', 'bc_open_to_buy', 'bc_util', 'chargeoff_within_12_mths', 'collection_recovery_fee', 'collections_12_mths_ex_med', 'debt_settlement_flag', 'delinq_2yrs', 'delinq_amnt', 'disbursement_method', 'dti', 'earliest_cr_line', 'emp_length', 'emp_title', 'fico_range_high', 'fico_range_low', 'funded_amnt', 'funded_amnt_inv', 'grade', 'hardship_flag', 'home_ownership', 'id', 'initial_list_status', 'inq_last_6mths', 'installment', 'int_rate', 'issue_d', 'last_credit_pull_d', 'last_fico_range_high', 'last_fico_range_low', 'last_pymnt_amnt', 'last_pymnt_d', 'loan_amnt', 'loan_status', 'mo_sin_old_il_acct', 'mo_sin_old_rev_tl_op', 'mo_sin_rcnt_rev_tl_op', 'mo_sin_rcnt_tl', 'mort_acc', 'mths_since_recent_bc', 'mths_since_recent_inq', 'num_accts_ever_120_pd', 'num_actv_bc_tl', 'num_actv_rev_tl', 'num_bc_sats', 'num_bc_tl', 'num_il_tl', 'num_op_rev_tl', 'num_rev_accts', 'num_rev_tl_bal_gt_0', 'num_sats', 'num_tl_120dpd_2m', 'num_tl_30dpd', 'num_tl_90g_dpd_24m', 'num_tl_op_past_12m', 'open_acc', 'out_prncp', 'out_prncp_inv', 'pct_tl_nvr_dlq', 'percent_bc_gt_75', 'policy_code', 'pub_rec', 'pub_rec_bankruptcies', 'purpose', 'pymnt_plan', 'recoveries', 'revol_bal', 'revol_util', 'sub_grade', 'tax_liens', 'term', 'title', 'tot_coll_amt', 'tot_cur_bal', 'tot_hi_cred_lim', 'total_acc', 'total_bal_ex_mort', 'total_bc_limit', 'total_il_high_credit_limit', 'total_pymnt', 'total_pymnt_inv', 'total_rec_int', 'total_rec_late_fee', 'total_rec_prncp', 'total_rev_hi_lim', 'url', 'verification_status', 'zip_code']\n"
     ]
    }
   ],
   "source": [
    "print(sorted(loans.columns))"
   ]
  },
  {
   "cell_type": "markdown",
   "metadata": {
    "_uuid": "05d0d8edcb6cbbaff458947040bce6c4d9ade780"
   },
   "source": [
    "For each of these features, we check the description in the Data Dictionary and only keep the features that would have been available to investors considering an investment in the loan. These include features in the loan application, and any features added by LendingClub when the loan listing was accepted, such as the loan grade and interest rate.\n",
    "\n",
    "I'm using my best available knowledge to determine which loan features are known to potential investors. I am not an investor on LendingClub, so my knowledge of the LendingClub investment process is not exact. When in doubt, I err on the side of dropping the feature."
   ]
  },
  {
   "cell_type": "code",
   "execution_count": 23,
   "metadata": {
    "_uuid": "4e005f74717ed5c8321d04470b81ba875bb38a36"
   },
   "outputs": [],
   "source": [
    "keep_list = ['addr_state', 'annual_inc', 'application_type', 'dti', 'earliest_cr_line', 'emp_length', 'emp_title', 'fico_range_high', 'fico_range_low', 'grade', 'home_ownership', 'id', 'initial_list_status', 'installment', 'int_rate', 'issue_d', 'loan_amnt', 'loan_status', 'mort_acc', 'open_acc', 'pub_rec', 'pub_rec_bankruptcies', 'purpose', 'revol_bal', 'revol_util', 'sub_grade', 'term', 'title', 'total_acc', 'verification_status', 'zip_code']"
   ]
  },
  {
   "cell_type": "code",
   "execution_count": 24,
   "metadata": {
    "_uuid": "2162dd1568696c5418f9f983fefba3f5ce3dd672"
   },
   "outputs": [
    {
     "data": {
      "text/plain": [
       "31"
      ]
     },
     "execution_count": 24,
     "metadata": {},
     "output_type": "execute_result"
    }
   ],
   "source": [
    "len(keep_list)"
   ]
  },
  {
   "cell_type": "markdown",
   "metadata": {
    "_uuid": "42882834b7e0ec48b266e6b0fb3be39be1fe9f3c"
   },
   "source": [
    "The list of features to drop is any feature not in `keep_list`:"
   ]
  },
  {
   "cell_type": "code",
   "execution_count": 25,
   "metadata": {
    "_uuid": "5d71be62e215ee7a022ab968c78281934a70406c"
   },
   "outputs": [
    {
     "name": "stdout",
     "output_type": "stream",
     "text": [
      "['funded_amnt', 'funded_amnt_inv', 'pymnt_plan', 'url', 'delinq_2yrs', 'inq_last_6mths', 'out_prncp', 'out_prncp_inv', 'total_pymnt', 'total_pymnt_inv', 'total_rec_prncp', 'total_rec_int', 'total_rec_late_fee', 'recoveries', 'collection_recovery_fee', 'last_pymnt_d', 'last_pymnt_amnt', 'last_credit_pull_d', 'last_fico_range_high', 'last_fico_range_low', 'collections_12_mths_ex_med', 'policy_code', 'acc_now_delinq', 'tot_coll_amt', 'tot_cur_bal', 'total_rev_hi_lim', 'acc_open_past_24mths', 'avg_cur_bal', 'bc_open_to_buy', 'bc_util', 'chargeoff_within_12_mths', 'delinq_amnt', 'mo_sin_old_il_acct', 'mo_sin_old_rev_tl_op', 'mo_sin_rcnt_rev_tl_op', 'mo_sin_rcnt_tl', 'mths_since_recent_bc', 'mths_since_recent_inq', 'num_accts_ever_120_pd', 'num_actv_bc_tl', 'num_actv_rev_tl', 'num_bc_sats', 'num_bc_tl', 'num_il_tl', 'num_op_rev_tl', 'num_rev_accts', 'num_rev_tl_bal_gt_0', 'num_sats', 'num_tl_120dpd_2m', 'num_tl_30dpd', 'num_tl_90g_dpd_24m', 'num_tl_op_past_12m', 'pct_tl_nvr_dlq', 'percent_bc_gt_75', 'tax_liens', 'tot_hi_cred_lim', 'total_bal_ex_mort', 'total_bc_limit', 'total_il_high_credit_limit', 'hardship_flag', 'disbursement_method', 'debt_settlement_flag']\n"
     ]
    }
   ],
   "source": [
    "drop_list = [col for col in loans.columns if col not in keep_list]\n",
    "print(drop_list)"
   ]
  },
  {
   "cell_type": "code",
   "execution_count": 26,
   "metadata": {
    "_uuid": "de22419a196017f4d614fe6b54d9a89b06239aa4"
   },
   "outputs": [
    {
     "data": {
      "text/plain": [
       "62"
      ]
     },
     "execution_count": 26,
     "metadata": {},
     "output_type": "execute_result"
    }
   ],
   "source": [
    "len(drop_list)"
   ]
  },
  {
   "cell_type": "markdown",
   "metadata": {
    "_uuid": "1132da211fd9304344a23ef7a5f9d7a563aee6ed"
   },
   "source": [
    "Drop these features:"
   ]
  },
  {
   "cell_type": "code",
   "execution_count": 27,
   "metadata": {
    "_uuid": "670a69650037e0f702d29a6295635c1cbaa77a60"
   },
   "outputs": [],
   "source": [
    "loans.drop(labels=drop_list, axis=1, inplace=True)"
   ]
  },
  {
   "cell_type": "code",
   "execution_count": 28,
   "metadata": {
    "_uuid": "a3a0281657f9f11b90dc53eccec6510f3f58f3fb"
   },
   "outputs": [
    {
     "data": {
      "text/plain": [
       "(175421, 31)"
      ]
     },
     "execution_count": 28,
     "metadata": {},
     "output_type": "execute_result"
    }
   ],
   "source": [
    "loans.shape"
   ]
  },
  {
   "cell_type": "markdown",
   "metadata": {
    "_uuid": "124e5fa8a0587f1369cb06df468d8bfdcafd3981"
   },
   "source": [
    "# 5. Pre-processing and Exploratory Analysis\n",
    "<a id=\"5\"></a>"
   ]
  },
  {
   "cell_type": "markdown",
   "metadata": {
    "_uuid": "1d3a3953b9b9549852306a078a88527abb62b572"
   },
   "source": [
    "We'll inspect each feature individually, and do the following:\n",
    "\n",
    "1. Drop the feature if it is not useful for predicting the loan status.\n",
    "2. View summary statistics and visualize the data, plotting against the loan status.\n",
    "3. Modify the feature to make it useful for modeling, if necessary."
   ]
  },
  {
   "cell_type": "markdown",
   "metadata": {
    "_uuid": "54c148f6fa522a37db49a9e18382b88f7cd9c6e7"
   },
   "source": [
    "We define a function for plotting a variable and comparing with the loan status:"
   ]
  },
  {
   "cell_type": "code",
   "execution_count": 29,
   "metadata": {
    "_uuid": "5f56a250db044d8308e38e02e0dc831aa5ffdc5e"
   },
   "outputs": [],
   "source": [
    "def plot_var(col_name, full_name, continuous):\n",
    "    \"\"\"\n",
    "    Visualize a variable with and without faceting on the loan status.\n",
    "    - col_name is the variable name in the dataframe\n",
    "    - full_name is the full variable name\n",
    "    - continuous is True if the variable is continuous, False otherwise\n",
    "    \"\"\"\n",
    "    f, (ax1, ax2) = plt.subplots(nrows=1, ncols=2, figsize=(12,3), dpi=90)\n",
    "    \n",
    "    # Plot without loan status\n",
    "    if continuous:\n",
    "        sns.distplot(loans.loc[loans[col_name].notnull(), col_name], kde=False, ax=ax1)\n",
    "    else:\n",
    "        sns.countplot(loans[col_name], order=sorted(loans[col_name].unique()), color='#5975A4', saturation=1, ax=ax1)\n",
    "    ax1.set_xlabel(full_name)\n",
    "    ax1.set_ylabel('Count')\n",
    "    ax1.set_title(full_name)\n",
    "\n",
    "    # Plot with loan status\n",
    "    if continuous:\n",
    "        sns.boxplot(x=col_name, y='loan_status', data=loans, ax=ax2)\n",
    "        ax2.set_ylabel('')\n",
    "        ax2.set_title(full_name + ' by Loan Status')\n",
    "    else:\n",
    "        charge_off_rates = loans.groupby(col_name)['loan_status'].value_counts(normalize=True).loc[:,'Charged Off']\n",
    "        sns.barplot(x=charge_off_rates.index, y=charge_off_rates.values, color='#5975A4', saturation=1, ax=ax2)\n",
    "        ax2.set_ylabel('Fraction of Loans Charged-off')\n",
    "        ax2.set_title('Charge-off Rate by ' + full_name)\n",
    "    ax2.set_xlabel(full_name)\n",
    "    \n",
    "    plt.tight_layout()"
   ]
  },
  {
   "cell_type": "markdown",
   "metadata": {
    "_uuid": "a3010318de2825222be736f149f5ca789bf9db20"
   },
   "source": [
    "Print the remaining features for future reference:"
   ]
  },
  {
   "cell_type": "code",
   "execution_count": 30,
   "metadata": {
    "_uuid": "01870385fb6818023b7a32c0c17a5639adfb8cea"
   },
   "outputs": [
    {
     "name": "stdout",
     "output_type": "stream",
     "text": [
      "['id', 'loan_amnt', 'term', 'int_rate', 'installment', 'grade', 'sub_grade', 'emp_title', 'emp_length', 'home_ownership', 'annual_inc', 'verification_status', 'issue_d', 'loan_status', 'purpose', 'title', 'zip_code', 'addr_state', 'dti', 'earliest_cr_line', 'fico_range_low', 'fico_range_high', 'open_acc', 'pub_rec', 'revol_bal', 'revol_util', 'total_acc', 'initial_list_status', 'application_type', 'mort_acc', 'pub_rec_bankruptcies']\n"
     ]
    }
   ],
   "source": [
    "print(list(loans.columns))"
   ]
  },
  {
   "cell_type": "markdown",
   "metadata": {
    "_uuid": "5f823799e6d4f7a48d7d5ff97ad563bd60a90ffe"
   },
   "source": [
    "## 5.1 id"
   ]
  },
  {
   "cell_type": "markdown",
   "metadata": {
    "_uuid": "404ee20c6a02130832b1a9b5b24242e3c3ddc5b0"
   },
   "source": [
    "Data Dictionary: \"A unique [LendingClub] assigned ID for the loan listing.\""
   ]
  },
  {
   "cell_type": "code",
   "execution_count": 31,
   "metadata": {
    "_uuid": "b4c7be9c673679b9594444be67ce1a51eb9d74fd"
   },
   "outputs": [
    {
     "data": {
      "text/plain": [
       "91000     24666152\n",
       "145922    17715755\n",
       "105432    21410798\n",
       "193372    12595147\n",
       "129958    19877698\n",
       "Name: id, dtype: int64"
      ]
     },
     "execution_count": 31,
     "metadata": {},
     "output_type": "execute_result"
    }
   ],
   "source": [
    "loans['id'].sample(5)"
   ]
  },
  {
   "cell_type": "markdown",
   "metadata": {
    "_uuid": "209fa6596872c5b10c6a370b884b24210c7d49c4"
   },
   "source": [
    "Are all the IDs unique?"
   ]
  },
  {
   "cell_type": "code",
   "execution_count": 32,
   "metadata": {
    "_uuid": "2d702b86a18b4f524855b757b59ce90550d26872"
   },
   "outputs": [
    {
     "data": {
      "text/plain": [
       "count    1.754210e+05\n",
       "mean     2.353830e+07\n",
       "std      7.741540e+06\n",
       "min      5.716700e+04\n",
       "25%      1.645309e+07\n",
       "50%      2.241382e+07\n",
       "75%      3.029508e+07\n",
       "max      3.809811e+07\n",
       "Name: id, dtype: float64"
      ]
     },
     "execution_count": 32,
     "metadata": {},
     "output_type": "execute_result"
    }
   ],
   "source": [
    "loans['id'].describe()"
   ]
  },
  {
   "cell_type": "markdown",
   "metadata": {
    "_uuid": "fc13fb6e7504643fb15a7d710ad9b5777f771abe"
   },
   "source": [
    "Yes, they are all unique. The ID is not useful for modeling, either as a categorical variable (there are too many distinct values) or as a numerical variable (the IDs vary wildly in magnitude, likely without any significance), so we drop this variable."
   ]
  },
  {
   "cell_type": "code",
   "execution_count": 33,
   "metadata": {
    "_uuid": "b913d12b8430a05770d4463232ff1ddf731147e6"
   },
   "outputs": [],
   "source": [
    "loans.drop('id', axis=1, inplace=True)"
   ]
  },
  {
   "cell_type": "markdown",
   "metadata": {
    "_uuid": "95acb5d6bac7b9749570bc02ee9caba023c165e7"
   },
   "source": [
    "## 5.2 loan_amnt"
   ]
  },
  {
   "cell_type": "markdown",
   "metadata": {
    "_uuid": "7658ff87aae05a89344526674438b49c1e9e0bec"
   },
   "source": [
    "Data Dictionary: \"The listed amount of the loan applied for by the borrower. If at some point in time, the credit department reduces the loan amount, then it will be reflected in this value.\""
   ]
  },
  {
   "cell_type": "code",
   "execution_count": 34,
   "metadata": {
    "_uuid": "ad27f5835e0938372708f93148096694f0ffc496"
   },
   "outputs": [
    {
     "data": {
      "text/plain": [
       "count    175421.000000\n",
       "mean      14159.529788\n",
       "std        8364.416083\n",
       "min        1000.000000\n",
       "25%        8000.000000\n",
       "50%       12000.000000\n",
       "75%       20000.000000\n",
       "max       35000.000000\n",
       "Name: loan_amnt, dtype: float64"
      ]
     },
     "execution_count": 34,
     "metadata": {},
     "output_type": "execute_result"
    }
   ],
   "source": [
    "loans['loan_amnt'].describe()"
   ]
  },
  {
   "cell_type": "markdown",
   "metadata": {
    "_uuid": "73d40938f1a11cba241726ac471f7f02dfd99cb6"
   },
   "source": [
    "Loan amounts range from \\$500 to \\$40,000, with a median of \\$12,000."
   ]
  },
  {
   "cell_type": "code",
   "execution_count": 35,
   "metadata": {
    "_uuid": "b0777d32ba3de4a30bff818b7c71d3f7986599e5"
   },
   "outputs": [
    {
     "data": {
      "image/png": "[encoded data removed]",
      "text/plain": [
       "<Figure size 1080x270 with 2 Axes>"
      ]
     },
     "metadata": {},
     "output_type": "display_data"
    }
   ],
   "source": [
    "plot_var('loan_amnt', 'Loan Amount', continuous=True)"
   ]
  },
  {
   "cell_type": "markdown",
   "metadata": {
    "_uuid": "55b12b9e2bc64f1df777732279d914c6895a0db8"
   },
   "source": [
    "Charged-off loans tend to have higher loan amounts. Let's compare the summary statistics by loan status:"
   ]
  },
  {
   "cell_type": "code",
   "execution_count": 36,
   "metadata": {
    "_uuid": "e02a9883f576e8f44099f52b689398faac9a5402"
   },
   "outputs": [
    {
     "data": {
      "text/html": [
       "<div>\n",
       "<style scoped>\n",
       "    .dataframe tbody tr th:only-of-type {\n",
       "        vertical-align: middle;\n",
       "    }\n",
       "\n",
       "    .dataframe tbody tr th {\n",
       "        vertical-align: top;\n",
       "    }\n",
       "\n",
       "    .dataframe thead th {\n",
       "        text-align: right;\n",
       "    }\n",
       "</style>\n",
       "<table border=\"1\" class=\"dataframe\">\n",
       "  <thead>\n",
       "    <tr style=\"text-align: right;\">\n",
       "      <th></th>\n",
       "      <th>count</th>\n",
       "      <th>mean</th>\n",
       "      <th>std</th>\n",
       "      <th>min</th>\n",
       "      <th>25%</th>\n",
       "      <th>50%</th>\n",
       "      <th>75%</th>\n",
       "      <th>max</th>\n",
       "    </tr>\n",
       "    <tr>\n",
       "      <th>loan_status</th>\n",
       "      <th></th>\n",
       "      <th></th>\n",
       "      <th></th>\n",
       "      <th></th>\n",
       "      <th></th>\n",
       "      <th></th>\n",
       "      <th></th>\n",
       "      <th></th>\n",
       "    </tr>\n",
       "  </thead>\n",
       "  <tbody>\n",
       "    <tr>\n",
       "      <th>Charged Off</th>\n",
       "      <td>32691.0</td>\n",
       "      <td>15298.158515</td>\n",
       "      <td>8365.163736</td>\n",
       "      <td>1000.0</td>\n",
       "      <td>9250.0</td>\n",
       "      <td>14000.0</td>\n",
       "      <td>20000.0</td>\n",
       "      <td>35000.0</td>\n",
       "    </tr>\n",
       "    <tr>\n",
       "      <th>Fully Paid</th>\n",
       "      <td>142730.0</td>\n",
       "      <td>13898.737301</td>\n",
       "      <td>8342.428948</td>\n",
       "      <td>1000.0</td>\n",
       "      <td>7500.0</td>\n",
       "      <td>12000.0</td>\n",
       "      <td>19350.0</td>\n",
       "      <td>35000.0</td>\n",
       "    </tr>\n",
       "  </tbody>\n",
       "</table>\n",
       "</div>"
      ],
      "text/plain": [
       "                count          mean          std     min     25%      50%  \\\n",
       "loan_status                                                                 \n",
       "Charged Off   32691.0  15298.158515  8365.163736  1000.0  9250.0  14000.0   \n",
       "Fully Paid   142730.0  13898.737301  8342.428948  1000.0  7500.0  12000.0   \n",
       "\n",
       "                 75%      max  \n",
       "loan_status                    \n",
       "Charged Off  20000.0  35000.0  \n",
       "Fully Paid   19350.0  35000.0  "
      ]
     },
     "execution_count": 36,
     "metadata": {},
     "output_type": "execute_result"
    }
   ],
   "source": [
    "loans.groupby('loan_status')['loan_amnt'].describe()"
   ]
  },
  {
   "cell_type": "markdown",
   "metadata": {
    "_cell_guid": "8e98e8d9-9c8f-49b4-a123-4a11534454e3",
    "_uuid": "77ae6e4830589e4ee9dd0c815043300017c7fd75"
   },
   "source": [
    "## 5.3 term"
   ]
  },
  {
   "cell_type": "markdown",
   "metadata": {
    "_uuid": "a3b89f215a2fa0e3a70d7ce553bf4ad4c5ff2281"
   },
   "source": [
    "Data Dictionary: \"The number of payments on the loan. Values are in months and can be either 36 or 60.\""
   ]
  },
  {
   "cell_type": "code",
   "execution_count": 37,
   "metadata": {
    "_cell_guid": "e3559ee4-0c7c-4e29-9952-ef06f302937a",
    "_uuid": "b8fa81ef40fc0928639d94608d126039f73e3f3d"
   },
   "outputs": [
    {
     "data": {
      "text/plain": [
       " 36 months    135928\n",
       " 60 months     39493\n",
       "Name: term, dtype: int64"
      ]
     },
     "execution_count": 37,
     "metadata": {},
     "output_type": "execute_result"
    }
   ],
   "source": [
    "loans['term'].value_counts(dropna=False)"
   ]
  },
  {
   "cell_type": "markdown",
   "metadata": {
    "_cell_guid": "a0a18d84-ed5f-4d4f-a377-c877a6d1be54",
    "_uuid": "7abe9deb95eb215cc2c8fa6425cc4d81bbf79bef"
   },
   "source": [
    "Convert `term` to integers."
   ]
  },
  {
   "cell_type": "code",
   "execution_count": 38,
   "metadata": {
    "_cell_guid": "dd9462d5-673b-4dce-ae3b-61f427b1abcb",
    "_uuid": "09eed29a2d6f5e30beec07ae5d29088234c99b1c"
   },
   "outputs": [],
   "source": [
    "loans['term'] = loans['term'].apply(lambda s: np.int8(s.split()[0]))"
   ]
  },
  {
   "cell_type": "code",
   "execution_count": 39,
   "metadata": {
    "_cell_guid": "dd9462d5-673b-4dce-ae3b-61f427b1abcb",
    "_uuid": "09eed29a2d6f5e30beec07ae5d29088234c99b1c"
   },
   "outputs": [
    {
     "data": {
      "text/plain": [
       "36    0.774867\n",
       "60    0.225133\n",
       "Name: term, dtype: float64"
      ]
     },
     "execution_count": 39,
     "metadata": {},
     "output_type": "execute_result"
    }
   ],
   "source": [
    "loans['term'].value_counts(normalize=True)"
   ]
  },
  {
   "cell_type": "markdown",
   "metadata": {
    "_uuid": "38b3f2e509a44b641c95c5bc3853fcb345c15697"
   },
   "source": [
    "Compare the charge-off rate by loan period:"
   ]
  },
  {
   "cell_type": "code",
   "execution_count": 40,
   "metadata": {
    "_uuid": "ab9282a1342f830c7676b123093b58e524b51fba"
   },
   "outputs": [
    {
     "data": {
      "text/plain": [
       "term\n",
       "36    0.138684\n",
       "60    0.350442\n",
       "Name: loan_status, dtype: float64"
      ]
     },
     "execution_count": 40,
     "metadata": {},
     "output_type": "execute_result"
    }
   ],
   "source": [
    "loans.groupby('term')['loan_status'].value_counts(normalize=True).loc[:,'Charged Off']"
   ]
  },
  {
   "cell_type": "markdown",
   "metadata": {
    "_uuid": "ff84064c77c403999e45c1ecbfb6ced2ed8c4f9b"
   },
   "source": [
    "About 77% of the completed loans have three-year periods, and the rest have five-year periods. Loans with five-year periods are more than twice as likely to charge-off as loans with three-year periods."
   ]
  },
  {
   "cell_type": "markdown",
   "metadata": {
    "_uuid": "7c02fe150b628a0131c81494d1e7d55d9116b015"
   },
   "source": [
    "## 5.4 int_rate  Step for Data Understanding . \n"
   ]
  },
  {
   "cell_type": "markdown",
   "metadata": {
    "_uuid": "9ad9cd0705710499a58cf64764c65c75783c96f5"
   },
   "source": [
    "Data Dictionary: \"Interest Rate on the loan.\""
   ]
  },
  {
   "cell_type": "code",
   "execution_count": 41,
   "metadata": {
    "_uuid": "2a28a3f5b36127d615812fd74e427ab64909ad78"
   },
   "outputs": [
    {
     "data": {
      "text/plain": [
       "count    175421.000000\n",
       "mean         13.395569\n",
       "std           4.330604\n",
       "min           6.000000\n",
       "25%          10.150000\n",
       "50%          12.990000\n",
       "75%          15.610000\n",
       "max          26.060000\n",
       "Name: int_rate, dtype: float64"
      ]
     },
     "execution_count": 41,
     "metadata": {},
     "output_type": "execute_result"
    }
   ],
   "source": [
    "loans['int_rate'].describe()"
   ]
  },
  {
   "cell_type": "markdown",
   "metadata": {
    "_uuid": "d8afea343bab6f8fef2ed3b04d8dcf32a8b1b002"
   },
   "source": [
    "Interest rates range from 5.32% to 30.99% (!) with a median of 13.1%."
   ]
  },
  {
   "cell_type": "code",
   "execution_count": 42,
   "metadata": {
    "_uuid": "68a3574dadbbce75c73a47f7cf9db584ce4bc937"
   },
   "outputs": [
    {
     "data": {
      "image/png": "[encoded data removed]",
      "text/plain": [
       "<Figure size 1080x270 with 2 Axes>"
      ]
     },
     "metadata": {},
     "output_type": "display_data"
    }
   ],
   "source": [
    "plot_var('int_rate', 'Interest Rate', continuous=True)"
   ]
  },
  {
   "cell_type": "markdown",
   "metadata": {
    "_cell_guid": "1fd2a00f-0f95-481c-b9ff-d26526eb5f04",
    "_uuid": "321c4fb18ebd1bcf6689d7a5d3f23f80752bcfb3"
   },
   "source": [
    "Charged-off loans tend to have much higher interest rates. Let's compare the summary statistics by loan status:"
   ]
  },
  {
   "cell_type": "code",
   "execution_count": 43,
   "metadata": {
    "_uuid": "80b55c5e802619bc4355d97829a361b1cce8d6fb"
   },
   "outputs": [
    {
     "data": {
      "text/html": [
       "<div>\n",
       "<style scoped>\n",
       "    .dataframe tbody tr th:only-of-type {\n",
       "        vertical-align: middle;\n",
       "    }\n",
       "\n",
       "    .dataframe tbody tr th {\n",
       "        vertical-align: top;\n",
       "    }\n",
       "\n",
       "    .dataframe thead th {\n",
       "        text-align: right;\n",
       "    }\n",
       "</style>\n",
       "<table border=\"1\" class=\"dataframe\">\n",
       "  <thead>\n",
       "    <tr style=\"text-align: right;\">\n",
       "      <th></th>\n",
       "      <th>count</th>\n",
       "      <th>mean</th>\n",
       "      <th>std</th>\n",
       "      <th>min</th>\n",
       "      <th>25%</th>\n",
       "      <th>50%</th>\n",
       "      <th>75%</th>\n",
       "      <th>max</th>\n",
       "    </tr>\n",
       "    <tr>\n",
       "      <th>loan_status</th>\n",
       "      <th></th>\n",
       "      <th></th>\n",
       "      <th></th>\n",
       "      <th></th>\n",
       "      <th></th>\n",
       "      <th></th>\n",
       "      <th></th>\n",
       "      <th></th>\n",
       "    </tr>\n",
       "  </thead>\n",
       "  <tbody>\n",
       "    <tr>\n",
       "      <th>Charged Off</th>\n",
       "      <td>32691.0</td>\n",
       "      <td>15.819228</td>\n",
       "      <td>4.252901</td>\n",
       "      <td>6.0</td>\n",
       "      <td>12.99</td>\n",
       "      <td>15.59</td>\n",
       "      <td>18.54</td>\n",
       "      <td>26.06</td>\n",
       "    </tr>\n",
       "    <tr>\n",
       "      <th>Fully Paid</th>\n",
       "      <td>142730.0</td>\n",
       "      <td>12.840453</td>\n",
       "      <td>4.153726</td>\n",
       "      <td>6.0</td>\n",
       "      <td>9.49</td>\n",
       "      <td>12.99</td>\n",
       "      <td>15.31</td>\n",
       "      <td>26.06</td>\n",
       "    </tr>\n",
       "  </tbody>\n",
       "</table>\n",
       "</div>"
      ],
      "text/plain": [
       "                count       mean       std  min    25%    50%    75%    max\n",
       "loan_status                                                                \n",
       "Charged Off   32691.0  15.819228  4.252901  6.0  12.99  15.59  18.54  26.06\n",
       "Fully Paid   142730.0  12.840453  4.153726  6.0   9.49  12.99  15.31  26.06"
      ]
     },
     "execution_count": 43,
     "metadata": {},
     "output_type": "execute_result"
    }
   ],
   "source": [
    "loans.groupby('loan_status')['int_rate'].describe()"
   ]
  },
  {
   "cell_type": "markdown",
   "metadata": {
    "_uuid": "69010cf27e356e99f2458cc7998a081305a27699"
   },
   "source": [
    "## 5.5 installment"
   ]
  },
  {
   "cell_type": "markdown",
   "metadata": {
    "_uuid": "de60b44e703ecafd09e9d737e2d21eaac88bb14c"
   },
   "source": [
    "Data Dictionary: \"The monthly payment owed by the borrower if the loan originates.\""
   ]
  },
  {
   "cell_type": "code",
   "execution_count": 44,
   "metadata": {
    "_uuid": "da0806285ffdb08c656b7e2df85f92896543edbc"
   },
   "outputs": [
    {
     "data": {
      "text/plain": [
       "count    175421.000000\n",
       "mean        433.309001\n",
       "std         250.062811\n",
       "min          23.360000\n",
       "25%         251.560000\n",
       "50%         373.220000\n",
       "75%         570.840000\n",
       "max        1409.990000\n",
       "Name: installment, dtype: float64"
      ]
     },
     "execution_count": 44,
     "metadata": {},
     "output_type": "execute_result"
    }
   ],
   "source": [
    "loans['installment'].describe()"
   ]
  },
  {
   "cell_type": "markdown",
   "metadata": {
    "_uuid": "a6db3a10f7d5588f3e269d0f9a72587d93f5b144"
   },
   "source": [
    "Installments range from \\$4.93 to \\$1,714, with a median of \\$377."
   ]
  },
  {
   "cell_type": "code",
   "execution_count": 45,
   "metadata": {
    "_uuid": "ac3d18cd16e8e4bbb560cba3903e44cdbf5e901f"
   },
   "outputs": [
    {
     "data": {
      "image/png": "[encoded data removed]",
      "text/plain": [
       "<Figure size 1080x270 with 2 Axes>"
      ]
     },
     "metadata": {},
     "output_type": "display_data"
    }
   ],
   "source": [
    "plot_var('installment', 'Installment', continuous=True)"
   ]
  },
  {
   "cell_type": "markdown",
   "metadata": {
    "_cell_guid": "1fd2a00f-0f95-481c-b9ff-d26526eb5f04",
    "_uuid": "321c4fb18ebd1bcf6689d7a5d3f23f80752bcfb3"
   },
   "source": [
    "Charged-off loans tend to have higher installments. Let's compare the summary statistics by loan status:"
   ]
  },
  {
   "cell_type": "code",
   "execution_count": 46,
   "metadata": {
    "_uuid": "4049b2bf62e31bf9f62e7aeed599ff1af2af6759"
   },
   "outputs": [
    {
     "data": {
      "text/html": [
       "<div>\n",
       "<style scoped>\n",
       "    .dataframe tbody tr th:only-of-type {\n",
       "        vertical-align: middle;\n",
       "    }\n",
       "\n",
       "    .dataframe tbody tr th {\n",
       "        vertical-align: top;\n",
       "    }\n",
       "\n",
       "    .dataframe thead th {\n",
       "        text-align: right;\n",
       "    }\n",
       "</style>\n",
       "<table border=\"1\" class=\"dataframe\">\n",
       "  <thead>\n",
       "    <tr style=\"text-align: right;\">\n",
       "      <th></th>\n",
       "      <th>count</th>\n",
       "      <th>mean</th>\n",
       "      <th>std</th>\n",
       "      <th>min</th>\n",
       "      <th>25%</th>\n",
       "      <th>50%</th>\n",
       "      <th>75%</th>\n",
       "      <th>max</th>\n",
       "    </tr>\n",
       "    <tr>\n",
       "      <th>loan_status</th>\n",
       "      <th></th>\n",
       "      <th></th>\n",
       "      <th></th>\n",
       "      <th></th>\n",
       "      <th></th>\n",
       "      <th></th>\n",
       "      <th></th>\n",
       "      <th></th>\n",
       "    </tr>\n",
       "  </thead>\n",
       "  <tbody>\n",
       "    <tr>\n",
       "      <th>Charged Off</th>\n",
       "      <td>32691.0</td>\n",
       "      <td>450.669499</td>\n",
       "      <td>239.545709</td>\n",
       "      <td>30.44</td>\n",
       "      <td>278.54</td>\n",
       "      <td>394.13</td>\n",
       "      <td>580.435</td>\n",
       "      <td>1408.13</td>\n",
       "    </tr>\n",
       "    <tr>\n",
       "      <th>Fully Paid</th>\n",
       "      <td>142730.0</td>\n",
       "      <td>429.332738</td>\n",
       "      <td>252.242681</td>\n",
       "      <td>23.36</td>\n",
       "      <td>245.16</td>\n",
       "      <td>367.74</td>\n",
       "      <td>568.010</td>\n",
       "      <td>1409.99</td>\n",
       "    </tr>\n",
       "  </tbody>\n",
       "</table>\n",
       "</div>"
      ],
      "text/plain": [
       "                count        mean         std    min     25%     50%      75%  \\\n",
       "loan_status                                                                     \n",
       "Charged Off   32691.0  450.669499  239.545709  30.44  278.54  394.13  580.435   \n",
       "Fully Paid   142730.0  429.332738  252.242681  23.36  245.16  367.74  568.010   \n",
       "\n",
       "                 max  \n",
       "loan_status           \n",
       "Charged Off  1408.13  \n",
       "Fully Paid   1409.99  "
      ]
     },
     "execution_count": 46,
     "metadata": {},
     "output_type": "execute_result"
    }
   ],
   "source": [
    "loans.groupby('loan_status')['installment'].describe()"
   ]
  },
  {
   "cell_type": "markdown",
   "metadata": {
    "_uuid": "0bfb855f202210e7f0ef93b7b4fba2f0f10332d1"
   },
   "source": [
    "Loans that charge off have \\$30 higher installments on average."
   ]
  },
  {
   "cell_type": "markdown",
   "metadata": {
    "_cell_guid": "1b745ce5-987f-45b9-8e3f-6d5f760e3a7c",
    "_uuid": "687c301f0bd5f40efdeca5307e9d0cb6a1fb6161"
   },
   "source": [
    "## 5.6 grade, sub_grade"
   ]
  },
  {
   "cell_type": "markdown",
   "metadata": {
    "_uuid": "9eb0727bb28ab80ba2c3b1300a079256da360537"
   },
   "source": [
    "Data Dictionary for `grade`: \"LendingClub assigned loan grade.\"\n",
    "\n",
    "Data Dictionary for `sub_grade`: \"LendingClub assigned loan subgrade.\"\n",
    "\n",
    "What are the possible values of `grade` and `sub_grade`?"
   ]
  },
  {
   "cell_type": "code",
   "execution_count": 47,
   "metadata": {
    "_uuid": "6403890cc7037a7c67c7b7aa9d48250647b4d0a2"
   },
   "outputs": [
    {
     "name": "stdout",
     "output_type": "stream",
     "text": [
      "['A', 'B', 'C', 'D', 'E', 'F', 'G']\n"
     ]
    }
   ],
   "source": [
    "print(sorted(loans['grade'].unique()))"
   ]
  },
  {
   "cell_type": "code",
   "execution_count": 48,
   "metadata": {
    "_uuid": "94b94f61439057a90672001d9aa02422b6457ad7",
    "scrolled": true
   },
   "outputs": [
    {
     "name": "stdout",
     "output_type": "stream",
     "text": [
      "['A1', 'A2', 'A3', 'A4', 'A5', 'B1', 'B2', 'B3', 'B4', 'B5', 'C1', 'C2', 'C3', 'C4', 'C5', 'D1', 'D2', 'D3', 'D4', 'D5', 'E1', 'E2', 'E3', 'E4', 'E5', 'F1', 'F2', 'F3', 'F4', 'F5', 'G1', 'G2', 'G3', 'G4', 'G5']\n"
     ]
    }
   ],
   "source": [
    "print(sorted(loans['sub_grade'].unique()))"
   ]
  },
  {
   "cell_type": "markdown",
   "metadata": {
    "_cell_guid": "b1d34f86-4ffb-4024-ad0f-714bd5cb3f21",
    "_uuid": "efb24fbebc6a4b092a37b79e7fb6f29133d3315a"
   },
   "source": [
    "The grade is implied by the subgrade, so let's drop the grade column."
   ]
  },
  {
   "cell_type": "code",
   "execution_count": 49,
   "metadata": {
    "_cell_guid": "9c00600b-0a58-4648-9448-4e960b705eb6",
    "_uuid": "a46021ef96a484732a847ed2f3cece9d423f73ec"
   },
   "outputs": [],
   "source": [
    "loans.drop('grade', axis=1, inplace=True)"
   ]
  },
  {
   "cell_type": "code",
   "execution_count": 50,
   "metadata": {
    "_uuid": "68a3be24bccbfbef0c941d0b72f660fa79cb2c49"
   },
   "outputs": [
    {
     "data": {
      "image/png": "[encoded data removed]",
      "text/plain": [
       "<Figure size 1080x270 with 2 Axes>"
      ]
     },
     "metadata": {},
     "output_type": "display_data"
    }
   ],
   "source": [
    "plot_var('sub_grade', 'Subgrade', continuous=False)"
   ]
  },
  {
   "cell_type": "markdown",
   "metadata": {
    "_cell_guid": "e53dbddd-aff4-4d44-bc8e-a7637e953ab0",
    "_uuid": "cf7685607c32b9857f4fc0cce38c6feea215e2fe"
   },
   "source": [
    "There's a clear trend of higher probability of charge-off as the subgrade worsens."
   ]
  },
  {
   "cell_type": "markdown",
   "metadata": {
    "_uuid": "176d209faeba93fcda6dc874e0ea8873d93ddf36"
   },
   "source": [
    "## 5.7 emp_title"
   ]
  },
  {
   "cell_type": "markdown",
   "metadata": {
    "_uuid": "09bbce0a755b580414baa471edbdad512f1a7c8c"
   },
   "source": [
    "Data Dictionary: \"The job title supplied by the Borrower when applying for the loan.\""
   ]
  },
  {
   "cell_type": "code",
   "execution_count": 51,
   "metadata": {
    "_uuid": "0f596ada42ac82c1db638803a0428a8aa3e5e4f0"
   },
   "outputs": [
    {
     "data": {
      "text/plain": [
       "count      166394\n",
       "unique      59349\n",
       "top       Teacher\n",
       "freq         3279\n",
       "Name: emp_title, dtype: object"
      ]
     },
     "execution_count": 51,
     "metadata": {},
     "output_type": "execute_result"
    }
   ],
   "source": [
    "loans['emp_title'].describe()"
   ]
  },
  {
   "cell_type": "markdown",
   "metadata": {
    "_uuid": "b2a9b7fcde5483287263d897cb8e537efbbfdf79"
   },
   "source": [
    "There are too many different job titles for this feature to be useful, so we drop it."
   ]
  },
  {
   "cell_type": "code",
   "execution_count": 52,
   "metadata": {
    "_uuid": "019bb5ce0654b539155a5a92a53a961cd3cb6f0a"
   },
   "outputs": [],
   "source": [
    "loans.drop(labels='emp_title', axis=1, inplace=True)"
   ]
  },
  {
   "cell_type": "markdown",
   "metadata": {
    "_cell_guid": "98efbb15-f5d7-42ef-992a-92bb0860a803",
    "_uuid": "e84911043e002622f7c181e2be71d09ac277dbc8"
   },
   "source": [
    "## 5.8 emp_length"
   ]
  },
  {
   "cell_type": "markdown",
   "metadata": {
    "_uuid": "de9e35fb71df64e54381182fb7b94e0ebaa6a326"
   },
   "source": [
    "Data Dictionary: \"Employment length in years. Possible values are between 0 and 10 where 0 means less than one year and 10 means ten or more years.\" The actual data does not match this description:"
   ]
  },
  {
   "cell_type": "code",
   "execution_count": 53,
   "metadata": {
    "_cell_guid": "a60d507b-dc0d-4e44-912e-0d214b1b85a9",
    "_uuid": "372fd175e1e4458f8a9bc860fd91798d696892be"
   },
   "outputs": [
    {
     "data": {
      "text/plain": [
       "1 year       11174\n",
       "10+ years    57590\n",
       "2 years      15556\n",
       "3 years      13793\n",
       "4 years      10371\n",
       "5 years       9612\n",
       "6 years       8799\n",
       "7 years       9711\n",
       "8 years       8907\n",
       "9 years       7103\n",
       "< 1 year     13788\n",
       "NaN           9017\n",
       "Name: emp_length, dtype: int64"
      ]
     },
     "execution_count": 53,
     "metadata": {},
     "output_type": "execute_result"
    }
   ],
   "source": [
    "loans['emp_length'].value_counts(dropna=False).sort_index()"
   ]
  },
  {
   "cell_type": "markdown",
   "metadata": {
    "_uuid": "6d2cb6f524058af4c44e7a8a23f655aa5b031f53"
   },
   "source": [
    "Note there are 42,253 loans without data on the length of employment.\n",
    "\n",
    "Convert `emp_length` to integers:"
   ]
  },
  {
   "cell_type": "code",
   "execution_count": 54,
   "metadata": {
    "_uuid": "d0391a976bbf82fcb83a3d6f63f9ca6bf3266972"
   },
   "outputs": [],
   "source": [
    "loans['emp_length'].replace(to_replace='10+ years', value='10 years', inplace=True)"
   ]
  },
  {
   "cell_type": "code",
   "execution_count": 55,
   "metadata": {
    "_uuid": "58d4ab69614601a658ac288c1878a2b9295cf10f"
   },
   "outputs": [],
   "source": [
    "loans['emp_length'].replace('< 1 year', '0 years', inplace=True)"
   ]
  },
  {
   "cell_type": "code",
   "execution_count": 56,
   "metadata": {
    "_cell_guid": "f5ce8306-8ca3-4a78-8332-7a12fd233f98",
    "_uuid": "fc61f2f288d38767f5fa1e3f7df5b58c7bc52a35"
   },
   "outputs": [],
   "source": [
    "def emp_length_to_int(s):\n",
    "    if pd.isnull(s):\n",
    "        return s\n",
    "    else:\n",
    "        return np.int8(s.split()[0])"
   ]
  },
  {
   "cell_type": "code",
   "execution_count": 57,
   "metadata": {
    "_cell_guid": "f5ce8306-8ca3-4a78-8332-7a12fd233f98",
    "_uuid": "fc61f2f288d38767f5fa1e3f7df5b58c7bc52a35"
   },
   "outputs": [],
   "source": [
    "loans['emp_length'] = loans['emp_length'].apply(emp_length_to_int)"
   ]
  },
  {
   "cell_type": "code",
   "execution_count": 58,
   "metadata": {
    "_cell_guid": "f5ce8306-8ca3-4a78-8332-7a12fd233f98",
    "_uuid": "fc61f2f288d38767f5fa1e3f7df5b58c7bc52a35"
   },
   "outputs": [
    {
     "data": {
      "text/plain": [
       "0.0     13788\n",
       "1.0     11174\n",
       "2.0     15556\n",
       "3.0     13793\n",
       "4.0     10371\n",
       "5.0      9612\n",
       "6.0      8799\n",
       "7.0      9711\n",
       "8.0      8907\n",
       "9.0      7103\n",
       "10.0    57590\n",
       "NaN      9017\n",
       "Name: emp_length, dtype: int64"
      ]
     },
     "execution_count": 58,
     "metadata": {},
     "output_type": "execute_result"
    }
   ],
   "source": [
    "loans['emp_length'].value_counts(dropna=False).sort_index()"
   ]
  },
  {
   "cell_type": "code",
   "execution_count": 59,
   "metadata": {
    "_uuid": "ed062f960c9fb30cb1d5dbd4892a319b12814d8b"
   },
   "outputs": [
    {
     "data": {
      "image/png": "[encoded data removed]",
      "text/plain": [
       "<Figure size 1080x270 with 2 Axes>"
      ]
     },
     "metadata": {},
     "output_type": "display_data"
    }
   ],
   "source": [
    "plot_var('emp_length', 'Employment Length', continuous=False)"
   ]
  },
  {
   "cell_type": "markdown",
   "metadata": {
    "_uuid": "1301a21538be386af061a7eaf967ed3714d924b6"
   },
   "source": [
    "Loan status does not appear to vary much with employment length on average, except for a small drop in charge-offs for borrowers with over 10 years of employment."
   ]
  },
  {
   "cell_type": "markdown",
   "metadata": {
    "_cell_guid": "e994c5db-880e-4ec0-8cbd-4aacad373993",
    "_uuid": "332158cff90d2e051f5a80bee5983019ada32a30"
   },
   "source": [
    "## 5.9 home_ownership"
   ]
  },
  {
   "cell_type": "markdown",
   "metadata": {
    "_uuid": "267058a2938fbadf9cc48efe9fe6474aa65ab95b"
   },
   "source": [
    "Data Dictionary: \"The home ownership status provided by the borrower during registration or obtained from the credit report. Our values are: RENT, OWN, MORTGAGE, OTHER.\""
   ]
  },
  {
   "cell_type": "code",
   "execution_count": 60,
   "metadata": {
    "_cell_guid": "d574efb7-1a6b-4ec2-a446-827d75d0d9cf",
    "_uuid": "017c6be384f35a700cebfa761dbaee4ec6b73256"
   },
   "outputs": [
    {
     "data": {
      "text/plain": [
       "MORTGAGE    86633\n",
       "RENT        71430\n",
       "OWN         17357\n",
       "ANY             1\n",
       "Name: home_ownership, dtype: int64"
      ]
     },
     "execution_count": 60,
     "metadata": {},
     "output_type": "execute_result"
    }
   ],
   "source": [
    "loans['home_ownership'].value_counts(dropna=False)"
   ]
  },
  {
   "cell_type": "markdown",
   "metadata": {
    "_uuid": "026cafca68a89a5e27e0de6dbe0416540e1ebfb5"
   },
   "source": [
    "Replace the values `ANY` and `NONE` with `OTHER`:"
   ]
  },
  {
   "cell_type": "code",
   "execution_count": 61,
   "metadata": {
    "_uuid": "98e072c98be007e9ad879bd642a3f28d17cf0ef5"
   },
   "outputs": [],
   "source": [
    "loans['home_ownership'].replace(['NONE', 'ANY'], 'OTHER', inplace=True)"
   ]
  },
  {
   "cell_type": "code",
   "execution_count": 62,
   "metadata": {
    "_uuid": "5311d93a7dbdf5fd53fa3e0dbaf1619e292755b9"
   },
   "outputs": [
    {
     "data": {
      "text/plain": [
       "MORTGAGE    86633\n",
       "RENT        71430\n",
       "OWN         17357\n",
       "OTHER           1\n",
       "Name: home_ownership, dtype: int64"
      ]
     },
     "execution_count": 62,
     "metadata": {},
     "output_type": "execute_result"
    }
   ],
   "source": [
    "loans['home_ownership'].value_counts(dropna=False)"
   ]
  },
  {
   "cell_type": "code",
   "execution_count": 63,
   "metadata": {
    "_uuid": "fecf1daf53d2fbbfd7626b1dfeda7c8c4d68ce70"
   },
   "outputs": [
    {
     "data": {
      "image/png": "[encoded data removed]",
      "text/plain": [
       "<Figure size 1080x270 with 2 Axes>"
      ]
     },
     "metadata": {},
     "output_type": "display_data"
    }
   ],
   "source": [
    "plot_var('home_ownership', 'Home Ownership', continuous=False)"
   ]
  },
  {
   "cell_type": "markdown",
   "metadata": {
    "_uuid": "b840f99998fc7cbfd7e395f7b06b7b2da46231f5"
   },
   "source": [
    "There appear to be large differences in charge-off rates by home ownership status. Renters and homeowners have a higher probability of charge-off. Let's compare the charge-off rates:"
   ]
  },
  {
   "cell_type": "code",
   "execution_count": 64,
   "metadata": {
    "_uuid": "76bc94460d1679808d930020cd3d8c912853ab02"
   },
   "outputs": [
    {
     "data": {
      "text/plain": [
       "home_ownership\n",
       "MORTGAGE    0.165676\n",
       "OWN         0.188742\n",
       "RENT        0.210864\n",
       "Name: loan_status, dtype: float64"
      ]
     },
     "execution_count": 64,
     "metadata": {},
     "output_type": "execute_result"
    }
   ],
   "source": [
    "loans.groupby('home_ownership')['loan_status'].value_counts(normalize=True).loc[:,'Charged Off']"
   ]
  },
  {
   "cell_type": "markdown",
   "metadata": {
    "_uuid": "65606df932385c3701a621e1b28675e327cb4694"
   },
   "source": [
    "## 5.10 annual_inc"
   ]
  },
  {
   "cell_type": "markdown",
   "metadata": {
    "_uuid": "65b83b1fcba64ad4b9ee8fddfdcced4eb6f23c4d"
   },
   "source": [
    "Data Dictionary: \"The self-reported annual income provided by the borrower during registration.\""
   ]
  },
  {
   "cell_type": "code",
   "execution_count": 65,
   "metadata": {
    "_uuid": "7fa40eca6b607ce35b5f34d1d02ddc963fdf0074"
   },
   "outputs": [
    {
     "data": {
      "text/plain": [
       "count    1.754210e+05\n",
       "mean     7.397439e+04\n",
       "std      5.393443e+04\n",
       "min      3.000000e+03\n",
       "25%      4.500000e+04\n",
       "50%      6.300000e+04\n",
       "75%      9.000000e+04\n",
       "max      7.500000e+06\n",
       "Name: annual_inc, dtype: float64"
      ]
     },
     "execution_count": 65,
     "metadata": {},
     "output_type": "execute_result"
    }
   ],
   "source": [
    "loans['annual_inc'].describe()"
   ]
  },
  {
   "cell_type": "markdown",
   "metadata": {
    "_uuid": "8528a8d00474e62dcc0aa9f4aa5eec2e4b232451"
   },
   "source": [
    "Annual income ranges from \\$0 to \\$9,550,000, with a median of \\$65,000. Because of the large range of incomes, we should take a log transform of the annual income variable."
   ]
  },
  {
   "cell_type": "code",
   "execution_count": 66,
   "metadata": {
    "_uuid": "629e0a263df7c3f174251bceb46a0f7b56763af5"
   },
   "outputs": [],
   "source": [
    "loans['log_annual_inc'] = loans['annual_inc'].apply(lambda x: np.log10(x+1))"
   ]
  },
  {
   "cell_type": "code",
   "execution_count": 67,
   "metadata": {
    "_uuid": "f5da594512f3e0bda4dbcff7f14d4960d117a090"
   },
   "outputs": [],
   "source": [
    "loans.drop('annual_inc', axis=1, inplace=True)"
   ]
  },
  {
   "cell_type": "code",
   "execution_count": 68,
   "metadata": {
    "_uuid": "26692c73baef3581133ce39ad3589e8f95a06a09"
   },
   "outputs": [
    {
     "data": {
      "text/plain": [
       "count    175421.000000\n",
       "mean          4.804152\n",
       "std           0.230515\n",
       "min           3.477266\n",
       "25%           4.653222\n",
       "50%           4.799347\n",
       "75%           4.954247\n",
       "max           6.875061\n",
       "Name: log_annual_inc, dtype: float64"
      ]
     },
     "execution_count": 68,
     "metadata": {},
     "output_type": "execute_result"
    }
   ],
   "source": [
    "loans['log_annual_inc'].describe()"
   ]
  },
  {
   "cell_type": "code",
   "execution_count": 69,
   "metadata": {
    "_uuid": "f46d1c2e9acf9abe31d10da67e0983fe5ac97465"
   },
   "outputs": [
    {
     "data": {
      "image/png": "[encoded data removed]",
      "text/plain": [
       "<Figure size 1080x270 with 2 Axes>"
      ]
     },
     "metadata": {},
     "output_type": "display_data"
    }
   ],
   "source": [
    "plot_var('log_annual_inc', 'Log Annual Income', continuous=True)"
   ]
  },
  {
   "cell_type": "markdown",
   "metadata": {
    "_uuid": "f940872d6034e5fdeb1b4561a926fb2e3ce3b0d2"
   },
   "source": [
    "It appears that individuals with higher income are more likely to pay off their loans. Let's compare the summary statistics by loan status:"
   ]
  },
  {
   "cell_type": "code",
   "execution_count": 70,
   "metadata": {
    "_uuid": "3db85420d3a989d7a4890854e14c9122ce83142a"
   },
   "outputs": [
    {
     "data": {
      "text/html": [
       "<div>\n",
       "<style scoped>\n",
       "    .dataframe tbody tr th:only-of-type {\n",
       "        vertical-align: middle;\n",
       "    }\n",
       "\n",
       "    .dataframe tbody tr th {\n",
       "        vertical-align: top;\n",
       "    }\n",
       "\n",
       "    .dataframe thead th {\n",
       "        text-align: right;\n",
       "    }\n",
       "</style>\n",
       "<table border=\"1\" class=\"dataframe\">\n",
       "  <thead>\n",
       "    <tr style=\"text-align: right;\">\n",
       "      <th></th>\n",
       "      <th>count</th>\n",
       "      <th>mean</th>\n",
       "      <th>std</th>\n",
       "      <th>min</th>\n",
       "      <th>25%</th>\n",
       "      <th>50%</th>\n",
       "      <th>75%</th>\n",
       "      <th>max</th>\n",
       "    </tr>\n",
       "    <tr>\n",
       "      <th>loan_status</th>\n",
       "      <th></th>\n",
       "      <th></th>\n",
       "      <th></th>\n",
       "      <th></th>\n",
       "      <th></th>\n",
       "      <th></th>\n",
       "      <th></th>\n",
       "      <th></th>\n",
       "    </tr>\n",
       "  </thead>\n",
       "  <tbody>\n",
       "    <tr>\n",
       "      <th>Charged Off</th>\n",
       "      <td>32691.0</td>\n",
       "      <td>4.770070</td>\n",
       "      <td>0.220750</td>\n",
       "      <td>3.602169</td>\n",
       "      <td>4.623260</td>\n",
       "      <td>4.778064</td>\n",
       "      <td>4.903095</td>\n",
       "      <td>6.875061</td>\n",
       "    </tr>\n",
       "    <tr>\n",
       "      <th>Fully Paid</th>\n",
       "      <td>142730.0</td>\n",
       "      <td>4.811958</td>\n",
       "      <td>0.231991</td>\n",
       "      <td>3.477266</td>\n",
       "      <td>4.653222</td>\n",
       "      <td>4.812920</td>\n",
       "      <td>4.954247</td>\n",
       "      <td>6.690196</td>\n",
       "    </tr>\n",
       "  </tbody>\n",
       "</table>\n",
       "</div>"
      ],
      "text/plain": [
       "                count      mean       std       min       25%       50%  \\\n",
       "loan_status                                                               \n",
       "Charged Off   32691.0  4.770070  0.220750  3.602169  4.623260  4.778064   \n",
       "Fully Paid   142730.0  4.811958  0.231991  3.477266  4.653222  4.812920   \n",
       "\n",
       "                  75%       max  \n",
       "loan_status                      \n",
       "Charged Off  4.903095  6.875061  \n",
       "Fully Paid   4.954247  6.690196  "
      ]
     },
     "execution_count": 70,
     "metadata": {},
     "output_type": "execute_result"
    }
   ],
   "source": [
    "loans.groupby('loan_status')['log_annual_inc'].describe()"
   ]
  },
  {
   "cell_type": "markdown",
   "metadata": {
    "_cell_guid": "119da036-552d-4a95-a61f-7fdd464bcf5b",
    "_uuid": "840799ab7f984830bf29f0b677f4f14b672d4253"
   },
   "source": [
    "## 5.11 verification_status"
   ]
  },
  {
   "cell_type": "markdown",
   "metadata": {
    "_uuid": "bdd838e4d41f6d75d04d870b8df168a7ba7583ab"
   },
   "source": [
    "Data Dictionary: \"Indicates if income was verified by [Lending Club], not verified, or if the income source was verified.\""
   ]
  },
  {
   "cell_type": "code",
   "execution_count": 71,
   "metadata": {
    "_uuid": "7943b3cb9228cf5a4b85acbdbae34bf45320a32f"
   },
   "outputs": [
    {
     "data": {
      "image/png": "[encoded data removed]",
      "text/plain": [
       "<Figure size 1080x270 with 2 Axes>"
      ]
     },
     "metadata": {},
     "output_type": "display_data"
    }
   ],
   "source": [
    "plot_var('verification_status', 'Verification Status', continuous=False)"
   ]
  },
  {
   "cell_type": "markdown",
   "metadata": {
    "_uuid": "b800dc7016a63c31420307ca966e6ea8f746d90b"
   },
   "source": [
    "## 5.12 issue_d"
   ]
  },
  {
   "cell_type": "markdown",
   "metadata": {
    "_uuid": "db9d278aafb51cbe458d569a21e248e4caece73c"
   },
   "source": [
    "Data Dictionary: \"The month which the loan was funded.\"\n",
    "\n",
    "Because we're only using variables available to investors before the loan was funded, `issue_d` will not be included in the final model. We're keeping it for now just to perform the train/test split later, then we'll drop it."
   ]
  },
  {
   "cell_type": "markdown",
   "metadata": {
    "_cell_guid": "3a91aec4-9bc4-42d6-8c62-e3892a9a2754",
    "_uuid": "87124cd85754a1e6ef201217421ff2f50108cb2a"
   },
   "source": [
    "## 5.13 purpose"
   ]
  },
  {
   "cell_type": "markdown",
   "metadata": {
    "_uuid": "ee566a2316c9c7221e99520e5c4d65acbfaa2c85"
   },
   "source": [
    "Data Dictionary: \"A category provided by the borrower for the loan request.\""
   ]
  },
  {
   "cell_type": "code",
   "execution_count": 72,
   "metadata": {
    "_cell_guid": "9de7d1b4-212b-4478-88a2-a3176a03e982",
    "_uuid": "5d4c3c93e59ee2cde87f4fc5487b43c555c33faf"
   },
   "outputs": [
    {
     "data": {
      "text/plain": [
       "debt_consolidation    106366\n",
       "credit_card            40094\n",
       "home_improvement        9893\n",
       "other                   8317\n",
       "major_purchase          3019\n",
       "medical                 1823\n",
       "small_business          1631\n",
       "car                     1468\n",
       "moving                  1119\n",
       "vacation                 996\n",
       "house                    592\n",
       "renewable_energy          96\n",
       "wedding                    7\n",
       "Name: purpose, dtype: int64"
      ]
     },
     "execution_count": 72,
     "metadata": {},
     "output_type": "execute_result"
    }
   ],
   "source": [
    "loans['purpose'].value_counts()"
   ]
  },
  {
   "cell_type": "markdown",
   "metadata": {
    "_uuid": "e936d0cb2436cf6420470e108813579756305493"
   },
   "source": [
    "Calculate the charge-off rates by purpose:"
   ]
  },
  {
   "cell_type": "code",
   "execution_count": 73,
   "metadata": {
    "_uuid": "2d994abd68d7c93661ba101c8931137172d8b279"
   },
   "outputs": [
    {
     "data": {
      "text/plain": [
       "purpose\n",
       "car                   0.138283\n",
       "credit_card           0.157904\n",
       "home_improvement      0.165471\n",
       "major_purchase        0.173236\n",
       "vacation              0.177711\n",
       "other                 0.189612\n",
       "medical               0.195283\n",
       "debt_consolidation    0.197432\n",
       "renewable_energy      0.218750\n",
       "house                 0.224662\n",
       "moving                0.246649\n",
       "small_business        0.280196\n",
       "Name: loan_status, dtype: float64"
      ]
     },
     "execution_count": 73,
     "metadata": {},
     "output_type": "execute_result"
    }
   ],
   "source": [
    "loans.groupby('purpose')['loan_status'].value_counts(normalize=True).loc[:,'Charged Off'].sort_values()"
   ]
  },
  {
   "cell_type": "markdown",
   "metadata": {
    "_cell_guid": "240c20e9-6336-47c6-9d92-69cc73433966",
    "_uuid": "fab8e8d284e011c9da9fedfa1a586a409f77ea0b"
   },
   "source": [
    "Notice that only 13% of completed loans for cars have charged-off, but 28% of completed small business loans have charged-off."
   ]
  },
  {
   "cell_type": "markdown",
   "metadata": {
    "_uuid": "2581b89fca27f1d69122731d5703444e061138c5"
   },
   "source": [
    "## 5.14 title"
   ]
  },
  {
   "cell_type": "markdown",
   "metadata": {
    "_uuid": "8380f6c31fcbe300435354840a97292d0a04fb9a"
   },
   "source": [
    "Data Dictionary: \"The loan title provided by the borrower.\""
   ]
  },
  {
   "cell_type": "code",
   "execution_count": 74,
   "metadata": {
    "_uuid": "cdda39635718a035e89dc3d7fe90d5cd9b1e79cf"
   },
   "outputs": [
    {
     "data": {
      "text/plain": [
       "count                 175421\n",
       "unique                    33\n",
       "top       Debt consolidation\n",
       "freq                  106416\n",
       "Name: title, dtype: object"
      ]
     },
     "execution_count": 74,
     "metadata": {},
     "output_type": "execute_result"
    }
   ],
   "source": [
    "loans['title'].describe()"
   ]
  },
  {
   "cell_type": "markdown",
   "metadata": {
    "_uuid": "af49ee25241e78487df5840fee478258bb5028e7"
   },
   "source": [
    "View the top 10 loan titles, and their frequencies:"
   ]
  },
  {
   "cell_type": "code",
   "execution_count": 75,
   "metadata": {
    "_uuid": "dfc34183c9b46b21f253e45f1f4416b1b9b3067b"
   },
   "outputs": [
    {
     "data": {
      "text/plain": [
       "Debt consolidation         106416\n",
       "Credit card refinancing     40027\n",
       "Home improvement             9897\n",
       "Other                        8310\n",
       "Major purchase               3013\n",
       "Medical expenses             1827\n",
       "Business                     1630\n",
       "Car financing                1471\n",
       "Moving and relocation        1122\n",
       "Vacation                      993\n",
       "Name: title, dtype: int64"
      ]
     },
     "execution_count": 75,
     "metadata": {},
     "output_type": "execute_result"
    }
   ],
   "source": [
    "loans['title'].value_counts().head(10)"
   ]
  },
  {
   "cell_type": "markdown",
   "metadata": {
    "_uuid": "8f5af45b8e3673d6d7e65ed8907228474a689ea3"
   },
   "source": [
    "There are 60,298 different titles in the dataset, and based on the top 10 titles, the `purpose` variable appears to already contain this information. So we drop the `title` variable."
   ]
  },
  {
   "cell_type": "code",
   "execution_count": 76,
   "metadata": {
    "_uuid": "5dbf1388adbb7e82d03453800dd4f07539548d2d"
   },
   "outputs": [],
   "source": [
    "loans.drop('title', axis=1, inplace=True)"
   ]
  },
  {
   "cell_type": "markdown",
   "metadata": {
    "_cell_guid": "b6908ad9-66be-4a38-8e45-bacde206e987",
    "_uuid": "f68d4795cca9861dd340a2c155c0b956ae9f53fa"
   },
   "source": [
    "## 5.15 zip_code, addr_state"
   ]
  },
  {
   "cell_type": "markdown",
   "metadata": {
    "_uuid": "8aae00d3fdc7c6024867aa13898bbb9f497ec41c"
   },
   "source": [
    "Data Dictionary for `zip_code`: \"The first 3 numbers of the zip code provided by the borrower in the loan application.\"\n",
    "\n",
    "Data Dictionary for `addr_state`: \"The state provided by the borrower in the loan application.\""
   ]
  },
  {
   "cell_type": "code",
   "execution_count": 77,
   "metadata": {
    "_uuid": "229f0e1973578d67d9eba581c4752381b7791b0f"
   },
   "outputs": [
    {
     "data": {
      "text/plain": [
       "46831     483xx\n",
       "47939     432xx\n",
       "148318    357xx\n",
       "154694    336xx\n",
       "184698    247xx\n",
       "Name: zip_code, dtype: object"
      ]
     },
     "execution_count": 77,
     "metadata": {},
     "output_type": "execute_result"
    }
   ],
   "source": [
    "loans['zip_code'].sample(5)"
   ]
  },
  {
   "cell_type": "code",
   "execution_count": 78,
   "metadata": {
    "_uuid": "5479d6d3285a343e1c3b9c12388ba8368ff7edcb"
   },
   "outputs": [
    {
     "data": {
      "text/plain": [
       "860"
      ]
     },
     "execution_count": 78,
     "metadata": {},
     "output_type": "execute_result"
    }
   ],
   "source": [
    "loans['zip_code'].nunique()"
   ]
  },
  {
   "cell_type": "code",
   "execution_count": 79,
   "metadata": {
    "_uuid": "934ad57bec83db1ad928e9fb6a9b2454e0048268"
   },
   "outputs": [
    {
     "data": {
      "text/plain": [
       "56391     NY\n",
       "189800    CA\n",
       "11036     TX\n",
       "78762     CA\n",
       "181673    MA\n",
       "Name: addr_state, dtype: object"
      ]
     },
     "execution_count": 79,
     "metadata": {},
     "output_type": "execute_result"
    }
   ],
   "source": [
    "loans['addr_state'].sample(5)"
   ]
  },
  {
   "cell_type": "code",
   "execution_count": 80,
   "metadata": {
    "_uuid": "84d6f45f96adc6293858f311993cef781614ef6d"
   },
   "outputs": [
    {
     "data": {
      "text/plain": [
       "47"
      ]
     },
     "execution_count": 80,
     "metadata": {},
     "output_type": "execute_result"
    }
   ],
   "source": [
    "loans['addr_state'].nunique()"
   ]
  },
  {
   "cell_type": "markdown",
   "metadata": {
    "_cell_guid": "a2485d09-8385-427d-9bcb-7c47b8034e53",
    "_uuid": "69aa28976c0826de8e461d39c5e3b5bfdf49e61c"
   },
   "source": [
    "There are a lot of different zip codes, so let's just keep the state column."
   ]
  },
  {
   "cell_type": "code",
   "execution_count": 81,
   "metadata": {
    "_cell_guid": "aef7a94f-613c-4137-86f2-d0591ea3a4bc",
    "_uuid": "d6d4c635eb86b895acda91d0cc1fa38327a96e7d"
   },
   "outputs": [],
   "source": [
    "loans.drop(labels='zip_code', axis=1, inplace=True)"
   ]
  },
  {
   "cell_type": "markdown",
   "metadata": {
    "_uuid": "607b05af73b4c7982d976a36eb19991f0b167abb"
   },
   "source": [
    "Calculate the charge-off rates by address state:"
   ]
  },
  {
   "cell_type": "code",
   "execution_count": 82,
   "metadata": {
    "_uuid": "48f9b89b369bf944b74f96a92aa36dbe53b89f2c",
    "scrolled": true
   },
   "outputs": [
    {
     "data": {
      "text/plain": [
       "addr_state\n",
       "DC    0.124000\n",
       "NH    0.128878\n",
       "VT    0.141791\n",
       "KS    0.144275\n",
       "OR    0.144895\n",
       "CO    0.147849\n",
       "WA    0.150724\n",
       "CT    0.155547\n",
       "SC    0.158166\n",
       "WV    0.161036\n",
       "IL    0.163110\n",
       "WI    0.166880\n",
       "WY    0.170561\n",
       "UT    0.172387\n",
       "GA    0.172737\n",
       "MT    0.175407\n",
       "CA    0.178629\n",
       "TX    0.179055\n",
       "MA    0.181701\n",
       "AZ    0.183488\n",
       "AK    0.185780\n",
       "MI    0.186452\n",
       "NJ    0.186726\n",
       "RI    0.188557\n",
       "SD    0.190104\n",
       "MD    0.190115\n",
       "NC    0.192242\n",
       "MN    0.193095\n",
       "OH    0.195034\n",
       "FL    0.197481\n",
       "VA    0.198696\n",
       "IN    0.200263\n",
       "KY    0.201397\n",
       "NY    0.204441\n",
       "NM    0.205205\n",
       "HI    0.205618\n",
       "PA    0.206992\n",
       "MO    0.208514\n",
       "AR    0.210884\n",
       "LA    0.212211\n",
       "NV    0.216293\n",
       "TN    0.217131\n",
       "AL    0.225333\n",
       "OK    0.226512\n",
       "DE    0.226531\n",
       "MS    0.237186\n",
       "Name: loan_status, dtype: float64"
      ]
     },
     "execution_count": 82,
     "metadata": {},
     "output_type": "execute_result"
    }
   ],
   "source": [
    "loans.groupby('addr_state')['loan_status'].value_counts(normalize=True).loc[:,'Charged Off'].sort_values()"
   ]
  },
  {
   "cell_type": "markdown",
   "metadata": {
    "_uuid": "4c5831c94055345d34fb6adfe177057026dd3f11"
   },
   "source": [
    "The charge-off rate ranges from 12.0% in Washington, DC to 23.7% in Mississippi."
   ]
  },
  {
   "cell_type": "markdown",
   "metadata": {
    "_uuid": "f033b39352baf72562bcbd95dc79542e7d41a9b5"
   },
   "source": [
    "## 5.16 dti"
   ]
  },
  {
   "cell_type": "markdown",
   "metadata": {
    "_uuid": "2b3358f8a0a91ec648c4ce00c40408450a22d07f"
   },
   "source": [
    "Data Dictionary: \"A ratio calculated using the borrower’s total monthly debt payments on the total debt obligations, excluding mortgage and the requested LC loan, divided by the borrower’s self-reported monthly income.\""
   ]
  },
  {
   "cell_type": "code",
   "execution_count": 83,
   "metadata": {
    "_uuid": "e15c355e0907a6356f3bdedc662df9ce797e58ec"
   },
   "outputs": [
    {
     "data": {
      "text/plain": [
       "count    175421.000000\n",
       "mean         17.928268\n",
       "std           8.095209\n",
       "min           0.000000\n",
       "25%          11.850000\n",
       "50%          17.460000\n",
       "75%          23.660000\n",
       "max          39.990000\n",
       "Name: dti, dtype: float64"
      ]
     },
     "execution_count": 83,
     "metadata": {},
     "output_type": "execute_result"
    }
   ],
   "source": [
    "loans['dti'].describe()"
   ]
  },
  {
   "cell_type": "markdown",
   "metadata": {
    "_uuid": "98847fa16dfede71424c267b7b0446f37c3bf2a2"
   },
   "source": [
    "Note sure if the values of -1 and 999 make sense...\n",
    "\n",
    "There are several outliers that mess up our default plots. Plot a histogram for `dti` less than 60:"
   ]
  },
  {
   "cell_type": "code",
   "execution_count": 84,
   "metadata": {
    "_uuid": "824839d9abcbdcc4cd7c5f181747c159576b5314"
   },
   "outputs": [
    {
     "data": {
      "text/plain": [
       "Text(0.5, 1.0, 'Debt-to-income Ratio')"
      ]
     },
     "execution_count": 84,
     "metadata": {},
     "output_type": "execute_result"
    },
    {
     "data": {
      "image/png": "[encoded data removed]",
      "text/plain": [
       "<Figure size 720x270 with 1 Axes>"
      ]
     },
     "metadata": {},
     "output_type": "display_data"
    }
   ],
   "source": [
    "plt.figure(figsize=(8,3), dpi=90)\n",
    "sns.distplot(loans.loc[loans['dti'].notnull() & (loans['dti']<60), 'dti'], kde=False)\n",
    "plt.xlabel('Debt-to-income Ratio')\n",
    "plt.ylabel('Count')\n",
    "plt.title('Debt-to-income Ratio')"
   ]
  },
  {
   "cell_type": "markdown",
   "metadata": {
    "_uuid": "3a999762ead384f20a0faa97b1929d95142e88b1"
   },
   "source": [
    "How many of the `dti` values are \"outliers\" (above 60)?"
   ]
  },
  {
   "cell_type": "code",
   "execution_count": 85,
   "metadata": {
    "_uuid": "6baebe7830c1476f21897a7e860ee073671212c2"
   },
   "outputs": [
    {
     "data": {
      "text/plain": [
       "0"
      ]
     },
     "execution_count": 85,
     "metadata": {},
     "output_type": "execute_result"
    }
   ],
   "source": [
    "(loans['dti']>=60).sum()"
   ]
  },
  {
   "cell_type": "markdown",
   "metadata": {
    "_uuid": "7ed039841170d89aa188ab0a36834abb4dd83560"
   },
   "source": [
    "Very few. Compare the summary statistics by loan status:"
   ]
  },
  {
   "cell_type": "code",
   "execution_count": 86,
   "metadata": {
    "_uuid": "34f2731e79ebc05a2ccf97cab162ba1cc45fd0f0"
   },
   "outputs": [
    {
     "data": {
      "text/html": [
       "<div>\n",
       "<style scoped>\n",
       "    .dataframe tbody tr th:only-of-type {\n",
       "        vertical-align: middle;\n",
       "    }\n",
       "\n",
       "    .dataframe tbody tr th {\n",
       "        vertical-align: top;\n",
       "    }\n",
       "\n",
       "    .dataframe thead th {\n",
       "        text-align: right;\n",
       "    }\n",
       "</style>\n",
       "<table border=\"1\" class=\"dataframe\">\n",
       "  <thead>\n",
       "    <tr style=\"text-align: right;\">\n",
       "      <th></th>\n",
       "      <th>count</th>\n",
       "      <th>mean</th>\n",
       "      <th>std</th>\n",
       "      <th>min</th>\n",
       "      <th>25%</th>\n",
       "      <th>50%</th>\n",
       "      <th>75%</th>\n",
       "      <th>max</th>\n",
       "    </tr>\n",
       "    <tr>\n",
       "      <th>loan_status</th>\n",
       "      <th></th>\n",
       "      <th></th>\n",
       "      <th></th>\n",
       "      <th></th>\n",
       "      <th></th>\n",
       "      <th></th>\n",
       "      <th></th>\n",
       "      <th></th>\n",
       "    </tr>\n",
       "  </thead>\n",
       "  <tbody>\n",
       "    <tr>\n",
       "      <th>Charged Off</th>\n",
       "      <td>32691.0</td>\n",
       "      <td>19.744853</td>\n",
       "      <td>8.185955</td>\n",
       "      <td>0.0</td>\n",
       "      <td>13.68</td>\n",
       "      <td>19.60</td>\n",
       "      <td>25.74</td>\n",
       "      <td>39.99</td>\n",
       "    </tr>\n",
       "    <tr>\n",
       "      <th>Fully Paid</th>\n",
       "      <td>142730.0</td>\n",
       "      <td>17.512195</td>\n",
       "      <td>8.016578</td>\n",
       "      <td>0.0</td>\n",
       "      <td>11.50</td>\n",
       "      <td>16.99</td>\n",
       "      <td>23.14</td>\n",
       "      <td>39.99</td>\n",
       "    </tr>\n",
       "  </tbody>\n",
       "</table>\n",
       "</div>"
      ],
      "text/plain": [
       "                count       mean       std  min    25%    50%    75%    max\n",
       "loan_status                                                                \n",
       "Charged Off   32691.0  19.744853  8.185955  0.0  13.68  19.60  25.74  39.99\n",
       "Fully Paid   142730.0  17.512195  8.016578  0.0  11.50  16.99  23.14  39.99"
      ]
     },
     "execution_count": 86,
     "metadata": {},
     "output_type": "execute_result"
    }
   ],
   "source": [
    "loans.groupby('loan_status')['dti'].describe()"
   ]
  },
  {
   "cell_type": "markdown",
   "metadata": {
    "_uuid": "7a36bd72aa5b6df18557a5a1fced2933c5f96940"
   },
   "source": [
    "Completed loans that are charged off tend to have higher debt-to-income ratios."
   ]
  },
  {
   "cell_type": "markdown",
   "metadata": {
    "_uuid": "5a18058b0fe6c56755cd139b4addb773a858d63f"
   },
   "source": [
    "## 5.17 earliest_cr_line"
   ]
  },
  {
   "cell_type": "markdown",
   "metadata": {
    "_uuid": "cf0c55c690b586c368e834d990cbdef4c088752d"
   },
   "source": [
    "Data Dictionary: \"The month the borrower's earliest reported credit line was opened.\""
   ]
  },
  {
   "cell_type": "code",
   "execution_count": 87,
   "metadata": {
    "_uuid": "f9451992dc43c401459fc5333bdd7d3e337e389a"
   },
   "outputs": [
    {
     "data": {
      "text/plain": [
       "107031    Sep-1995\n",
       "61542     Apr-2005\n",
       "39413     Apr-1995\n",
       "86032     Jun-2001\n",
       "116697    Jun-2002\n",
       "Name: earliest_cr_line, dtype: object"
      ]
     },
     "execution_count": 87,
     "metadata": {},
     "output_type": "execute_result"
    }
   ],
   "source": [
    "loans['earliest_cr_line'].sample(5)"
   ]
  },
  {
   "cell_type": "code",
   "execution_count": 88,
   "metadata": {
    "_uuid": "b368d43942f4a41d0ff62f9c72cb2a27a0ed6564"
   },
   "outputs": [
    {
     "data": {
      "text/plain": [
       "False"
      ]
     },
     "execution_count": 88,
     "metadata": {},
     "output_type": "execute_result"
    }
   ],
   "source": [
    "loans['earliest_cr_line'].isnull().any()"
   ]
  },
  {
   "cell_type": "markdown",
   "metadata": {
    "_uuid": "a65093e2c849dfbcb3942dcf1538511ae762c43b"
   },
   "source": [
    "Let's just retain the year for simplicity:"
   ]
  },
  {
   "cell_type": "code",
   "execution_count": 89,
   "metadata": {
    "_uuid": "f7d4f74c691db1539f7aa2cc092bdec390b9f932"
   },
   "outputs": [],
   "source": [
    "loans['earliest_cr_line'] = loans['earliest_cr_line'].apply(lambda s: int(s[-4:]))"
   ]
  },
  {
   "cell_type": "code",
   "execution_count": 90,
   "metadata": {
    "_uuid": "b9bcb63c0a4d56a32cca56ad70087621b4fff30a"
   },
   "outputs": [
    {
     "data": {
      "text/plain": [
       "count    175421.000000\n",
       "mean       1997.632039\n",
       "std           7.459418\n",
       "min        1944.000000\n",
       "25%        1994.000000\n",
       "50%        1999.000000\n",
       "75%        2003.000000\n",
       "max        2011.000000\n",
       "Name: earliest_cr_line, dtype: float64"
      ]
     },
     "execution_count": 90,
     "metadata": {},
     "output_type": "execute_result"
    }
   ],
   "source": [
    "loans['earliest_cr_line'].describe()"
   ]
  },
  {
   "cell_type": "code",
   "execution_count": 91,
   "metadata": {
    "_uuid": "66d577854e7297a51ba2af177c34cb6dec848d01"
   },
   "outputs": [
    {
     "data": {
      "image/png": "[encoded data removed]",
      "text/plain": [
       "<Figure size 1080x270 with 2 Axes>"
      ]
     },
     "metadata": {},
     "output_type": "display_data"
    }
   ],
   "source": [
    "plot_var('earliest_cr_line', 'Year of Earliest Credit Line', continuous=True)"
   ]
  },
  {
   "cell_type": "markdown",
   "metadata": {
    "_uuid": "73b64c59588aaa73dc3c9fefb228db448d96d066"
   },
   "source": [
    "Borrowers who are charged-off tend to have shorter lines of credit."
   ]
  },
  {
   "cell_type": "markdown",
   "metadata": {
    "_uuid": "59b22cdd55c8c1033cacdf50467b87cc29a19ee8"
   },
   "source": [
    "## 5.18 fico_range_low, fico_range_high"
   ]
  },
  {
   "cell_type": "markdown",
   "metadata": {
    "_uuid": "c8a60604c3106fa9e45e4f62c9b9f8b842a9dd25"
   },
   "source": [
    "Data Dictionary for `fico_range_low`: \"The lower boundary range the borrower’s FICO at loan origination belongs to.\"\n",
    "\n",
    "Data Dictionary for `fico_range_high`: \"The upper boundary range the borrower’s FICO at loan origination belongs to.\""
   ]
  },
  {
   "cell_type": "code",
   "execution_count": 92,
   "metadata": {
    "_uuid": "74036440410daa88235fb15f02ea106fb10734d2"
   },
   "outputs": [
    {
     "data": {
      "text/html": [
       "<div>\n",
       "<style scoped>\n",
       "    .dataframe tbody tr th:only-of-type {\n",
       "        vertical-align: middle;\n",
       "    }\n",
       "\n",
       "    .dataframe tbody tr th {\n",
       "        vertical-align: top;\n",
       "    }\n",
       "\n",
       "    .dataframe thead th {\n",
       "        text-align: right;\n",
       "    }\n",
       "</style>\n",
       "<table border=\"1\" class=\"dataframe\">\n",
       "  <thead>\n",
       "    <tr style=\"text-align: right;\">\n",
       "      <th></th>\n",
       "      <th>fico_range_low</th>\n",
       "      <th>fico_range_high</th>\n",
       "    </tr>\n",
       "  </thead>\n",
       "  <tbody>\n",
       "    <tr>\n",
       "      <th>count</th>\n",
       "      <td>175421.000000</td>\n",
       "      <td>175421.000000</td>\n",
       "    </tr>\n",
       "    <tr>\n",
       "      <th>mean</th>\n",
       "      <td>692.539348</td>\n",
       "      <td>696.539405</td>\n",
       "    </tr>\n",
       "    <tr>\n",
       "      <th>std</th>\n",
       "      <td>29.630372</td>\n",
       "      <td>29.630666</td>\n",
       "    </tr>\n",
       "    <tr>\n",
       "      <th>min</th>\n",
       "      <td>660.000000</td>\n",
       "      <td>664.000000</td>\n",
       "    </tr>\n",
       "    <tr>\n",
       "      <th>25%</th>\n",
       "      <td>670.000000</td>\n",
       "      <td>674.000000</td>\n",
       "    </tr>\n",
       "    <tr>\n",
       "      <th>50%</th>\n",
       "      <td>685.000000</td>\n",
       "      <td>689.000000</td>\n",
       "    </tr>\n",
       "    <tr>\n",
       "      <th>75%</th>\n",
       "      <td>705.000000</td>\n",
       "      <td>709.000000</td>\n",
       "    </tr>\n",
       "    <tr>\n",
       "      <th>max</th>\n",
       "      <td>845.000000</td>\n",
       "      <td>850.000000</td>\n",
       "    </tr>\n",
       "  </tbody>\n",
       "</table>\n",
       "</div>"
      ],
      "text/plain": [
       "       fico_range_low  fico_range_high\n",
       "count   175421.000000    175421.000000\n",
       "mean       692.539348       696.539405\n",
       "std         29.630372        29.630666\n",
       "min        660.000000       664.000000\n",
       "25%        670.000000       674.000000\n",
       "50%        685.000000       689.000000\n",
       "75%        705.000000       709.000000\n",
       "max        845.000000       850.000000"
      ]
     },
     "execution_count": 92,
     "metadata": {},
     "output_type": "execute_result"
    }
   ],
   "source": [
    "loans[['fico_range_low', 'fico_range_high']].describe()"
   ]
  },
  {
   "cell_type": "markdown",
   "metadata": {
    "_uuid": "81cee266ca70b9cac8ea1a9fd1d44a9a4de3488f"
   },
   "source": [
    "Check the Pearson correlation between these values:"
   ]
  },
  {
   "cell_type": "code",
   "execution_count": 93,
   "metadata": {
    "_uuid": "55e633246efe6a4c48059c58b1a8e60acc6ef6a4",
    "scrolled": true
   },
   "outputs": [
    {
     "data": {
      "text/html": [
       "<div>\n",
       "<style scoped>\n",
       "    .dataframe tbody tr th:only-of-type {\n",
       "        vertical-align: middle;\n",
       "    }\n",
       "\n",
       "    .dataframe tbody tr th {\n",
       "        vertical-align: top;\n",
       "    }\n",
       "\n",
       "    .dataframe thead th {\n",
       "        text-align: right;\n",
       "    }\n",
       "</style>\n",
       "<table border=\"1\" class=\"dataframe\">\n",
       "  <thead>\n",
       "    <tr style=\"text-align: right;\">\n",
       "      <th></th>\n",
       "      <th>fico_range_low</th>\n",
       "      <th>fico_range_high</th>\n",
       "    </tr>\n",
       "  </thead>\n",
       "  <tbody>\n",
       "    <tr>\n",
       "      <th>fico_range_low</th>\n",
       "      <td>1.0</td>\n",
       "      <td>1.0</td>\n",
       "    </tr>\n",
       "    <tr>\n",
       "      <th>fico_range_high</th>\n",
       "      <td>1.0</td>\n",
       "      <td>1.0</td>\n",
       "    </tr>\n",
       "  </tbody>\n",
       "</table>\n",
       "</div>"
      ],
      "text/plain": [
       "                 fico_range_low  fico_range_high\n",
       "fico_range_low              1.0              1.0\n",
       "fico_range_high             1.0              1.0"
      ]
     },
     "execution_count": 93,
     "metadata": {},
     "output_type": "execute_result"
    }
   ],
   "source": [
    "loans[['fico_range_low','fico_range_high']].corr()"
   ]
  },
  {
   "cell_type": "markdown",
   "metadata": {
    "_uuid": "fb77477acd26e22232c3ddd544b681600b4519c6"
   },
   "source": [
    "We only need to keep one of the FICO scores. We'll take the average of the two and call it `fico_score`:"
   ]
  },
  {
   "cell_type": "code",
   "execution_count": 94,
   "metadata": {
    "_uuid": "64ec73aa4353d3da3248938ac39207b08e8f7d99"
   },
   "outputs": [],
   "source": [
    "loans['fico_score'] = 0.5*loans['fico_range_low'] + 0.5*loans['fico_range_high']"
   ]
  },
  {
   "cell_type": "code",
   "execution_count": 95,
   "metadata": {
    "_uuid": "9daa47292046914f4ebfb665c094aa559d814127"
   },
   "outputs": [],
   "source": [
    "loans.drop(['fico_range_high', 'fico_range_low'], axis=1, inplace=True)"
   ]
  },
  {
   "cell_type": "code",
   "execution_count": 96,
   "metadata": {
    "_uuid": "eaee8c63add495c56290f00825ff3a0555f80b2e"
   },
   "outputs": [
    {
     "data": {
      "image/png": "[encoded data removed]",
      "text/plain": [
       "<Figure size 1080x270 with 2 Axes>"
      ]
     },
     "metadata": {},
     "output_type": "display_data"
    }
   ],
   "source": [
    "plot_var('fico_score', 'FICO Score', continuous=True)"
   ]
  },
  {
   "cell_type": "markdown",
   "metadata": {
    "_uuid": "0b0558e604751c8f4d56a12f49b91b60dfdcade5"
   },
   "source": [
    "There is a noticeable difference in FICO scores between fully paid and charged-off loans. Compare the summary statistics:"
   ]
  },
  {
   "cell_type": "code",
   "execution_count": 97,
   "metadata": {
    "_uuid": "03f04196cdf3607455cfb9c1d936cc9185ee89e9"
   },
   "outputs": [
    {
     "data": {
      "text/html": [
       "<div>\n",
       "<style scoped>\n",
       "    .dataframe tbody tr th:only-of-type {\n",
       "        vertical-align: middle;\n",
       "    }\n",
       "\n",
       "    .dataframe tbody tr th {\n",
       "        vertical-align: top;\n",
       "    }\n",
       "\n",
       "    .dataframe thead th {\n",
       "        text-align: right;\n",
       "    }\n",
       "</style>\n",
       "<table border=\"1\" class=\"dataframe\">\n",
       "  <thead>\n",
       "    <tr style=\"text-align: right;\">\n",
       "      <th></th>\n",
       "      <th>count</th>\n",
       "      <th>mean</th>\n",
       "      <th>std</th>\n",
       "      <th>min</th>\n",
       "      <th>25%</th>\n",
       "      <th>50%</th>\n",
       "      <th>75%</th>\n",
       "      <th>max</th>\n",
       "    </tr>\n",
       "    <tr>\n",
       "      <th>loan_status</th>\n",
       "      <th></th>\n",
       "      <th></th>\n",
       "      <th></th>\n",
       "      <th></th>\n",
       "      <th></th>\n",
       "      <th></th>\n",
       "      <th></th>\n",
       "      <th></th>\n",
       "    </tr>\n",
       "  </thead>\n",
       "  <tbody>\n",
       "    <tr>\n",
       "      <th>Charged Off</th>\n",
       "      <td>32691.0</td>\n",
       "      <td>687.288306</td>\n",
       "      <td>23.659185</td>\n",
       "      <td>662.0</td>\n",
       "      <td>672.0</td>\n",
       "      <td>682.0</td>\n",
       "      <td>697.0</td>\n",
       "      <td>842.0</td>\n",
       "    </tr>\n",
       "    <tr>\n",
       "      <th>Fully Paid</th>\n",
       "      <td>142730.0</td>\n",
       "      <td>696.200168</td>\n",
       "      <td>30.595007</td>\n",
       "      <td>662.0</td>\n",
       "      <td>672.0</td>\n",
       "      <td>687.0</td>\n",
       "      <td>712.0</td>\n",
       "      <td>847.5</td>\n",
       "    </tr>\n",
       "  </tbody>\n",
       "</table>\n",
       "</div>"
      ],
      "text/plain": [
       "                count        mean        std    min    25%    50%    75%  \\\n",
       "loan_status                                                                \n",
       "Charged Off   32691.0  687.288306  23.659185  662.0  672.0  682.0  697.0   \n",
       "Fully Paid   142730.0  696.200168  30.595007  662.0  672.0  687.0  712.0   \n",
       "\n",
       "               max  \n",
       "loan_status         \n",
       "Charged Off  842.0  \n",
       "Fully Paid   847.5  "
      ]
     },
     "execution_count": 97,
     "metadata": {},
     "output_type": "execute_result"
    }
   ],
   "source": [
    "loans.groupby('loan_status')['fico_score'].describe()"
   ]
  },
  {
   "cell_type": "markdown",
   "metadata": {
    "_uuid": "f109939068ad7a2503992b507f086e2e08fd33c3"
   },
   "source": [
    "Loans that charge off have a FICO score 10 points lower on average."
   ]
  },
  {
   "cell_type": "markdown",
   "metadata": {
    "_uuid": "9834eea5d0705d23012b9b48adfcc5e78e12f12e"
   },
   "source": [
    "## 5.19 open_acc"
   ]
  },
  {
   "cell_type": "markdown",
   "metadata": {
    "_uuid": "bc134a0fd6e4104163a39d545393ccaae30b8225"
   },
   "source": [
    "Data Dictionary: \"The number of open credit lines in the borrower's credit file.\""
   ]
  },
  {
   "cell_type": "code",
   "execution_count": 98,
   "metadata": {
    "_uuid": "438b09f99afac6eabb6548c5cf99f818a25db3a4"
   },
   "outputs": [
    {
     "data": {
      "text/plain": [
       "Text(0.5, 1.0, 'Number of Open Credit Lines')"
      ]
     },
     "execution_count": 98,
     "metadata": {},
     "output_type": "execute_result"
    },
    {
     "data": {
      "image/png": "[encoded data removed]",
      "text/plain": [
       "<Figure size 900x270 with 1 Axes>"
      ]
     },
     "metadata": {},
     "output_type": "display_data"
    }
   ],
   "source": [
    "plt.figure(figsize=(10,3), dpi=90)\n",
    "sns.countplot(loans['open_acc'], order=sorted(loans['open_acc'].unique()), color='#5975A4', saturation=1)\n",
    "_, _ = plt.xticks(np.arange(0, 90, 5), np.arange(0, 90, 5))\n",
    "plt.title('Number of Open Credit Lines')"
   ]
  },
  {
   "cell_type": "markdown",
   "metadata": {
    "_uuid": "f80b2f0a75554bd3a025cb6a58da77121a9279ee"
   },
   "source": [
    "Is there a difference in number of credit lines between fully paid loans and charged-off loans?"
   ]
  },
  {
   "cell_type": "code",
   "execution_count": 99,
   "metadata": {
    "_uuid": "a5f2f2f167bd0b736c8b62cd468dcd6e3d4c55f1"
   },
   "outputs": [
    {
     "data": {
      "text/html": [
       "<div>\n",
       "<style scoped>\n",
       "    .dataframe tbody tr th:only-of-type {\n",
       "        vertical-align: middle;\n",
       "    }\n",
       "\n",
       "    .dataframe tbody tr th {\n",
       "        vertical-align: top;\n",
       "    }\n",
       "\n",
       "    .dataframe thead th {\n",
       "        text-align: right;\n",
       "    }\n",
       "</style>\n",
       "<table border=\"1\" class=\"dataframe\">\n",
       "  <thead>\n",
       "    <tr style=\"text-align: right;\">\n",
       "      <th></th>\n",
       "      <th>count</th>\n",
       "      <th>mean</th>\n",
       "      <th>std</th>\n",
       "      <th>min</th>\n",
       "      <th>25%</th>\n",
       "      <th>50%</th>\n",
       "      <th>75%</th>\n",
       "      <th>max</th>\n",
       "    </tr>\n",
       "    <tr>\n",
       "      <th>loan_status</th>\n",
       "      <th></th>\n",
       "      <th></th>\n",
       "      <th></th>\n",
       "      <th></th>\n",
       "      <th></th>\n",
       "      <th></th>\n",
       "      <th></th>\n",
       "      <th></th>\n",
       "    </tr>\n",
       "  </thead>\n",
       "  <tbody>\n",
       "    <tr>\n",
       "      <th>Charged Off</th>\n",
       "      <td>32691.0</td>\n",
       "      <td>11.958857</td>\n",
       "      <td>5.426800</td>\n",
       "      <td>0.0</td>\n",
       "      <td>8.0</td>\n",
       "      <td>11.0</td>\n",
       "      <td>15.0</td>\n",
       "      <td>76.0</td>\n",
       "    </tr>\n",
       "    <tr>\n",
       "      <th>Fully Paid</th>\n",
       "      <td>142730.0</td>\n",
       "      <td>11.541323</td>\n",
       "      <td>5.257441</td>\n",
       "      <td>1.0</td>\n",
       "      <td>8.0</td>\n",
       "      <td>11.0</td>\n",
       "      <td>14.0</td>\n",
       "      <td>84.0</td>\n",
       "    </tr>\n",
       "  </tbody>\n",
       "</table>\n",
       "</div>"
      ],
      "text/plain": [
       "                count       mean       std  min  25%   50%   75%   max\n",
       "loan_status                                                           \n",
       "Charged Off   32691.0  11.958857  5.426800  0.0  8.0  11.0  15.0  76.0\n",
       "Fully Paid   142730.0  11.541323  5.257441  1.0  8.0  11.0  14.0  84.0"
      ]
     },
     "execution_count": 99,
     "metadata": {},
     "output_type": "execute_result"
    }
   ],
   "source": [
    "loans.groupby('loan_status')['open_acc'].describe()"
   ]
  },
  {
   "cell_type": "markdown",
   "metadata": {
    "_uuid": "c9bf815957b7e3304d4919a0f6b16fa7111eb41a"
   },
   "source": [
    "## 5.20 pub_rec"
   ]
  },
  {
   "cell_type": "markdown",
   "metadata": {
    "_uuid": "43da4907b41831d1ddb9bdca1dd26f6c2c4eb816"
   },
   "source": [
    "Data Dictionary: \"Number of derogatory public records.\""
   ]
  },
  {
   "cell_type": "code",
   "execution_count": 100,
   "metadata": {
    "_uuid": "2b029d31eae519bbd88c70ea9de49669e18e0ea4",
    "scrolled": false
   },
   "outputs": [
    {
     "data": {
      "text/plain": [
       "0.0     144022\n",
       "1.0      26352\n",
       "2.0       3387\n",
       "3.0       1005\n",
       "4.0        323\n",
       "5.0        164\n",
       "6.0         82\n",
       "7.0         38\n",
       "8.0         16\n",
       "9.0         10\n",
       "10.0         9\n",
       "11.0         5\n",
       "12.0         2\n",
       "15.0         1\n",
       "16.0         1\n",
       "18.0         2\n",
       "19.0         1\n",
       "40.0         1\n",
       "Name: pub_rec, dtype: int64"
      ]
     },
     "execution_count": 100,
     "metadata": {},
     "output_type": "execute_result"
    }
   ],
   "source": [
    "loans['pub_rec'].value_counts().sort_index()"
   ]
  },
  {
   "cell_type": "markdown",
   "metadata": {
    "_uuid": "d0475a68ce69b03a2c1072f50594123338888be3"
   },
   "source": [
    "Is there a difference in average public records between fully paid loans and charged-off loans?"
   ]
  },
  {
   "cell_type": "code",
   "execution_count": 101,
   "metadata": {
    "_uuid": "f599e72bff7b6c30c1a534266a9ce19a5ad5fea3"
   },
   "outputs": [
    {
     "data": {
      "text/html": [
       "<div>\n",
       "<style scoped>\n",
       "    .dataframe tbody tr th:only-of-type {\n",
       "        vertical-align: middle;\n",
       "    }\n",
       "\n",
       "    .dataframe tbody tr th {\n",
       "        vertical-align: top;\n",
       "    }\n",
       "\n",
       "    .dataframe thead th {\n",
       "        text-align: right;\n",
       "    }\n",
       "</style>\n",
       "<table border=\"1\" class=\"dataframe\">\n",
       "  <thead>\n",
       "    <tr style=\"text-align: right;\">\n",
       "      <th></th>\n",
       "      <th>count</th>\n",
       "      <th>mean</th>\n",
       "      <th>std</th>\n",
       "      <th>min</th>\n",
       "      <th>25%</th>\n",
       "      <th>50%</th>\n",
       "      <th>75%</th>\n",
       "      <th>max</th>\n",
       "    </tr>\n",
       "    <tr>\n",
       "      <th>loan_status</th>\n",
       "      <th></th>\n",
       "      <th></th>\n",
       "      <th></th>\n",
       "      <th></th>\n",
       "      <th></th>\n",
       "      <th></th>\n",
       "      <th></th>\n",
       "      <th></th>\n",
       "    </tr>\n",
       "  </thead>\n",
       "  <tbody>\n",
       "    <tr>\n",
       "      <th>Charged Off</th>\n",
       "      <td>32691.0</td>\n",
       "      <td>0.235080</td>\n",
       "      <td>0.618033</td>\n",
       "      <td>0.0</td>\n",
       "      <td>0.0</td>\n",
       "      <td>0.0</td>\n",
       "      <td>0.0</td>\n",
       "      <td>40.0</td>\n",
       "    </tr>\n",
       "    <tr>\n",
       "      <th>Fully Paid</th>\n",
       "      <td>142730.0</td>\n",
       "      <td>0.223072</td>\n",
       "      <td>0.582017</td>\n",
       "      <td>0.0</td>\n",
       "      <td>0.0</td>\n",
       "      <td>0.0</td>\n",
       "      <td>0.0</td>\n",
       "      <td>18.0</td>\n",
       "    </tr>\n",
       "  </tbody>\n",
       "</table>\n",
       "</div>"
      ],
      "text/plain": [
       "                count      mean       std  min  25%  50%  75%   max\n",
       "loan_status                                                        \n",
       "Charged Off   32691.0  0.235080  0.618033  0.0  0.0  0.0  0.0  40.0\n",
       "Fully Paid   142730.0  0.223072  0.582017  0.0  0.0  0.0  0.0  18.0"
      ]
     },
     "execution_count": 101,
     "metadata": {},
     "output_type": "execute_result"
    }
   ],
   "source": [
    "loans.groupby('loan_status')['pub_rec'].describe()"
   ]
  },
  {
   "cell_type": "markdown",
   "metadata": {
    "_uuid": "9700f45aac9e053fc5600f3bb384a99d694d23a4"
   },
   "source": [
    "## 5.21 revol_bal"
   ]
  },
  {
   "cell_type": "markdown",
   "metadata": {
    "_uuid": "bc84556ef86591e0a1cdf14013962abf24a4a8e7"
   },
   "source": [
    "Data Dictionary: \"Total credit revolving balance.\""
   ]
  },
  {
   "cell_type": "code",
   "execution_count": 102,
   "metadata": {
    "_uuid": "a9df59d86d2a75fbf7c3da95ab9f2a51e89f8075"
   },
   "outputs": [
    {
     "data": {
      "text/plain": [
       "count    1.754210e+05\n",
       "mean     1.602978e+04\n",
       "std      2.165516e+04\n",
       "min      0.000000e+00\n",
       "25%      5.975000e+03\n",
       "50%      1.108800e+04\n",
       "75%      1.972600e+04\n",
       "max      2.560703e+06\n",
       "Name: revol_bal, dtype: float64"
      ]
     },
     "execution_count": 102,
     "metadata": {},
     "output_type": "execute_result"
    }
   ],
   "source": [
    "loans['revol_bal'].describe()"
   ]
  },
  {
   "cell_type": "markdown",
   "metadata": {
    "_uuid": "a28e0e941e50bc1a8516387a679705acb9e1e891"
   },
   "source": [
    "Do a log transform:"
   ]
  },
  {
   "cell_type": "code",
   "execution_count": 103,
   "metadata": {
    "_uuid": "f5393f6fe924e4b85e862ca72ed3bfc707f5ae75"
   },
   "outputs": [],
   "source": [
    "loans['log_revol_bal'] = loans['revol_bal'].apply(lambda x: np.log10(x+1))"
   ]
  },
  {
   "cell_type": "code",
   "execution_count": 104,
   "metadata": {
    "_uuid": "6f8271c84321617c80ec76a40cb5eb2d52e54770"
   },
   "outputs": [],
   "source": [
    "loans.drop('revol_bal', axis=1, inplace=True)"
   ]
  },
  {
   "cell_type": "code",
   "execution_count": 105,
   "metadata": {
    "_uuid": "6c6faec593b7f4c891738461d379991c2ebf8e7d"
   },
   "outputs": [
    {
     "data": {
      "image/png": "[encoded data removed]",
      "text/plain": [
       "<Figure size 1080x270 with 2 Axes>"
      ]
     },
     "metadata": {},
     "output_type": "display_data"
    }
   ],
   "source": [
    "plot_var('log_revol_bal', 'Log Revolving Credit Balance', continuous=True)"
   ]
  },
  {
   "cell_type": "code",
   "execution_count": 106,
   "metadata": {
    "_uuid": "14c0ad7c138276198f43312d9dc32ffd3e93de5a"
   },
   "outputs": [
    {
     "data": {
      "text/html": [
       "<div>\n",
       "<style scoped>\n",
       "    .dataframe tbody tr th:only-of-type {\n",
       "        vertical-align: middle;\n",
       "    }\n",
       "\n",
       "    .dataframe tbody tr th {\n",
       "        vertical-align: top;\n",
       "    }\n",
       "\n",
       "    .dataframe thead th {\n",
       "        text-align: right;\n",
       "    }\n",
       "</style>\n",
       "<table border=\"1\" class=\"dataframe\">\n",
       "  <thead>\n",
       "    <tr style=\"text-align: right;\">\n",
       "      <th></th>\n",
       "      <th>count</th>\n",
       "      <th>mean</th>\n",
       "      <th>std</th>\n",
       "      <th>min</th>\n",
       "      <th>25%</th>\n",
       "      <th>50%</th>\n",
       "      <th>75%</th>\n",
       "      <th>max</th>\n",
       "    </tr>\n",
       "    <tr>\n",
       "      <th>loan_status</th>\n",
       "      <th></th>\n",
       "      <th></th>\n",
       "      <th></th>\n",
       "      <th></th>\n",
       "      <th></th>\n",
       "      <th></th>\n",
       "      <th></th>\n",
       "      <th></th>\n",
       "    </tr>\n",
       "  </thead>\n",
       "  <tbody>\n",
       "    <tr>\n",
       "      <th>Charged Off</th>\n",
       "      <td>32691.0</td>\n",
       "      <td>4.005679</td>\n",
       "      <td>0.446377</td>\n",
       "      <td>0.0</td>\n",
       "      <td>3.786006</td>\n",
       "      <td>4.045127</td>\n",
       "      <td>4.281499</td>\n",
       "      <td>5.715439</td>\n",
       "    </tr>\n",
       "    <tr>\n",
       "      <th>Fully Paid</th>\n",
       "      <td>142730.0</td>\n",
       "      <td>4.011170</td>\n",
       "      <td>0.472218</td>\n",
       "      <td>0.0</td>\n",
       "      <td>3.774006</td>\n",
       "      <td>4.044794</td>\n",
       "      <td>4.298547</td>\n",
       "      <td>6.408359</td>\n",
       "    </tr>\n",
       "  </tbody>\n",
       "</table>\n",
       "</div>"
      ],
      "text/plain": [
       "                count      mean       std  min       25%       50%       75%  \\\n",
       "loan_status                                                                    \n",
       "Charged Off   32691.0  4.005679  0.446377  0.0  3.786006  4.045127  4.281499   \n",
       "Fully Paid   142730.0  4.011170  0.472218  0.0  3.774006  4.044794  4.298547   \n",
       "\n",
       "                  max  \n",
       "loan_status            \n",
       "Charged Off  5.715439  \n",
       "Fully Paid   6.408359  "
      ]
     },
     "execution_count": 106,
     "metadata": {},
     "output_type": "execute_result"
    }
   ],
   "source": [
    "loans.groupby('loan_status')['log_revol_bal'].describe()"
   ]
  },
  {
   "cell_type": "markdown",
   "metadata": {
    "_uuid": "777861b73161a134ea46fd518adcf090af59891c"
   },
   "source": [
    "There isn't a large difference in the means."
   ]
  },
  {
   "cell_type": "markdown",
   "metadata": {
    "_uuid": "274ad58c32460e96c0cda63756245feb5a3c5636"
   },
   "source": [
    "## 5.22 revol_util"
   ]
  },
  {
   "cell_type": "markdown",
   "metadata": {
    "_uuid": "06b12ab73f8a7ef9e6855f7580d990126f2e77d7"
   },
   "source": [
    "Data Dictionary: \"Revolving line utilization rate, or the amount of credit the borrower is using relative to all available revolving credit.\""
   ]
  },
  {
   "cell_type": "code",
   "execution_count": 107,
   "metadata": {
    "_uuid": "82b93a10a26ac401f29d8a0c26360f19270513e0"
   },
   "outputs": [
    {
     "data": {
      "text/plain": [
       "count    175329.000000\n",
       "mean         54.677114\n",
       "std          23.297539\n",
       "min           0.000000\n",
       "25%          37.600000\n",
       "50%          55.100000\n",
       "75%          72.400000\n",
       "max         892.300000\n",
       "Name: revol_util, dtype: float64"
      ]
     },
     "execution_count": 107,
     "metadata": {},
     "output_type": "execute_result"
    }
   ],
   "source": [
    "loans['revol_util'].describe()"
   ]
  },
  {
   "cell_type": "code",
   "execution_count": 108,
   "metadata": {
    "_uuid": "930efc10b857a727a814ea87288ce1c83a6ca87c"
   },
   "outputs": [
    {
     "data": {
      "image/png": "[encoded data removed]",
      "text/plain": [
       "<Figure size 1080x270 with 2 Axes>"
      ]
     },
     "metadata": {},
     "output_type": "display_data"
    }
   ],
   "source": [
    "plot_var('revol_util', 'Revolving Line Utilization', continuous=True)"
   ]
  },
  {
   "cell_type": "code",
   "execution_count": 109,
   "metadata": {
    "_uuid": "e4654724c59ce71ca5ec446808316fed38290e29"
   },
   "outputs": [
    {
     "data": {
      "text/html": [
       "<div>\n",
       "<style scoped>\n",
       "    .dataframe tbody tr th:only-of-type {\n",
       "        vertical-align: middle;\n",
       "    }\n",
       "\n",
       "    .dataframe tbody tr th {\n",
       "        vertical-align: top;\n",
       "    }\n",
       "\n",
       "    .dataframe thead th {\n",
       "        text-align: right;\n",
       "    }\n",
       "</style>\n",
       "<table border=\"1\" class=\"dataframe\">\n",
       "  <thead>\n",
       "    <tr style=\"text-align: right;\">\n",
       "      <th></th>\n",
       "      <th>count</th>\n",
       "      <th>mean</th>\n",
       "      <th>std</th>\n",
       "      <th>min</th>\n",
       "      <th>25%</th>\n",
       "      <th>50%</th>\n",
       "      <th>75%</th>\n",
       "      <th>max</th>\n",
       "    </tr>\n",
       "    <tr>\n",
       "      <th>loan_status</th>\n",
       "      <th></th>\n",
       "      <th></th>\n",
       "      <th></th>\n",
       "      <th></th>\n",
       "      <th></th>\n",
       "      <th></th>\n",
       "      <th></th>\n",
       "      <th></th>\n",
       "    </tr>\n",
       "  </thead>\n",
       "  <tbody>\n",
       "    <tr>\n",
       "      <th>Charged Off</th>\n",
       "      <td>32669.0</td>\n",
       "      <td>57.746191</td>\n",
       "      <td>22.567358</td>\n",
       "      <td>0.0</td>\n",
       "      <td>41.9</td>\n",
       "      <td>58.6</td>\n",
       "      <td>75.0</td>\n",
       "      <td>366.6</td>\n",
       "    </tr>\n",
       "    <tr>\n",
       "      <th>Fully Paid</th>\n",
       "      <td>142660.0</td>\n",
       "      <td>53.974299</td>\n",
       "      <td>23.405065</td>\n",
       "      <td>0.0</td>\n",
       "      <td>36.7</td>\n",
       "      <td>54.2</td>\n",
       "      <td>71.8</td>\n",
       "      <td>892.3</td>\n",
       "    </tr>\n",
       "  </tbody>\n",
       "</table>\n",
       "</div>"
      ],
      "text/plain": [
       "                count       mean        std  min   25%   50%   75%    max\n",
       "loan_status                                                              \n",
       "Charged Off   32669.0  57.746191  22.567358  0.0  41.9  58.6  75.0  366.6\n",
       "Fully Paid   142660.0  53.974299  23.405065  0.0  36.7  54.2  71.8  892.3"
      ]
     },
     "execution_count": 109,
     "metadata": {},
     "output_type": "execute_result"
    }
   ],
   "source": [
    "loans.groupby('loan_status')['revol_util'].describe()"
   ]
  },
  {
   "cell_type": "markdown",
   "metadata": {
    "_uuid": "599986b31222b7e3a70ce696ef97fa594b58b791"
   },
   "source": [
    "## 5.23 total_acc"
   ]
  },
  {
   "cell_type": "markdown",
   "metadata": {
    "_uuid": "78693b367060c9cbc60843086b92b9b259f75637"
   },
   "source": [
    "Data Dictionary: \"The total number of credit lines currently in the borrower's credit file.\""
   ]
  },
  {
   "cell_type": "code",
   "execution_count": 110,
   "metadata": {
    "_uuid": "ba530c2e2f0c0b16189414805e9f4faf6425b322"
   },
   "outputs": [
    {
     "data": {
      "text/plain": [
       "Text(0.5, 1.0, 'Total Number of Credit Lines')"
      ]
     },
     "execution_count": 110,
     "metadata": {},
     "output_type": "execute_result"
    },
    {
     "data": {
      "image/png": "[encoded data removed]",
      "text/plain": [
       "<Figure size 1080x270 with 1 Axes>"
      ]
     },
     "metadata": {},
     "output_type": "display_data"
    }
   ],
   "source": [
    "plt.figure(figsize=(12,3), dpi=90)\n",
    "sns.countplot(loans['total_acc'], order=sorted(loans['total_acc'].unique()), color='#5975A4', saturation=1)\n",
    "_, _ = plt.xticks(np.arange(0, 176, 10), np.arange(0, 176, 10))\n",
    "plt.title('Total Number of Credit Lines')"
   ]
  },
  {
   "cell_type": "code",
   "execution_count": 111,
   "metadata": {
    "_uuid": "1ffdc791ddadb0bde1b7dced82d4b9c3d1bef74c"
   },
   "outputs": [
    {
     "data": {
      "text/html": [
       "<div>\n",
       "<style scoped>\n",
       "    .dataframe tbody tr th:only-of-type {\n",
       "        vertical-align: middle;\n",
       "    }\n",
       "\n",
       "    .dataframe tbody tr th {\n",
       "        vertical-align: top;\n",
       "    }\n",
       "\n",
       "    .dataframe thead th {\n",
       "        text-align: right;\n",
       "    }\n",
       "</style>\n",
       "<table border=\"1\" class=\"dataframe\">\n",
       "  <thead>\n",
       "    <tr style=\"text-align: right;\">\n",
       "      <th></th>\n",
       "      <th>count</th>\n",
       "      <th>mean</th>\n",
       "      <th>std</th>\n",
       "      <th>min</th>\n",
       "      <th>25%</th>\n",
       "      <th>50%</th>\n",
       "      <th>75%</th>\n",
       "      <th>max</th>\n",
       "    </tr>\n",
       "    <tr>\n",
       "      <th>loan_status</th>\n",
       "      <th></th>\n",
       "      <th></th>\n",
       "      <th></th>\n",
       "      <th></th>\n",
       "      <th></th>\n",
       "      <th></th>\n",
       "      <th></th>\n",
       "      <th></th>\n",
       "    </tr>\n",
       "  </thead>\n",
       "  <tbody>\n",
       "    <tr>\n",
       "      <th>Charged Off</th>\n",
       "      <td>32691.0</td>\n",
       "      <td>25.767948</td>\n",
       "      <td>12.151543</td>\n",
       "      <td>2.0</td>\n",
       "      <td>17.0</td>\n",
       "      <td>24.0</td>\n",
       "      <td>33.0</td>\n",
       "      <td>119.0</td>\n",
       "    </tr>\n",
       "    <tr>\n",
       "      <th>Fully Paid</th>\n",
       "      <td>142730.0</td>\n",
       "      <td>25.879114</td>\n",
       "      <td>11.971974</td>\n",
       "      <td>2.0</td>\n",
       "      <td>17.0</td>\n",
       "      <td>24.0</td>\n",
       "      <td>33.0</td>\n",
       "      <td>156.0</td>\n",
       "    </tr>\n",
       "  </tbody>\n",
       "</table>\n",
       "</div>"
      ],
      "text/plain": [
       "                count       mean        std  min   25%   50%   75%    max\n",
       "loan_status                                                              \n",
       "Charged Off   32691.0  25.767948  12.151543  2.0  17.0  24.0  33.0  119.0\n",
       "Fully Paid   142730.0  25.879114  11.971974  2.0  17.0  24.0  33.0  156.0"
      ]
     },
     "execution_count": 111,
     "metadata": {},
     "output_type": "execute_result"
    }
   ],
   "source": [
    "loans.groupby('loan_status')['total_acc'].describe()"
   ]
  },
  {
   "cell_type": "markdown",
   "metadata": {
    "_uuid": "a55ac61ba08221393359b2204e5786d1078eb113"
   },
   "source": [
    "No large differences here."
   ]
  },
  {
   "cell_type": "markdown",
   "metadata": {
    "_cell_guid": "57408b52-70fd-4a45-b5bb-12f0c2612190",
    "_uuid": "2a671f42515e7c4727430a48e6163c6f77801275"
   },
   "source": [
    "## 5.24 initial_list_status"
   ]
  },
  {
   "cell_type": "markdown",
   "metadata": {
    "_uuid": "b570aeb10d835dbf719bc47ffc02db4cd8ac720f"
   },
   "source": [
    "Data Dictionary: \"The initial listing status of the loan. Possible values are – W, F.\" I'm not sure what this means."
   ]
  },
  {
   "cell_type": "code",
   "execution_count": 112,
   "metadata": {
    "_uuid": "0b3696c284b62470ecabcec5b5d4013d525caf9f"
   },
   "outputs": [
    {
     "data": {
      "image/png": "[encoded data removed]",
      "text/plain": [
       "<Figure size 1080x270 with 2 Axes>"
      ]
     },
     "metadata": {},
     "output_type": "display_data"
    }
   ],
   "source": [
    "plot_var('initial_list_status', 'Initial List Status', continuous=False)"
   ]
  },
  {
   "cell_type": "markdown",
   "metadata": {
    "_cell_guid": "b34ab6cc-0a3f-4780-a234-743b9d406dca",
    "_uuid": "77b5eba4a13bd157c68f522ab8002094bb8b456d"
   },
   "source": [
    "## 5.25 application_type"
   ]
  },
  {
   "cell_type": "markdown",
   "metadata": {
    "_uuid": "bff95bd7fbb026125207073d8a637e01db86b510"
   },
   "source": [
    "Data Dictionary: \"Indicates whether the loan is an individual application or a joint application with two co-borrowers.\""
   ]
  },
  {
   "cell_type": "code",
   "execution_count": 113,
   "metadata": {
    "_cell_guid": "0fc4f079-695a-49e9-abac-05bf841bd9e5",
    "_uuid": "afc3918d6aa0db8f5ddeab49d17359155db1376d"
   },
   "outputs": [
    {
     "data": {
      "text/plain": [
       "Individual    175421\n",
       "Name: application_type, dtype: int64"
      ]
     },
     "execution_count": 113,
     "metadata": {},
     "output_type": "execute_result"
    }
   ],
   "source": [
    "loans['application_type'].value_counts()"
   ]
  },
  {
   "cell_type": "markdown",
   "metadata": {
    "_uuid": "726d40ca553d1b83fa358fc2b622285af6672aa2"
   },
   "source": [
    "Let's just compare the charge-off rates by application type:"
   ]
  },
  {
   "cell_type": "code",
   "execution_count": 114,
   "metadata": {
    "_uuid": "a7f9652dc12bbd0c83c0e549e869adf992a79fbd"
   },
   "outputs": [
    {
     "data": {
      "text/plain": [
       "application_type\n",
       "Individual    0.186357\n",
       "Name: loan_status, dtype: float64"
      ]
     },
     "execution_count": 114,
     "metadata": {},
     "output_type": "execute_result"
    }
   ],
   "source": [
    "loans.groupby('application_type')['loan_status'].value_counts(normalize=True).loc[:,'Charged Off']"
   ]
  },
  {
   "cell_type": "markdown",
   "metadata": {
    "_uuid": "31551940d109ad9c98080bffa261b50ae75472da"
   },
   "source": [
    "Joint loans are slightly less likely to be charged-off."
   ]
  },
  {
   "cell_type": "markdown",
   "metadata": {
    "_uuid": "36d0be89d6a28c1a2b9c2ab2d107a6a753813399"
   },
   "source": [
    "## 5.26 mort_acc"
   ]
  },
  {
   "cell_type": "markdown",
   "metadata": {
    "_uuid": "c59b7d73342ddfc3f69ec292101ef17dc0571c1b"
   },
   "source": [
    "Data Dictionary: \"Number of mortgage accounts.\""
   ]
  },
  {
   "cell_type": "code",
   "execution_count": 115,
   "metadata": {
    "_uuid": "d57da17ada8a190fdba31674991dc0330e8c7afc"
   },
   "outputs": [
    {
     "data": {
      "text/plain": [
       "count    175421.000000\n",
       "mean          1.794050\n",
       "std           2.138689\n",
       "min           0.000000\n",
       "25%           0.000000\n",
       "50%           1.000000\n",
       "75%           3.000000\n",
       "max          34.000000\n",
       "Name: mort_acc, dtype: float64"
      ]
     },
     "execution_count": 115,
     "metadata": {},
     "output_type": "execute_result"
    }
   ],
   "source": [
    "loans['mort_acc'].describe()"
   ]
  },
  {
   "cell_type": "markdown",
   "metadata": {
    "_uuid": "6a68f75f3813a814aabca8bf4816042e0f90315b"
   },
   "source": [
    "Not sure how someone can have 51 mortgage accounts...but apparently they do. Check the top 10 values:"
   ]
  },
  {
   "cell_type": "code",
   "execution_count": 116,
   "metadata": {
    "_uuid": "230c26b2c068f72bfac412378fd4fc61302e5a81"
   },
   "outputs": [
    {
     "data": {
      "text/plain": [
       "0.0    69936\n",
       "1.0    28399\n",
       "2.0    24302\n",
       "3.0    18698\n",
       "4.0    13879\n",
       "5.0     8865\n",
       "6.0     5329\n",
       "7.0     2809\n",
       "8.0     1474\n",
       "9.0      735\n",
       "Name: mort_acc, dtype: int64"
      ]
     },
     "execution_count": 116,
     "metadata": {},
     "output_type": "execute_result"
    }
   ],
   "source": [
    "loans['mort_acc'].value_counts().head(10)"
   ]
  },
  {
   "cell_type": "markdown",
   "metadata": {
    "_uuid": "e3c50701da3ef25a6995ac5ae9d5852d6fcf5e42"
   },
   "source": [
    "Compare the summary statistics by loan status:"
   ]
  },
  {
   "cell_type": "code",
   "execution_count": 117,
   "metadata": {
    "_uuid": "ca421be234db5b0a65e91607958241e389c1c5a2"
   },
   "outputs": [
    {
     "data": {
      "text/html": [
       "<div>\n",
       "<style scoped>\n",
       "    .dataframe tbody tr th:only-of-type {\n",
       "        vertical-align: middle;\n",
       "    }\n",
       "\n",
       "    .dataframe tbody tr th {\n",
       "        vertical-align: top;\n",
       "    }\n",
       "\n",
       "    .dataframe thead th {\n",
       "        text-align: right;\n",
       "    }\n",
       "</style>\n",
       "<table border=\"1\" class=\"dataframe\">\n",
       "  <thead>\n",
       "    <tr style=\"text-align: right;\">\n",
       "      <th></th>\n",
       "      <th>count</th>\n",
       "      <th>mean</th>\n",
       "      <th>std</th>\n",
       "      <th>min</th>\n",
       "      <th>25%</th>\n",
       "      <th>50%</th>\n",
       "      <th>75%</th>\n",
       "      <th>max</th>\n",
       "    </tr>\n",
       "    <tr>\n",
       "      <th>loan_status</th>\n",
       "      <th></th>\n",
       "      <th></th>\n",
       "      <th></th>\n",
       "      <th></th>\n",
       "      <th></th>\n",
       "      <th></th>\n",
       "      <th></th>\n",
       "      <th></th>\n",
       "    </tr>\n",
       "  </thead>\n",
       "  <tbody>\n",
       "    <tr>\n",
       "      <th>Charged Off</th>\n",
       "      <td>32691.0</td>\n",
       "      <td>1.538374</td>\n",
       "      <td>1.993969</td>\n",
       "      <td>0.0</td>\n",
       "      <td>0.0</td>\n",
       "      <td>1.0</td>\n",
       "      <td>3.0</td>\n",
       "      <td>22.0</td>\n",
       "    </tr>\n",
       "    <tr>\n",
       "      <th>Fully Paid</th>\n",
       "      <td>142730.0</td>\n",
       "      <td>1.852610</td>\n",
       "      <td>2.166241</td>\n",
       "      <td>0.0</td>\n",
       "      <td>0.0</td>\n",
       "      <td>1.0</td>\n",
       "      <td>3.0</td>\n",
       "      <td>34.0</td>\n",
       "    </tr>\n",
       "  </tbody>\n",
       "</table>\n",
       "</div>"
      ],
      "text/plain": [
       "                count      mean       std  min  25%  50%  75%   max\n",
       "loan_status                                                        \n",
       "Charged Off   32691.0  1.538374  1.993969  0.0  0.0  1.0  3.0  22.0\n",
       "Fully Paid   142730.0  1.852610  2.166241  0.0  0.0  1.0  3.0  34.0"
      ]
     },
     "execution_count": 117,
     "metadata": {},
     "output_type": "execute_result"
    }
   ],
   "source": [
    "loans.groupby('loan_status')['mort_acc'].describe()"
   ]
  },
  {
   "cell_type": "markdown",
   "metadata": {
    "_uuid": "623e07fbc94d998879913ddea49abadb458e0f9e"
   },
   "source": [
    "Individuals who pay off their loans are more likely to have several mortgage accounts."
   ]
  },
  {
   "cell_type": "markdown",
   "metadata": {
    "_uuid": "66fbd303b48b42cfa07cf82e4eb84c8ea48c5e25"
   },
   "source": [
    "## 5.27 pub_rec_bankruptcies"
   ]
  },
  {
   "cell_type": "markdown",
   "metadata": {
    "_uuid": "a358a17d05c11b6036361de7c716fc450af487d3"
   },
   "source": [
    "Data Dictionary: \"Number of public record bankruptcies.\""
   ]
  },
  {
   "cell_type": "code",
   "execution_count": 118,
   "metadata": {
    "_uuid": "c2e3ebafc34f79fb222378381779aebee88fb594"
   },
   "outputs": [
    {
     "data": {
      "text/plain": [
       "0.0     152700\n",
       "1.0      21397\n",
       "2.0       1025\n",
       "3.0        224\n",
       "4.0         49\n",
       "5.0         18\n",
       "6.0          2\n",
       "7.0          5\n",
       "12.0         1\n",
       "Name: pub_rec_bankruptcies, dtype: int64"
      ]
     },
     "execution_count": 118,
     "metadata": {},
     "output_type": "execute_result"
    }
   ],
   "source": [
    "loans['pub_rec_bankruptcies'].value_counts().sort_index()"
   ]
  },
  {
   "cell_type": "code",
   "execution_count": 119,
   "metadata": {
    "_uuid": "eb7bd6823a5d5ab02a03a82d199a0afa86327742"
   },
   "outputs": [
    {
     "data": {
      "image/png": "[encoded data removed]",
      "text/plain": [
       "<Figure size 1080x270 with 2 Axes>"
      ]
     },
     "metadata": {},
     "output_type": "display_data"
    }
   ],
   "source": [
    "plot_var('pub_rec_bankruptcies', 'Public Record Bankruptcies', continuous=False)"
   ]
  },
  {
   "cell_type": "markdown",
   "metadata": {
    "_uuid": "48df80a32f50b9e4fd2fb6d17c16882bbef2a272"
   },
   "source": [
    "# 6. More Pre-processing\n",
    "<a id=\"6\"></a>"
   ]
  },
  {
   "cell_type": "markdown",
   "metadata": {
    "_uuid": "5c5d46ae7fa6b3e2596d2174278a9ecb413b32f2"
   },
   "source": [
    "## 6.1 Convert loan status to 0/1 charge-off indicator\n",
    "<a id=\"6.1\"></a>"
   ]
  },
  {
   "cell_type": "markdown",
   "metadata": {
    "_uuid": "0247c5eb2bf19c3c8b85ae2a377fddb796898832"
   },
   "source": [
    "Change the response variable `loan_status` to a 0/1 variable, where 0 indicates fully paid and 1 indicates charge-off:"
   ]
  },
  {
   "cell_type": "code",
   "execution_count": 120,
   "metadata": {
    "_uuid": "c32e2cafd777d4b0ea59df465d63caa424c92e99"
   },
   "outputs": [],
   "source": [
    "loans['charged_off'] = (loans['loan_status'] == 'Charged Off').apply(np.uint8)\n",
    "loans.drop('loan_status', axis=1, inplace=True)"
   ]
  },
  {
   "cell_type": "markdown",
   "metadata": {
    "_uuid": "e1a009f88678ed738dd4babd0739c1bbffa313ca"
   },
   "source": [
    "## 6.2 Create dummy variables\n",
    "<a id=\"6.2\"></a>"
   ]
  },
  {
   "cell_type": "markdown",
   "metadata": {
    "_uuid": "3fab723da1b9d7ac6ce5e47bd94106084415d26d"
   },
   "source": [
    "How many variables do we currently have?"
   ]
  },
  {
   "cell_type": "code",
   "execution_count": 121,
   "metadata": {
    "_uuid": "4b06bb284d909ebb9d8d1379449dcb823eb836b4"
   },
   "outputs": [
    {
     "data": {
      "text/plain": [
       "(175421, 25)"
      ]
     },
     "execution_count": 121,
     "metadata": {},
     "output_type": "execute_result"
    }
   ],
   "source": [
    "loans.shape"
   ]
  },
  {
   "cell_type": "markdown",
   "metadata": {
    "_uuid": "64ae9a25aac69e02473e8f085dd047beb49c337d"
   },
   "source": [
    "If any categorical variables have missing values, we'll need to create NaN dummy variables for those. So first check which variables have missing data:"
   ]
  },
  {
   "cell_type": "code",
   "execution_count": 122,
   "metadata": {
    "_uuid": "f8fb1d0f3c874d40c788ef4e2dae98540045c9e2"
   },
   "outputs": [],
   "source": [
    "missing_fractions = loans.isnull().mean().sort_values(ascending=False) # Fraction of data missing for each variable"
   ]
  },
  {
   "cell_type": "code",
   "execution_count": 123,
   "metadata": {
    "_uuid": "3784fdc046846e12d9e24f35fdfa3479ef5ee031"
   },
   "outputs": [
    {
     "name": "stdout",
     "output_type": "stream",
     "text": [
      "emp_length    0.051402\n",
      "revol_util    0.000524\n",
      "dtype: float64\n"
     ]
    }
   ],
   "source": [
    "print(missing_fractions[missing_fractions > 0]) # Print variables that are missing data"
   ]
  },
  {
   "cell_type": "markdown",
   "metadata": {
    "_uuid": "2f88ae0cbff3633cebeefc3872480653ef205001"
   },
   "source": [
    "There are no categorical variables with missing values, and therefore we don't need any `NaN` dummy variables.\n",
    "\n",
    "Create dummy variables for the categorical variables:"
   ]
  },
  {
   "cell_type": "code",
   "execution_count": 124,
   "metadata": {
    "_uuid": "ae134b08939ec0e79a48fe5fb0854f1909155ae3"
   },
   "outputs": [
    {
     "name": "stdout",
     "output_type": "stream",
     "text": [
      "Index(['loan_amnt', 'term', 'int_rate', 'installment', 'sub_grade',\n",
      "       'emp_length', 'home_ownership', 'verification_status', 'issue_d',\n",
      "       'purpose', 'addr_state', 'dti', 'earliest_cr_line', 'open_acc',\n",
      "       'pub_rec', 'revol_util', 'total_acc', 'initial_list_status',\n",
      "       'application_type', 'mort_acc', 'pub_rec_bankruptcies',\n",
      "       'log_annual_inc', 'fico_score', 'log_revol_bal', 'charged_off'],\n",
      "      dtype='object')\n"
     ]
    }
   ],
   "source": [
    "print(loans.columns)"
   ]
  },
  {
   "cell_type": "code",
   "execution_count": 125,
   "metadata": {
    "_uuid": "9e9bb9c2bf409ec5be518e3c3896bbb07cc4abb2"
   },
   "outputs": [],
   "source": [
    "loans = pd.get_dummies(loans, columns=['sub_grade', 'home_ownership', 'verification_status', 'purpose', 'addr_state', 'initial_list_status', 'application_type'], drop_first=True)"
   ]
  },
  {
   "cell_type": "markdown",
   "metadata": {
    "_uuid": "f73371a37cb725909d17b8e9bcf3ee35bf8e65b0"
   },
   "source": [
    "How many variables are there now?"
   ]
  },
  {
   "cell_type": "code",
   "execution_count": 126,
   "metadata": {
    "_uuid": "7f7b283b25cee3c1fae860e415f09108b01990fc"
   },
   "outputs": [
    {
     "data": {
      "text/plain": [
       "(175421, 116)"
      ]
     },
     "execution_count": 126,
     "metadata": {},
     "output_type": "execute_result"
    }
   ],
   "source": [
    "loans.shape"
   ]
  },
  {
   "cell_type": "markdown",
   "metadata": {
    "_uuid": "5aac6b7e148e1e72116ab037216b20ff886d4d20"
   },
   "source": [
    "Check our data with the new dummy variables:"
   ]
  },
  {
   "cell_type": "code",
   "execution_count": 127,
   "metadata": {
    "_uuid": "754d01e2f194c88b1c719c007e53d28d1bc85dab"
   },
   "outputs": [
    {
     "data": {
      "text/html": [
       "<div>\n",
       "<style scoped>\n",
       "    .dataframe tbody tr th:only-of-type {\n",
       "        vertical-align: middle;\n",
       "    }\n",
       "\n",
       "    .dataframe tbody tr th {\n",
       "        vertical-align: top;\n",
       "    }\n",
       "\n",
       "    .dataframe thead th {\n",
       "        text-align: right;\n",
       "    }\n",
       "</style>\n",
       "<table border=\"1\" class=\"dataframe\">\n",
       "  <thead>\n",
       "    <tr style=\"text-align: right;\">\n",
       "      <th></th>\n",
       "      <th>loan_amnt</th>\n",
       "      <th>term</th>\n",
       "      <th>int_rate</th>\n",
       "      <th>installment</th>\n",
       "      <th>emp_length</th>\n",
       "      <th>issue_d</th>\n",
       "      <th>dti</th>\n",
       "      <th>earliest_cr_line</th>\n",
       "      <th>open_acc</th>\n",
       "      <th>pub_rec</th>\n",
       "      <th>revol_util</th>\n",
       "      <th>total_acc</th>\n",
       "      <th>mort_acc</th>\n",
       "      <th>pub_rec_bankruptcies</th>\n",
       "      <th>log_annual_inc</th>\n",
       "      <th>fico_score</th>\n",
       "      <th>log_revol_bal</th>\n",
       "      <th>charged_off</th>\n",
       "      <th>sub_grade_A2</th>\n",
       "      <th>sub_grade_A3</th>\n",
       "      <th>sub_grade_A4</th>\n",
       "      <th>sub_grade_A5</th>\n",
       "      <th>sub_grade_B1</th>\n",
       "      <th>sub_grade_B2</th>\n",
       "      <th>sub_grade_B3</th>\n",
       "      <th>sub_grade_B4</th>\n",
       "      <th>sub_grade_B5</th>\n",
       "      <th>sub_grade_C1</th>\n",
       "      <th>sub_grade_C2</th>\n",
       "      <th>sub_grade_C3</th>\n",
       "      <th>sub_grade_C4</th>\n",
       "      <th>sub_grade_C5</th>\n",
       "      <th>sub_grade_D1</th>\n",
       "      <th>sub_grade_D2</th>\n",
       "      <th>sub_grade_D3</th>\n",
       "      <th>sub_grade_D4</th>\n",
       "      <th>sub_grade_D5</th>\n",
       "      <th>sub_grade_E1</th>\n",
       "      <th>sub_grade_E2</th>\n",
       "      <th>sub_grade_E3</th>\n",
       "      <th>sub_grade_E4</th>\n",
       "      <th>sub_grade_E5</th>\n",
       "      <th>sub_grade_F1</th>\n",
       "      <th>sub_grade_F2</th>\n",
       "      <th>sub_grade_F3</th>\n",
       "      <th>sub_grade_F4</th>\n",
       "      <th>sub_grade_F5</th>\n",
       "      <th>sub_grade_G1</th>\n",
       "      <th>sub_grade_G2</th>\n",
       "      <th>sub_grade_G3</th>\n",
       "      <th>sub_grade_G4</th>\n",
       "      <th>sub_grade_G5</th>\n",
       "      <th>home_ownership_OTHER</th>\n",
       "      <th>home_ownership_OWN</th>\n",
       "      <th>home_ownership_RENT</th>\n",
       "      <th>verification_status_Source Verified</th>\n",
       "      <th>verification_status_Verified</th>\n",
       "      <th>purpose_credit_card</th>\n",
       "      <th>purpose_debt_consolidation</th>\n",
       "      <th>purpose_home_improvement</th>\n",
       "      <th>purpose_house</th>\n",
       "      <th>purpose_major_purchase</th>\n",
       "      <th>purpose_medical</th>\n",
       "      <th>purpose_moving</th>\n",
       "      <th>purpose_other</th>\n",
       "      <th>purpose_renewable_energy</th>\n",
       "      <th>purpose_small_business</th>\n",
       "      <th>purpose_vacation</th>\n",
       "      <th>purpose_wedding</th>\n",
       "      <th>addr_state_AL</th>\n",
       "      <th>addr_state_AR</th>\n",
       "      <th>addr_state_AZ</th>\n",
       "      <th>addr_state_CA</th>\n",
       "      <th>addr_state_CO</th>\n",
       "      <th>addr_state_CT</th>\n",
       "      <th>addr_state_DC</th>\n",
       "      <th>addr_state_DE</th>\n",
       "      <th>addr_state_FL</th>\n",
       "      <th>addr_state_GA</th>\n",
       "      <th>addr_state_HI</th>\n",
       "      <th>addr_state_IA</th>\n",
       "      <th>addr_state_IL</th>\n",
       "      <th>addr_state_IN</th>\n",
       "      <th>addr_state_KS</th>\n",
       "      <th>addr_state_KY</th>\n",
       "      <th>addr_state_LA</th>\n",
       "      <th>addr_state_MA</th>\n",
       "      <th>addr_state_MD</th>\n",
       "      <th>addr_state_MI</th>\n",
       "      <th>addr_state_MN</th>\n",
       "      <th>addr_state_MO</th>\n",
       "      <th>addr_state_MS</th>\n",
       "      <th>addr_state_MT</th>\n",
       "      <th>addr_state_NC</th>\n",
       "      <th>addr_state_NH</th>\n",
       "      <th>addr_state_NJ</th>\n",
       "      <th>addr_state_NM</th>\n",
       "      <th>addr_state_NV</th>\n",
       "      <th>addr_state_NY</th>\n",
       "      <th>addr_state_OH</th>\n",
       "      <th>addr_state_OK</th>\n",
       "      <th>addr_state_OR</th>\n",
       "      <th>addr_state_PA</th>\n",
       "      <th>addr_state_RI</th>\n",
       "      <th>addr_state_SC</th>\n",
       "      <th>addr_state_SD</th>\n",
       "      <th>addr_state_TN</th>\n",
       "      <th>addr_state_TX</th>\n",
       "      <th>addr_state_UT</th>\n",
       "      <th>addr_state_VA</th>\n",
       "      <th>addr_state_VT</th>\n",
       "      <th>addr_state_WA</th>\n",
       "      <th>addr_state_WI</th>\n",
       "      <th>addr_state_WV</th>\n",
       "      <th>addr_state_WY</th>\n",
       "      <th>initial_list_status_w</th>\n",
       "    </tr>\n",
       "  </thead>\n",
       "  <tbody>\n",
       "    <tr>\n",
       "      <th>68032</th>\n",
       "      <td>12000.0</td>\n",
       "      <td>36</td>\n",
       "      <td>14.99</td>\n",
       "      <td>415.93</td>\n",
       "      <td>7.0</td>\n",
       "      <td>Oct-2014</td>\n",
       "      <td>14.97</td>\n",
       "      <td>2003</td>\n",
       "      <td>10.0</td>\n",
       "      <td>0.0</td>\n",
       "      <td>58.8</td>\n",
       "      <td>19.0</td>\n",
       "      <td>0.0</td>\n",
       "      <td>0.0</td>\n",
       "      <td>4.602071</td>\n",
       "      <td>662.0</td>\n",
       "      <td>3.909342</td>\n",
       "      <td>0</td>\n",
       "      <td>0</td>\n",
       "      <td>0</td>\n",
       "      <td>0</td>\n",
       "      <td>0</td>\n",
       "      <td>0</td>\n",
       "      <td>0</td>\n",
       "      <td>0</td>\n",
       "      <td>0</td>\n",
       "      <td>0</td>\n",
       "      <td>0</td>\n",
       "      <td>0</td>\n",
       "      <td>0</td>\n",
       "      <td>0</td>\n",
       "      <td>1</td>\n",
       "      <td>0</td>\n",
       "      <td>0</td>\n",
       "      <td>0</td>\n",
       "      <td>0</td>\n",
       "      <td>0</td>\n",
       "      <td>0</td>\n",
       "      <td>0</td>\n",
       "      <td>0</td>\n",
       "      <td>0</td>\n",
       "      <td>0</td>\n",
       "      <td>0</td>\n",
       "      <td>0</td>\n",
       "      <td>0</td>\n",
       "      <td>0</td>\n",
       "      <td>0</td>\n",
       "      <td>0</td>\n",
       "      <td>0</td>\n",
       "      <td>0</td>\n",
       "      <td>0</td>\n",
       "      <td>0</td>\n",
       "      <td>0</td>\n",
       "      <td>0</td>\n",
       "      <td>1</td>\n",
       "      <td>0</td>\n",
       "      <td>0</td>\n",
       "      <td>0</td>\n",
       "      <td>1</td>\n",
       "      <td>0</td>\n",
       "      <td>0</td>\n",
       "      <td>0</td>\n",
       "      <td>0</td>\n",
       "      <td>0</td>\n",
       "      <td>0</td>\n",
       "      <td>0</td>\n",
       "      <td>0</td>\n",
       "      <td>0</td>\n",
       "      <td>0</td>\n",
       "      <td>0</td>\n",
       "      <td>0</td>\n",
       "      <td>0</td>\n",
       "      <td>0</td>\n",
       "      <td>0</td>\n",
       "      <td>0</td>\n",
       "      <td>0</td>\n",
       "      <td>0</td>\n",
       "      <td>0</td>\n",
       "      <td>0</td>\n",
       "      <td>0</td>\n",
       "      <td>0</td>\n",
       "      <td>0</td>\n",
       "      <td>0</td>\n",
       "      <td>0</td>\n",
       "      <td>0</td>\n",
       "      <td>0</td>\n",
       "      <td>1</td>\n",
       "      <td>0</td>\n",
       "      <td>0</td>\n",
       "      <td>0</td>\n",
       "      <td>0</td>\n",
       "      <td>0</td>\n",
       "      <td>0</td>\n",
       "      <td>0</td>\n",
       "      <td>0</td>\n",
       "      <td>0</td>\n",
       "      <td>0</td>\n",
       "      <td>0</td>\n",
       "      <td>0</td>\n",
       "      <td>0</td>\n",
       "      <td>0</td>\n",
       "      <td>0</td>\n",
       "      <td>0</td>\n",
       "      <td>0</td>\n",
       "      <td>0</td>\n",
       "      <td>0</td>\n",
       "      <td>0</td>\n",
       "      <td>0</td>\n",
       "      <td>0</td>\n",
       "      <td>0</td>\n",
       "      <td>0</td>\n",
       "      <td>0</td>\n",
       "      <td>0</td>\n",
       "      <td>0</td>\n",
       "      <td>0</td>\n",
       "      <td>0</td>\n",
       "    </tr>\n",
       "    <tr>\n",
       "      <th>162546</th>\n",
       "      <td>8650.0</td>\n",
       "      <td>36</td>\n",
       "      <td>13.35</td>\n",
       "      <td>292.92</td>\n",
       "      <td>9.0</td>\n",
       "      <td>May-2014</td>\n",
       "      <td>13.03</td>\n",
       "      <td>1994</td>\n",
       "      <td>14.0</td>\n",
       "      <td>0.0</td>\n",
       "      <td>7.0</td>\n",
       "      <td>33.0</td>\n",
       "      <td>2.0</td>\n",
       "      <td>0.0</td>\n",
       "      <td>4.528930</td>\n",
       "      <td>677.0</td>\n",
       "      <td>3.164353</td>\n",
       "      <td>1</td>\n",
       "      <td>0</td>\n",
       "      <td>0</td>\n",
       "      <td>0</td>\n",
       "      <td>0</td>\n",
       "      <td>0</td>\n",
       "      <td>0</td>\n",
       "      <td>0</td>\n",
       "      <td>0</td>\n",
       "      <td>0</td>\n",
       "      <td>0</td>\n",
       "      <td>1</td>\n",
       "      <td>0</td>\n",
       "      <td>0</td>\n",
       "      <td>0</td>\n",
       "      <td>0</td>\n",
       "      <td>0</td>\n",
       "      <td>0</td>\n",
       "      <td>0</td>\n",
       "      <td>0</td>\n",
       "      <td>0</td>\n",
       "      <td>0</td>\n",
       "      <td>0</td>\n",
       "      <td>0</td>\n",
       "      <td>0</td>\n",
       "      <td>0</td>\n",
       "      <td>0</td>\n",
       "      <td>0</td>\n",
       "      <td>0</td>\n",
       "      <td>0</td>\n",
       "      <td>0</td>\n",
       "      <td>0</td>\n",
       "      <td>0</td>\n",
       "      <td>0</td>\n",
       "      <td>0</td>\n",
       "      <td>0</td>\n",
       "      <td>0</td>\n",
       "      <td>1</td>\n",
       "      <td>0</td>\n",
       "      <td>1</td>\n",
       "      <td>0</td>\n",
       "      <td>1</td>\n",
       "      <td>0</td>\n",
       "      <td>0</td>\n",
       "      <td>0</td>\n",
       "      <td>0</td>\n",
       "      <td>0</td>\n",
       "      <td>0</td>\n",
       "      <td>0</td>\n",
       "      <td>0</td>\n",
       "      <td>0</td>\n",
       "      <td>0</td>\n",
       "      <td>0</td>\n",
       "      <td>0</td>\n",
       "      <td>0</td>\n",
       "      <td>0</td>\n",
       "      <td>0</td>\n",
       "      <td>0</td>\n",
       "      <td>0</td>\n",
       "      <td>0</td>\n",
       "      <td>0</td>\n",
       "      <td>0</td>\n",
       "      <td>0</td>\n",
       "      <td>0</td>\n",
       "      <td>0</td>\n",
       "      <td>0</td>\n",
       "      <td>0</td>\n",
       "      <td>0</td>\n",
       "      <td>0</td>\n",
       "      <td>0</td>\n",
       "      <td>0</td>\n",
       "      <td>0</td>\n",
       "      <td>1</td>\n",
       "      <td>0</td>\n",
       "      <td>0</td>\n",
       "      <td>0</td>\n",
       "      <td>0</td>\n",
       "      <td>0</td>\n",
       "      <td>0</td>\n",
       "      <td>0</td>\n",
       "      <td>0</td>\n",
       "      <td>0</td>\n",
       "      <td>0</td>\n",
       "      <td>0</td>\n",
       "      <td>0</td>\n",
       "      <td>0</td>\n",
       "      <td>0</td>\n",
       "      <td>0</td>\n",
       "      <td>0</td>\n",
       "      <td>0</td>\n",
       "      <td>0</td>\n",
       "      <td>0</td>\n",
       "      <td>0</td>\n",
       "      <td>0</td>\n",
       "      <td>0</td>\n",
       "      <td>0</td>\n",
       "      <td>0</td>\n",
       "      <td>0</td>\n",
       "      <td>1</td>\n",
       "    </tr>\n",
       "    <tr>\n",
       "      <th>88911</th>\n",
       "      <td>7000.0</td>\n",
       "      <td>36</td>\n",
       "      <td>16.99</td>\n",
       "      <td>249.54</td>\n",
       "      <td>7.0</td>\n",
       "      <td>Aug-2014</td>\n",
       "      <td>27.65</td>\n",
       "      <td>1993</td>\n",
       "      <td>14.0</td>\n",
       "      <td>0.0</td>\n",
       "      <td>76.8</td>\n",
       "      <td>24.0</td>\n",
       "      <td>0.0</td>\n",
       "      <td>0.0</td>\n",
       "      <td>4.653222</td>\n",
       "      <td>692.0</td>\n",
       "      <td>4.245365</td>\n",
       "      <td>1</td>\n",
       "      <td>0</td>\n",
       "      <td>0</td>\n",
       "      <td>0</td>\n",
       "      <td>0</td>\n",
       "      <td>0</td>\n",
       "      <td>0</td>\n",
       "      <td>0</td>\n",
       "      <td>0</td>\n",
       "      <td>0</td>\n",
       "      <td>0</td>\n",
       "      <td>0</td>\n",
       "      <td>0</td>\n",
       "      <td>0</td>\n",
       "      <td>0</td>\n",
       "      <td>0</td>\n",
       "      <td>0</td>\n",
       "      <td>1</td>\n",
       "      <td>0</td>\n",
       "      <td>0</td>\n",
       "      <td>0</td>\n",
       "      <td>0</td>\n",
       "      <td>0</td>\n",
       "      <td>0</td>\n",
       "      <td>0</td>\n",
       "      <td>0</td>\n",
       "      <td>0</td>\n",
       "      <td>0</td>\n",
       "      <td>0</td>\n",
       "      <td>0</td>\n",
       "      <td>0</td>\n",
       "      <td>0</td>\n",
       "      <td>0</td>\n",
       "      <td>0</td>\n",
       "      <td>0</td>\n",
       "      <td>0</td>\n",
       "      <td>0</td>\n",
       "      <td>1</td>\n",
       "      <td>1</td>\n",
       "      <td>0</td>\n",
       "      <td>0</td>\n",
       "      <td>1</td>\n",
       "      <td>0</td>\n",
       "      <td>0</td>\n",
       "      <td>0</td>\n",
       "      <td>0</td>\n",
       "      <td>0</td>\n",
       "      <td>0</td>\n",
       "      <td>0</td>\n",
       "      <td>0</td>\n",
       "      <td>0</td>\n",
       "      <td>0</td>\n",
       "      <td>0</td>\n",
       "      <td>0</td>\n",
       "      <td>0</td>\n",
       "      <td>0</td>\n",
       "      <td>0</td>\n",
       "      <td>0</td>\n",
       "      <td>0</td>\n",
       "      <td>0</td>\n",
       "      <td>0</td>\n",
       "      <td>0</td>\n",
       "      <td>0</td>\n",
       "      <td>0</td>\n",
       "      <td>0</td>\n",
       "      <td>0</td>\n",
       "      <td>0</td>\n",
       "      <td>0</td>\n",
       "      <td>0</td>\n",
       "      <td>0</td>\n",
       "      <td>0</td>\n",
       "      <td>0</td>\n",
       "      <td>1</td>\n",
       "      <td>0</td>\n",
       "      <td>0</td>\n",
       "      <td>0</td>\n",
       "      <td>0</td>\n",
       "      <td>0</td>\n",
       "      <td>0</td>\n",
       "      <td>0</td>\n",
       "      <td>0</td>\n",
       "      <td>0</td>\n",
       "      <td>0</td>\n",
       "      <td>0</td>\n",
       "      <td>0</td>\n",
       "      <td>0</td>\n",
       "      <td>0</td>\n",
       "      <td>0</td>\n",
       "      <td>0</td>\n",
       "      <td>0</td>\n",
       "      <td>0</td>\n",
       "      <td>0</td>\n",
       "      <td>0</td>\n",
       "      <td>0</td>\n",
       "      <td>0</td>\n",
       "      <td>0</td>\n",
       "      <td>0</td>\n",
       "      <td>0</td>\n",
       "      <td>0</td>\n",
       "    </tr>\n",
       "    <tr>\n",
       "      <th>169522</th>\n",
       "      <td>35000.0</td>\n",
       "      <td>60</td>\n",
       "      <td>18.92</td>\n",
       "      <td>906.38</td>\n",
       "      <td>10.0</td>\n",
       "      <td>Apr-2014</td>\n",
       "      <td>32.36</td>\n",
       "      <td>1984</td>\n",
       "      <td>23.0</td>\n",
       "      <td>0.0</td>\n",
       "      <td>74.1</td>\n",
       "      <td>57.0</td>\n",
       "      <td>4.0</td>\n",
       "      <td>0.0</td>\n",
       "      <td>5.025310</td>\n",
       "      <td>707.0</td>\n",
       "      <td>4.660609</td>\n",
       "      <td>0</td>\n",
       "      <td>0</td>\n",
       "      <td>0</td>\n",
       "      <td>0</td>\n",
       "      <td>0</td>\n",
       "      <td>0</td>\n",
       "      <td>0</td>\n",
       "      <td>0</td>\n",
       "      <td>0</td>\n",
       "      <td>0</td>\n",
       "      <td>0</td>\n",
       "      <td>0</td>\n",
       "      <td>0</td>\n",
       "      <td>0</td>\n",
       "      <td>0</td>\n",
       "      <td>0</td>\n",
       "      <td>0</td>\n",
       "      <td>0</td>\n",
       "      <td>1</td>\n",
       "      <td>0</td>\n",
       "      <td>0</td>\n",
       "      <td>0</td>\n",
       "      <td>0</td>\n",
       "      <td>0</td>\n",
       "      <td>0</td>\n",
       "      <td>0</td>\n",
       "      <td>0</td>\n",
       "      <td>0</td>\n",
       "      <td>0</td>\n",
       "      <td>0</td>\n",
       "      <td>0</td>\n",
       "      <td>0</td>\n",
       "      <td>0</td>\n",
       "      <td>0</td>\n",
       "      <td>0</td>\n",
       "      <td>0</td>\n",
       "      <td>0</td>\n",
       "      <td>0</td>\n",
       "      <td>0</td>\n",
       "      <td>1</td>\n",
       "      <td>1</td>\n",
       "      <td>0</td>\n",
       "      <td>0</td>\n",
       "      <td>0</td>\n",
       "      <td>0</td>\n",
       "      <td>0</td>\n",
       "      <td>0</td>\n",
       "      <td>0</td>\n",
       "      <td>0</td>\n",
       "      <td>0</td>\n",
       "      <td>0</td>\n",
       "      <td>0</td>\n",
       "      <td>0</td>\n",
       "      <td>0</td>\n",
       "      <td>0</td>\n",
       "      <td>0</td>\n",
       "      <td>0</td>\n",
       "      <td>0</td>\n",
       "      <td>0</td>\n",
       "      <td>0</td>\n",
       "      <td>0</td>\n",
       "      <td>0</td>\n",
       "      <td>0</td>\n",
       "      <td>0</td>\n",
       "      <td>0</td>\n",
       "      <td>0</td>\n",
       "      <td>0</td>\n",
       "      <td>0</td>\n",
       "      <td>0</td>\n",
       "      <td>0</td>\n",
       "      <td>0</td>\n",
       "      <td>0</td>\n",
       "      <td>0</td>\n",
       "      <td>0</td>\n",
       "      <td>0</td>\n",
       "      <td>0</td>\n",
       "      <td>0</td>\n",
       "      <td>0</td>\n",
       "      <td>0</td>\n",
       "      <td>0</td>\n",
       "      <td>0</td>\n",
       "      <td>0</td>\n",
       "      <td>0</td>\n",
       "      <td>0</td>\n",
       "      <td>0</td>\n",
       "      <td>0</td>\n",
       "      <td>0</td>\n",
       "      <td>0</td>\n",
       "      <td>0</td>\n",
       "      <td>0</td>\n",
       "      <td>0</td>\n",
       "      <td>0</td>\n",
       "      <td>1</td>\n",
       "      <td>0</td>\n",
       "      <td>0</td>\n",
       "      <td>0</td>\n",
       "      <td>0</td>\n",
       "      <td>0</td>\n",
       "      <td>1</td>\n",
       "    </tr>\n",
       "    <tr>\n",
       "      <th>138542</th>\n",
       "      <td>8600.0</td>\n",
       "      <td>36</td>\n",
       "      <td>15.61</td>\n",
       "      <td>300.70</td>\n",
       "      <td>NaN</td>\n",
       "      <td>Jun-2014</td>\n",
       "      <td>16.50</td>\n",
       "      <td>1990</td>\n",
       "      <td>12.0</td>\n",
       "      <td>0.0</td>\n",
       "      <td>78.8</td>\n",
       "      <td>18.0</td>\n",
       "      <td>3.0</td>\n",
       "      <td>0.0</td>\n",
       "      <td>4.380229</td>\n",
       "      <td>662.0</td>\n",
       "      <td>4.075547</td>\n",
       "      <td>0</td>\n",
       "      <td>0</td>\n",
       "      <td>0</td>\n",
       "      <td>0</td>\n",
       "      <td>0</td>\n",
       "      <td>0</td>\n",
       "      <td>0</td>\n",
       "      <td>0</td>\n",
       "      <td>0</td>\n",
       "      <td>0</td>\n",
       "      <td>0</td>\n",
       "      <td>0</td>\n",
       "      <td>0</td>\n",
       "      <td>0</td>\n",
       "      <td>0</td>\n",
       "      <td>1</td>\n",
       "      <td>0</td>\n",
       "      <td>0</td>\n",
       "      <td>0</td>\n",
       "      <td>0</td>\n",
       "      <td>0</td>\n",
       "      <td>0</td>\n",
       "      <td>0</td>\n",
       "      <td>0</td>\n",
       "      <td>0</td>\n",
       "      <td>0</td>\n",
       "      <td>0</td>\n",
       "      <td>0</td>\n",
       "      <td>0</td>\n",
       "      <td>0</td>\n",
       "      <td>0</td>\n",
       "      <td>0</td>\n",
       "      <td>0</td>\n",
       "      <td>0</td>\n",
       "      <td>0</td>\n",
       "      <td>0</td>\n",
       "      <td>0</td>\n",
       "      <td>0</td>\n",
       "      <td>0</td>\n",
       "      <td>1</td>\n",
       "      <td>0</td>\n",
       "      <td>1</td>\n",
       "      <td>0</td>\n",
       "      <td>0</td>\n",
       "      <td>0</td>\n",
       "      <td>0</td>\n",
       "      <td>0</td>\n",
       "      <td>0</td>\n",
       "      <td>0</td>\n",
       "      <td>0</td>\n",
       "      <td>0</td>\n",
       "      <td>0</td>\n",
       "      <td>0</td>\n",
       "      <td>0</td>\n",
       "      <td>0</td>\n",
       "      <td>0</td>\n",
       "      <td>0</td>\n",
       "      <td>0</td>\n",
       "      <td>0</td>\n",
       "      <td>0</td>\n",
       "      <td>0</td>\n",
       "      <td>0</td>\n",
       "      <td>1</td>\n",
       "      <td>0</td>\n",
       "      <td>0</td>\n",
       "      <td>0</td>\n",
       "      <td>0</td>\n",
       "      <td>0</td>\n",
       "      <td>0</td>\n",
       "      <td>0</td>\n",
       "      <td>0</td>\n",
       "      <td>0</td>\n",
       "      <td>0</td>\n",
       "      <td>0</td>\n",
       "      <td>0</td>\n",
       "      <td>0</td>\n",
       "      <td>0</td>\n",
       "      <td>0</td>\n",
       "      <td>0</td>\n",
       "      <td>0</td>\n",
       "      <td>0</td>\n",
       "      <td>0</td>\n",
       "      <td>0</td>\n",
       "      <td>0</td>\n",
       "      <td>0</td>\n",
       "      <td>0</td>\n",
       "      <td>0</td>\n",
       "      <td>0</td>\n",
       "      <td>0</td>\n",
       "      <td>0</td>\n",
       "      <td>0</td>\n",
       "      <td>0</td>\n",
       "      <td>0</td>\n",
       "      <td>0</td>\n",
       "      <td>0</td>\n",
       "      <td>0</td>\n",
       "      <td>0</td>\n",
       "      <td>0</td>\n",
       "      <td>1</td>\n",
       "    </tr>\n",
       "  </tbody>\n",
       "</table>\n",
       "</div>"
      ],
      "text/plain": [
       "        loan_amnt  term  int_rate  installment  emp_length   issue_d    dti  \\\n",
       "68032     12000.0    36     14.99       415.93         7.0  Oct-2014  14.97   \n",
       "162546     8650.0    36     13.35       292.92         9.0  May-2014  13.03   \n",
       "88911      7000.0    36     16.99       249.54         7.0  Aug-2014  27.65   \n",
       "169522    35000.0    60     18.92       906.38        10.0  Apr-2014  32.36   \n",
       "138542     8600.0    36     15.61       300.70         NaN  Jun-2014  16.50   \n",
       "\n",
       "        earliest_cr_line  open_acc  pub_rec  revol_util  total_acc  mort_acc  \\\n",
       "68032               2003      10.0      0.0        58.8       19.0       0.0   \n",
       "162546              1994      14.0      0.0         7.0       33.0       2.0   \n",
       "88911               1993      14.0      0.0        76.8       24.0       0.0   \n",
       "169522              1984      23.0      0.0        74.1       57.0       4.0   \n",
       "138542              1990      12.0      0.0        78.8       18.0       3.0   \n",
       "\n",
       "        pub_rec_bankruptcies  log_annual_inc  fico_score  log_revol_bal  \\\n",
       "68032                    0.0        4.602071       662.0       3.909342   \n",
       "162546                   0.0        4.528930       677.0       3.164353   \n",
       "88911                    0.0        4.653222       692.0       4.245365   \n",
       "169522                   0.0        5.025310       707.0       4.660609   \n",
       "138542                   0.0        4.380229       662.0       4.075547   \n",
       "\n",
       "        charged_off  sub_grade_A2  sub_grade_A3  sub_grade_A4  sub_grade_A5  \\\n",
       "68032             0             0             0             0             0   \n",
       "162546            1             0             0             0             0   \n",
       "88911             1             0             0             0             0   \n",
       "169522            0             0             0             0             0   \n",
       "138542            0             0             0             0             0   \n",
       "\n",
       "        sub_grade_B1  sub_grade_B2  sub_grade_B3  sub_grade_B4  sub_grade_B5  \\\n",
       "68032              0             0             0             0             0   \n",
       "162546             0             0             0             0             0   \n",
       "88911              0             0             0             0             0   \n",
       "169522             0             0             0             0             0   \n",
       "138542             0             0             0             0             0   \n",
       "\n",
       "        sub_grade_C1  sub_grade_C2  sub_grade_C3  sub_grade_C4  sub_grade_C5  \\\n",
       "68032              0             0             0             0             1   \n",
       "162546             0             1             0             0             0   \n",
       "88911              0             0             0             0             0   \n",
       "169522             0             0             0             0             0   \n",
       "138542             0             0             0             0             0   \n",
       "\n",
       "        sub_grade_D1  sub_grade_D2  sub_grade_D3  sub_grade_D4  sub_grade_D5  \\\n",
       "68032              0             0             0             0             0   \n",
       "162546             0             0             0             0             0   \n",
       "88911              0             0             1             0             0   \n",
       "169522             0             0             0             1             0   \n",
       "138542             1             0             0             0             0   \n",
       "\n",
       "        sub_grade_E1  sub_grade_E2  sub_grade_E3  sub_grade_E4  sub_grade_E5  \\\n",
       "68032              0             0             0             0             0   \n",
       "162546             0             0             0             0             0   \n",
       "88911              0             0             0             0             0   \n",
       "169522             0             0             0             0             0   \n",
       "138542             0             0             0             0             0   \n",
       "\n",
       "        sub_grade_F1  sub_grade_F2  sub_grade_F3  sub_grade_F4  sub_grade_F5  \\\n",
       "68032              0             0             0             0             0   \n",
       "162546             0             0             0             0             0   \n",
       "88911              0             0             0             0             0   \n",
       "169522             0             0             0             0             0   \n",
       "138542             0             0             0             0             0   \n",
       "\n",
       "        sub_grade_G1  sub_grade_G2  sub_grade_G3  sub_grade_G4  sub_grade_G5  \\\n",
       "68032              0             0             0             0             0   \n",
       "162546             0             0             0             0             0   \n",
       "88911              0             0             0             0             0   \n",
       "169522             0             0             0             0             0   \n",
       "138542             0             0             0             0             0   \n",
       "\n",
       "        home_ownership_OTHER  home_ownership_OWN  home_ownership_RENT  \\\n",
       "68032                      0                   0                    1   \n",
       "162546                     0                   0                    1   \n",
       "88911                      0                   0                    1   \n",
       "169522                     0                   0                    0   \n",
       "138542                     0                   0                    0   \n",
       "\n",
       "        verification_status_Source Verified  verification_status_Verified  \\\n",
       "68032                                     0                             0   \n",
       "162546                                    0                             1   \n",
       "88911                                     1                             0   \n",
       "169522                                    0                             1   \n",
       "138542                                    0                             1   \n",
       "\n",
       "        purpose_credit_card  purpose_debt_consolidation  \\\n",
       "68032                     0                           1   \n",
       "162546                    0                           1   \n",
       "88911                     0                           1   \n",
       "169522                    1                           0   \n",
       "138542                    0                           1   \n",
       "\n",
       "        purpose_home_improvement  purpose_house  purpose_major_purchase  \\\n",
       "68032                          0              0                       0   \n",
       "162546                         0              0                       0   \n",
       "88911                          0              0                       0   \n",
       "169522                         0              0                       0   \n",
       "138542                         0              0                       0   \n",
       "\n",
       "        purpose_medical  purpose_moving  purpose_other  \\\n",
       "68032                 0               0              0   \n",
       "162546                0               0              0   \n",
       "88911                 0               0              0   \n",
       "169522                0               0              0   \n",
       "138542                0               0              0   \n",
       "\n",
       "        purpose_renewable_energy  purpose_small_business  purpose_vacation  \\\n",
       "68032                          0                       0                 0   \n",
       "162546                         0                       0                 0   \n",
       "88911                          0                       0                 0   \n",
       "169522                         0                       0                 0   \n",
       "138542                         0                       0                 0   \n",
       "\n",
       "        purpose_wedding  addr_state_AL  addr_state_AR  addr_state_AZ  \\\n",
       "68032                 0              0              0              0   \n",
       "162546                0              0              0              0   \n",
       "88911                 0              0              0              0   \n",
       "169522                0              0              0              0   \n",
       "138542                0              0              0              0   \n",
       "\n",
       "        addr_state_CA  addr_state_CO  addr_state_CT  addr_state_DC  \\\n",
       "68032               0              0              0              0   \n",
       "162546              0              0              0              0   \n",
       "88911               0              0              0              0   \n",
       "169522              0              0              0              0   \n",
       "138542              0              0              0              0   \n",
       "\n",
       "        addr_state_DE  addr_state_FL  addr_state_GA  addr_state_HI  \\\n",
       "68032               0              0              0              0   \n",
       "162546              0              0              0              0   \n",
       "88911               0              0              0              0   \n",
       "169522              0              0              0              0   \n",
       "138542              0              0              0              1   \n",
       "\n",
       "        addr_state_IA  addr_state_IL  addr_state_IN  addr_state_KS  \\\n",
       "68032               0              0              0              0   \n",
       "162546              0              0              0              0   \n",
       "88911               0              0              0              0   \n",
       "169522              0              0              0              0   \n",
       "138542              0              0              0              0   \n",
       "\n",
       "        addr_state_KY  addr_state_LA  addr_state_MA  addr_state_MD  \\\n",
       "68032               0              0              1              0   \n",
       "162546              0              0              0              0   \n",
       "88911               0              0              0              0   \n",
       "169522              0              0              0              0   \n",
       "138542              0              0              0              0   \n",
       "\n",
       "        addr_state_MI  addr_state_MN  addr_state_MO  addr_state_MS  \\\n",
       "68032               0              0              0              0   \n",
       "162546              0              1              0              0   \n",
       "88911               0              1              0              0   \n",
       "169522              0              0              0              0   \n",
       "138542              0              0              0              0   \n",
       "\n",
       "        addr_state_MT  addr_state_NC  addr_state_NH  addr_state_NJ  \\\n",
       "68032               0              0              0              0   \n",
       "162546              0              0              0              0   \n",
       "88911               0              0              0              0   \n",
       "169522              0              0              0              0   \n",
       "138542              0              0              0              0   \n",
       "\n",
       "        addr_state_NM  addr_state_NV  addr_state_NY  addr_state_OH  \\\n",
       "68032               0              0              0              0   \n",
       "162546              0              0              0              0   \n",
       "88911               0              0              0              0   \n",
       "169522              0              0              0              0   \n",
       "138542              0              0              0              0   \n",
       "\n",
       "        addr_state_OK  addr_state_OR  addr_state_PA  addr_state_RI  \\\n",
       "68032               0              0              0              0   \n",
       "162546              0              0              0              0   \n",
       "88911               0              0              0              0   \n",
       "169522              0              0              0              0   \n",
       "138542              0              0              0              0   \n",
       "\n",
       "        addr_state_SC  addr_state_SD  addr_state_TN  addr_state_TX  \\\n",
       "68032               0              0              0              0   \n",
       "162546              0              0              0              0   \n",
       "88911               0              0              0              0   \n",
       "169522              0              0              0              0   \n",
       "138542              0              0              0              0   \n",
       "\n",
       "        addr_state_UT  addr_state_VA  addr_state_VT  addr_state_WA  \\\n",
       "68032               0              0              0              0   \n",
       "162546              0              0              0              0   \n",
       "88911               0              0              0              0   \n",
       "169522              0              1              0              0   \n",
       "138542              0              0              0              0   \n",
       "\n",
       "        addr_state_WI  addr_state_WV  addr_state_WY  initial_list_status_w  \n",
       "68032               0              0              0                      0  \n",
       "162546              0              0              0                      1  \n",
       "88911               0              0              0                      0  \n",
       "169522              0              0              0                      1  \n",
       "138542              0              0              0                      1  "
      ]
     },
     "execution_count": 127,
     "metadata": {},
     "output_type": "execute_result"
    }
   ],
   "source": [
    "loans.sample(5)"
   ]
  },
  {
   "cell_type": "markdown",
   "metadata": {
    "_uuid": "a8775d773bb8dff6b281363f0b0d72bd3d1e80a3"
   },
   "source": [
    "## 6.3 Train/test split\n",
    "<a id=\"6.3\"></a>"
   ]
  },
  {
   "cell_type": "markdown",
   "metadata": {
    "_uuid": "a670879e59b424e5084f5c8e0abf1fda43bbfee5"
   },
   "source": [
    "We'll make our modeling problem more realistic by performing the train/test split based on the month that the loan was funded. That is, we'll use loans funded on earlier dates to predict whether future loans will charge-off. The variable `issue_d` includes the month and year that the loan was funded."
   ]
  },
  {
   "cell_type": "code",
   "execution_count": 128,
   "metadata": {
    "_uuid": "e5a5a05b996d53af6a022eba3737119ae6170314"
   },
   "outputs": [
    {
     "data": {
      "text/plain": [
       "176937    Apr-2014\n",
       "137372    Jun-2014\n",
       "22832     Nov-2014\n",
       "195108    Mar-2014\n",
       "80983     Sep-2014\n",
       "Name: issue_d, dtype: object"
      ]
     },
     "execution_count": 128,
     "metadata": {},
     "output_type": "execute_result"
    }
   ],
   "source": [
    "loans['issue_d'].sample(5)"
   ]
  },
  {
   "cell_type": "markdown",
   "metadata": {
    "_uuid": "fced747f294c652b0f92a41cc1f86be69a52b7c2"
   },
   "source": [
    "Are there any missing values?"
   ]
  },
  {
   "cell_type": "code",
   "execution_count": 129,
   "metadata": {
    "_uuid": "b8c2e35a082bcdc9953e72716ba03a83b687606e"
   },
   "outputs": [
    {
     "data": {
      "text/plain": [
       "False"
      ]
     },
     "execution_count": 129,
     "metadata": {},
     "output_type": "execute_result"
    }
   ],
   "source": [
    "loans['issue_d'].isnull().any()"
   ]
  },
  {
   "cell_type": "markdown",
   "metadata": {
    "_uuid": "6324de61a85b5548e58d6d4dc1965c697d0e5443"
   },
   "source": [
    "No. Let's convert the issue dates to datetime objects:"
   ]
  },
  {
   "cell_type": "code",
   "execution_count": 130,
   "metadata": {
    "_uuid": "d857b70462ac2c5b479036cb8ddab3355a36f42c"
   },
   "outputs": [],
   "source": [
    "loans['issue_d'] = pd.to_datetime(loans['issue_d'])"
   ]
  },
  {
   "cell_type": "code",
   "execution_count": 131,
   "metadata": {
    "_uuid": "d0208aa8b15c941bc3392cf8fc561f75dadec430"
   },
   "outputs": [
    {
     "data": {
      "text/plain": [
       "33511    2014-11-01\n",
       "64821    2014-10-01\n",
       "44360    2014-10-01\n",
       "130553   2014-07-01\n",
       "46563    2014-10-01\n",
       "Name: issue_d, dtype: datetime64[ns]"
      ]
     },
     "execution_count": 131,
     "metadata": {},
     "output_type": "execute_result"
    }
   ],
   "source": [
    "loans['issue_d'].sample(5)"
   ]
  },
  {
   "cell_type": "markdown",
   "metadata": {
    "_uuid": "730cf056bcff6fc9e04188177c876895afe57f95"
   },
   "source": [
    "The new datetime values are all on the first day of the month. Check the summary statistics of the issue dates:"
   ]
  },
  {
   "cell_type": "code",
   "execution_count": 132,
   "metadata": {
    "_uuid": "b30fee581d32921e02468c825de52207dea31ccf"
   },
   "outputs": [
    {
     "data": {
      "text/plain": [
       "count                  175421\n",
       "unique                     10\n",
       "top       2014-10-01 00:00:00\n",
       "freq                    33699\n",
       "first     2014-03-01 00:00:00\n",
       "last      2014-12-01 00:00:00\n",
       "Name: issue_d, dtype: object"
      ]
     },
     "execution_count": 132,
     "metadata": {},
     "output_type": "execute_result"
    }
   ],
   "source": [
    "loans['issue_d'].describe()"
   ]
  },
  {
   "cell_type": "markdown",
   "metadata": {
    "_uuid": "fa14dfa809d80d3285853b323abd5cc8d99378c1"
   },
   "source": [
    "There are only 124 unique issue dates over the 10-year period because we only have month/year information. In this particular dataset, the first loans were issued in June 2007, and the most recent loans were issued in September 2017. The busiest month was October 2014 with 33,699 loans funded in that month. What is the distribution of loans funded in each year?"
   ]
  },
  {
   "cell_type": "code",
   "execution_count": 133,
   "metadata": {
    "_uuid": "8b7de46263cc73e90ca50ffac8925d736583d552"
   },
   "outputs": [
    {
     "data": {
      "text/plain": [
       "Text(0.5, 1.0, 'Loans Funded per Year')"
      ]
     },
     "execution_count": 133,
     "metadata": {},
     "output_type": "execute_result"
    },
    {
     "data": {
      "image/png": "[encoded data removed]",
      "text/plain": [
       "<Figure size 540x270 with 1 Axes>"
      ]
     },
     "metadata": {},
     "output_type": "display_data"
    }
   ],
   "source": [
    "plt.figure(figsize=(6,3), dpi=90)\n",
    "loans['issue_d'].dt.year.value_counts().sort_index().plot.bar(color='darkblue')\n",
    "plt.xlabel('Year')\n",
    "plt.ylabel('Number of Loans Funded')\n",
    "plt.title('Loans Funded per Year')"
   ]
  },
  {
   "cell_type": "markdown",
   "metadata": {
    "_uuid": "798681ddba7953dab54a96c8f2b49f0aa53d51d6"
   },
   "source": [
    "We'll form the test set from the most recent 10% of the loans."
   ]
  },
  {
   "cell_type": "code",
   "execution_count": 134,
   "metadata": {
    "_uuid": "b99bcf4eaac34aecd49afba8cafe594b3c66ca81"
   },
   "outputs": [],
   "source": [
    "loans_train = loans.loc[loans['issue_d'] <  loans['issue_d'].quantile(0.9)]\n",
    "loans_test =  loans.loc[loans['issue_d'] >= loans['issue_d'].quantile(0.9)]"
   ]
  },
  {
   "cell_type": "markdown",
   "metadata": {
    "_uuid": "edbc412455923ae842634b243d3af3c650aa208f"
   },
   "source": [
    "Check that we properly partitioned the loans:"
   ]
  },
  {
   "cell_type": "code",
   "execution_count": 135,
   "metadata": {
    "_uuid": "f0f010bc09b71f4ffbc264b4e01f2942f83ae455"
   },
   "outputs": [
    {
     "name": "stdout",
     "output_type": "stream",
     "text": [
      "Number of loans in the partition:    175421\n",
      "Number of loans in the full dataset: 175421\n"
     ]
    }
   ],
   "source": [
    "print('Number of loans in the partition:   ', loans_train.shape[0] + loans_test.shape[0])\n",
    "print('Number of loans in the full dataset:', loans.shape[0])"
   ]
  },
  {
   "cell_type": "markdown",
   "metadata": {
    "_uuid": "69f2f0ad9630ee006fcb32c59e181da1a2797b91"
   },
   "source": [
    "What is the test size?"
   ]
  },
  {
   "cell_type": "code",
   "execution_count": 136,
   "metadata": {
    "_uuid": "fba24aa8cad4aa550b20d58560374c82a86d1e02"
   },
   "outputs": [
    {
     "data": {
      "text/plain": [
       "0.16799014941198603"
      ]
     },
     "execution_count": 136,
     "metadata": {},
     "output_type": "execute_result"
    }
   ],
   "source": [
    "loans_test.shape[0] / loans.shape[0]"
   ]
  },
  {
   "cell_type": "markdown",
   "metadata": {
    "_uuid": "b07a31625dcee71d0d5d81b6ede12683bba593e0"
   },
   "source": [
    "The partition looks good, so we can delete the original `loans` dataframe:"
   ]
  },
  {
   "cell_type": "code",
   "execution_count": 137,
   "metadata": {
    "_uuid": "6b07dcb5d20a9e55a9f2a1616ccef58ee567b26f"
   },
   "outputs": [],
   "source": [
    "del loans"
   ]
  },
  {
   "cell_type": "markdown",
   "metadata": {
    "_uuid": "9d7019ce998b3c8d777ee1145b08e656acf27264"
   },
   "source": [
    "Let's look at the summary statistics of the issue dates in the train and test sets:"
   ]
  },
  {
   "cell_type": "code",
   "execution_count": 138,
   "metadata": {
    "_uuid": "9bfaa543a84cf32947d826c3130ff16b8da5f002"
   },
   "outputs": [
    {
     "data": {
      "text/plain": [
       "count                  145952\n",
       "unique                      8\n",
       "top       2014-10-01 00:00:00\n",
       "freq                    33699\n",
       "first     2014-03-01 00:00:00\n",
       "last      2014-10-01 00:00:00\n",
       "Name: issue_d, dtype: object"
      ]
     },
     "execution_count": 138,
     "metadata": {},
     "output_type": "execute_result"
    }
   ],
   "source": [
    "loans_train['issue_d'].describe()"
   ]
  },
  {
   "cell_type": "code",
   "execution_count": 139,
   "metadata": {
    "_uuid": "978e5f89544d0d01ce33ff7397da6b2953008506"
   },
   "outputs": [
    {
     "data": {
      "text/plain": [
       "count                   29469\n",
       "unique                      2\n",
       "top       2014-11-01 00:00:00\n",
       "freq                    21186\n",
       "first     2014-11-01 00:00:00\n",
       "last      2014-12-01 00:00:00\n",
       "Name: issue_d, dtype: object"
      ]
     },
     "execution_count": 139,
     "metadata": {},
     "output_type": "execute_result"
    }
   ],
   "source": [
    "loans_test['issue_d'].describe()"
   ]
  },
  {
   "cell_type": "markdown",
   "metadata": {
    "_uuid": "cbf9b4e884c2d41db83db56584041a56b5256a15"
   },
   "source": [
    "The training set includes loans from June 2007 to June 2016. The test set includes loans from July 2016 to September 2017.\n",
    "\n",
    "Now we need to delete the `issue_d` variable, because it was not available before the loan was funded."
   ]
  },
  {
   "cell_type": "code",
   "execution_count": 140,
   "metadata": {
    "_uuid": "56fda0540fd768bd4e7765cdbe1cd1fca7e98037"
   },
   "outputs": [],
   "source": [
    "loans_train.drop('issue_d', axis=1, inplace=True)\n",
    "loans_test.drop('issue_d', axis=1, inplace=True)"
   ]
  },
  {
   "cell_type": "markdown",
   "metadata": {
    "_uuid": "c48d241bab847c0edd45c7c2da94b8420d09ad02"
   },
   "source": [
    "Now separate the predictor variables from the response variable:\n",
    "Because the input dataset is really big,  I only take 10% DATA for training.  You can use 100% data. "
   ]
  },
  {
   "cell_type": "code",
   "execution_count": 141,
   "metadata": {
    "_uuid": "b1d19f613709760a02ee35923eb055f1c29e99fc"
   },
   "outputs": [],
   "source": [
    "subsetloans_train=loans_train.sample(frac=0.1)\n",
    "\n",
    "#y_train = loans_train['charged_off']\n",
    "y_train = subsetloans_train['charged_off']\n",
    "\n",
    "y_test = loans_test['charged_off']"
   ]
  },
  {
   "cell_type": "code",
   "execution_count": null,
   "metadata": {},
   "outputs": [],
   "source": []
  },
  {
   "cell_type": "code",
   "execution_count": null,
   "metadata": {},
   "outputs": [],
   "source": []
  },
  {
   "cell_type": "code",
   "execution_count": null,
   "metadata": {},
   "outputs": [],
   "source": []
  },
  {
   "cell_type": "code",
   "execution_count": 142,
   "metadata": {
    "_uuid": "01c8b63ffe8e66be1ebeb52c3f81d62454e735cc"
   },
   "outputs": [],
   "source": [
    "#X_train = loans_train.drop('charged_off', axis=1)\n",
    "X_train = subsetloans_train.drop('charged_off', axis=1)\n",
    "X_test = loans_test.drop('charged_off', axis=1)"
   ]
  },
  {
   "cell_type": "code",
   "execution_count": 143,
   "metadata": {
    "_uuid": "e930781ec1e52861556c86545b020f76f0b2da73"
   },
   "outputs": [],
   "source": [
    "del loans_train, loans_test"
   ]
  },
  {
   "cell_type": "markdown",
   "metadata": {
    "_uuid": "5b58f15c7241322f0fdcad9c071a2c82a371daa8"
   },
   "source": [
    "# 7. Linear Dependence of Charge-off on the Predictors\n",
    "<a id=\"7\"></a>"
   ]
  },
  {
   "cell_type": "markdown",
   "metadata": {
    "_uuid": "850d60c4caa3ae9cc3fd0d45c72e92b332c9555b"
   },
   "source": [
    "On the training set, we compute the Pearson correlation, F-statistics and $p$ value of each predictor with the response variable `charged_off`."
   ]
  },
  {
   "cell_type": "code",
   "execution_count": 144,
   "metadata": {
    "_uuid": "10f5578718ddb1578ad854e711d430e19cff009c"
   },
   "outputs": [],
   "source": [
    "linear_dep = pd.DataFrame()"
   ]
  },
  {
   "cell_type": "markdown",
   "metadata": {
    "_uuid": "664f387e3a890929d76b9a8daf7863a72a23973c"
   },
   "source": [
    "Pearson correlations:"
   ]
  },
  {
   "cell_type": "code",
   "execution_count": 145,
   "metadata": {
    "_uuid": "b6019bf1538388309cf2f8672d166f447bf9635e"
   },
   "outputs": [],
   "source": [
    "for col in X_train.columns:\n",
    "    linear_dep.loc[col, 'pearson_corr'] = X_train[col].corr(y_train)\n",
    "linear_dep['abs_pearson_corr'] = abs(linear_dep['pearson_corr'])"
   ]
  },
  {
   "cell_type": "markdown",
   "metadata": {
    "_uuid": "4c627f36e7ec9f9d25499806e9d0d3bbf5697421"
   },
   "source": [
    "$F$-statistics:"
   ]
  },
  {
   "cell_type": "code",
   "execution_count": 146,
   "metadata": {
    "_uuid": "684f3bed36161e0c33d64c2c84dbbc9eb39e440a"
   },
   "outputs": [
    {
     "name": "stderr",
     "output_type": "stream",
     "text": [
      "/Users/saleenajohn/opt/anaconda3/lib/python3.8/site-packages/sklearn/feature_selection/_univariate_selection.py:114: UserWarning: Features [0] are constant.\n",
      "  warnings.warn(\"Features %s are constant.\" % constant_features_idx,\n",
      "/Users/saleenajohn/opt/anaconda3/lib/python3.8/site-packages/sklearn/feature_selection/_univariate_selection.py:116: RuntimeWarning: invalid value encountered in true_divide\n",
      "  f = msb / msw\n",
      "/Users/saleenajohn/opt/anaconda3/lib/python3.8/site-packages/sklearn/feature_selection/_univariate_selection.py:114: UserWarning: Features [0] are constant.\n",
      "  warnings.warn(\"Features %s are constant.\" % constant_features_idx,\n",
      "/Users/saleenajohn/opt/anaconda3/lib/python3.8/site-packages/sklearn/feature_selection/_univariate_selection.py:116: RuntimeWarning: invalid value encountered in true_divide\n",
      "  f = msb / msw\n"
     ]
    }
   ],
   "source": [
    "from sklearn.feature_selection import f_classif\n",
    "for col in X_train.columns:\n",
    "    mask = X_train[col].notnull()\n",
    "    (linear_dep.loc[col, 'F'], linear_dep.loc[col, 'p_value']) = f_classif(pd.DataFrame(X_train.loc[mask, col]), y_train.loc[mask])"
   ]
  },
  {
   "cell_type": "markdown",
   "metadata": {
    "_uuid": "b91ab2fa2ff419231949ed1b184477acf5e0aa5f"
   },
   "source": [
    "Sort the results by the absolute value of the Pearson correlation:"
   ]
  },
  {
   "cell_type": "code",
   "execution_count": 147,
   "metadata": {
    "_uuid": "62d65ed8b7bc37539f675e181307a46be126928f"
   },
   "outputs": [],
   "source": [
    "linear_dep.sort_values('abs_pearson_corr', ascending=False, inplace=True)\n",
    "linear_dep.drop('abs_pearson_corr', axis=1, inplace=True)"
   ]
  },
  {
   "cell_type": "markdown",
   "metadata": {
    "_uuid": "a0b101a77e258cdec2394df09b039031b5888a69"
   },
   "source": [
    "Reset the index:"
   ]
  },
  {
   "cell_type": "code",
   "execution_count": 148,
   "metadata": {
    "_uuid": "6d7817f634240f49aa191278c9b6030b337548dc"
   },
   "outputs": [],
   "source": [
    "linear_dep.reset_index(inplace=True)\n",
    "linear_dep.rename(columns={'index':'variable'}, inplace=True)"
   ]
  },
  {
   "cell_type": "markdown",
   "metadata": {
    "_uuid": "d5e871058f15c3308070c06a39ffb72b97ffcf01"
   },
   "source": [
    "View the results for the top 20 predictors most correlated with `charged_off`:"
   ]
  },
  {
   "cell_type": "code",
   "execution_count": 149,
   "metadata": {
    "_uuid": "be6ab5410fa8a2a4a9ef245a118a63ab289d5b78"
   },
   "outputs": [
    {
     "data": {
      "text/html": [
       "<div>\n",
       "<style scoped>\n",
       "    .dataframe tbody tr th:only-of-type {\n",
       "        vertical-align: middle;\n",
       "    }\n",
       "\n",
       "    .dataframe tbody tr th {\n",
       "        vertical-align: top;\n",
       "    }\n",
       "\n",
       "    .dataframe thead th {\n",
       "        text-align: right;\n",
       "    }\n",
       "</style>\n",
       "<table border=\"1\" class=\"dataframe\">\n",
       "  <thead>\n",
       "    <tr style=\"text-align: right;\">\n",
       "      <th></th>\n",
       "      <th>variable</th>\n",
       "      <th>pearson_corr</th>\n",
       "      <th>F</th>\n",
       "      <th>p_value</th>\n",
       "    </tr>\n",
       "  </thead>\n",
       "  <tbody>\n",
       "    <tr>\n",
       "      <th>0</th>\n",
       "      <td>int_rate</td>\n",
       "      <td>0.258892</td>\n",
       "      <td>1048.366749</td>\n",
       "      <td>3.646960e-222</td>\n",
       "    </tr>\n",
       "    <tr>\n",
       "      <th>1</th>\n",
       "      <td>term</td>\n",
       "      <td>0.214824</td>\n",
       "      <td>706.043615</td>\n",
       "      <td>5.823323e-152</td>\n",
       "    </tr>\n",
       "    <tr>\n",
       "      <th>2</th>\n",
       "      <td>fico_score</td>\n",
       "      <td>-0.120694</td>\n",
       "      <td>215.720485</td>\n",
       "      <td>1.721586e-48</td>\n",
       "    </tr>\n",
       "    <tr>\n",
       "      <th>3</th>\n",
       "      <td>dti</td>\n",
       "      <td>0.103692</td>\n",
       "      <td>158.608619</td>\n",
       "      <td>3.514149e-36</td>\n",
       "    </tr>\n",
       "    <tr>\n",
       "      <th>4</th>\n",
       "      <td>sub_grade_E2</td>\n",
       "      <td>0.069831</td>\n",
       "      <td>71.508766</td>\n",
       "      <td>3.019471e-17</td>\n",
       "    </tr>\n",
       "    <tr>\n",
       "      <th>5</th>\n",
       "      <td>sub_grade_D5</td>\n",
       "      <td>0.069411</td>\n",
       "      <td>70.647591</td>\n",
       "      <td>4.662032e-17</td>\n",
       "    </tr>\n",
       "    <tr>\n",
       "      <th>6</th>\n",
       "      <td>home_ownership_RENT</td>\n",
       "      <td>0.069199</td>\n",
       "      <td>70.214081</td>\n",
       "      <td>5.801672e-17</td>\n",
       "    </tr>\n",
       "    <tr>\n",
       "      <th>7</th>\n",
       "      <td>sub_grade_A5</td>\n",
       "      <td>-0.067136</td>\n",
       "      <td>66.071182</td>\n",
       "      <td>4.696492e-16</td>\n",
       "    </tr>\n",
       "    <tr>\n",
       "      <th>8</th>\n",
       "      <td>loan_amnt</td>\n",
       "      <td>0.065300</td>\n",
       "      <td>62.493107</td>\n",
       "      <td>2.864325e-15</td>\n",
       "    </tr>\n",
       "    <tr>\n",
       "      <th>9</th>\n",
       "      <td>sub_grade_A3</td>\n",
       "      <td>-0.062912</td>\n",
       "      <td>57.987934</td>\n",
       "      <td>2.798769e-14</td>\n",
       "    </tr>\n",
       "    <tr>\n",
       "      <th>10</th>\n",
       "      <td>sub_grade_A4</td>\n",
       "      <td>-0.061270</td>\n",
       "      <td>54.988262</td>\n",
       "      <td>1.279201e-13</td>\n",
       "    </tr>\n",
       "    <tr>\n",
       "      <th>11</th>\n",
       "      <td>sub_grade_B1</td>\n",
       "      <td>-0.059635</td>\n",
       "      <td>52.082165</td>\n",
       "      <td>5.585040e-13</td>\n",
       "    </tr>\n",
       "    <tr>\n",
       "      <th>12</th>\n",
       "      <td>mort_acc</td>\n",
       "      <td>-0.058971</td>\n",
       "      <td>50.924938</td>\n",
       "      <td>1.004893e-12</td>\n",
       "    </tr>\n",
       "    <tr>\n",
       "      <th>13</th>\n",
       "      <td>sub_grade_E3</td>\n",
       "      <td>0.057257</td>\n",
       "      <td>47.998886</td>\n",
       "      <td>4.443141e-12</td>\n",
       "    </tr>\n",
       "    <tr>\n",
       "      <th>14</th>\n",
       "      <td>revol_util</td>\n",
       "      <td>0.056561</td>\n",
       "      <td>46.812598</td>\n",
       "      <td>8.122165e-12</td>\n",
       "    </tr>\n",
       "    <tr>\n",
       "      <th>15</th>\n",
       "      <td>sub_grade_E4</td>\n",
       "      <td>0.055943</td>\n",
       "      <td>45.813492</td>\n",
       "      <td>1.350258e-11</td>\n",
       "    </tr>\n",
       "    <tr>\n",
       "      <th>16</th>\n",
       "      <td>sub_grade_G3</td>\n",
       "      <td>0.054810</td>\n",
       "      <td>43.972157</td>\n",
       "      <td>3.447889e-11</td>\n",
       "    </tr>\n",
       "    <tr>\n",
       "      <th>17</th>\n",
       "      <td>log_annual_inc</td>\n",
       "      <td>-0.054078</td>\n",
       "      <td>42.801751</td>\n",
       "      <td>6.259615e-11</td>\n",
       "    </tr>\n",
       "    <tr>\n",
       "      <th>18</th>\n",
       "      <td>sub_grade_E1</td>\n",
       "      <td>0.054067</td>\n",
       "      <td>42.783844</td>\n",
       "      <td>6.317009e-11</td>\n",
       "    </tr>\n",
       "    <tr>\n",
       "      <th>19</th>\n",
       "      <td>verification_status_Verified</td>\n",
       "      <td>0.051746</td>\n",
       "      <td>39.180347</td>\n",
       "      <td>3.972149e-10</td>\n",
       "    </tr>\n",
       "  </tbody>\n",
       "</table>\n",
       "</div>"
      ],
      "text/plain": [
       "                        variable  pearson_corr            F        p_value\n",
       "0                       int_rate      0.258892  1048.366749  3.646960e-222\n",
       "1                           term      0.214824   706.043615  5.823323e-152\n",
       "2                     fico_score     -0.120694   215.720485   1.721586e-48\n",
       "3                            dti      0.103692   158.608619   3.514149e-36\n",
       "4                   sub_grade_E2      0.069831    71.508766   3.019471e-17\n",
       "5                   sub_grade_D5      0.069411    70.647591   4.662032e-17\n",
       "6            home_ownership_RENT      0.069199    70.214081   5.801672e-17\n",
       "7                   sub_grade_A5     -0.067136    66.071182   4.696492e-16\n",
       "8                      loan_amnt      0.065300    62.493107   2.864325e-15\n",
       "9                   sub_grade_A3     -0.062912    57.987934   2.798769e-14\n",
       "10                  sub_grade_A4     -0.061270    54.988262   1.279201e-13\n",
       "11                  sub_grade_B1     -0.059635    52.082165   5.585040e-13\n",
       "12                      mort_acc     -0.058971    50.924938   1.004893e-12\n",
       "13                  sub_grade_E3      0.057257    47.998886   4.443141e-12\n",
       "14                    revol_util      0.056561    46.812598   8.122165e-12\n",
       "15                  sub_grade_E4      0.055943    45.813492   1.350258e-11\n",
       "16                  sub_grade_G3      0.054810    43.972157   3.447889e-11\n",
       "17                log_annual_inc     -0.054078    42.801751   6.259615e-11\n",
       "18                  sub_grade_E1      0.054067    42.783844   6.317009e-11\n",
       "19  verification_status_Verified      0.051746    39.180347   3.972149e-10"
      ]
     },
     "execution_count": 149,
     "metadata": {},
     "output_type": "execute_result"
    }
   ],
   "source": [
    "linear_dep.head(20)"
   ]
  },
  {
   "cell_type": "markdown",
   "metadata": {
    "_uuid": "5e5dcf585172763f43cfc8d17aab1ea43a748e0b"
   },
   "source": [
    "The variables most linearly correlated with `charged_off` are the interest rate, loan period (term), FICO score, debt-to-income ratio, number of mortgages, income, the loan grade, and the loan amount.\n",
    "\n",
    "Now view the results for the 20 least correlated predictors:"
   ]
  },
  {
   "cell_type": "code",
   "execution_count": 150,
   "metadata": {
    "_uuid": "78e5a4415c86e28a64a4eff1cdf5c810ae002dc4"
   },
   "outputs": [
    {
     "data": {
      "text/html": [
       "<div>\n",
       "<style scoped>\n",
       "    .dataframe tbody tr th:only-of-type {\n",
       "        vertical-align: middle;\n",
       "    }\n",
       "\n",
       "    .dataframe tbody tr th {\n",
       "        vertical-align: top;\n",
       "    }\n",
       "\n",
       "    .dataframe thead th {\n",
       "        text-align: right;\n",
       "    }\n",
       "</style>\n",
       "<table border=\"1\" class=\"dataframe\">\n",
       "  <thead>\n",
       "    <tr style=\"text-align: right;\">\n",
       "      <th></th>\n",
       "      <th>variable</th>\n",
       "      <th>pearson_corr</th>\n",
       "      <th>F</th>\n",
       "      <th>p_value</th>\n",
       "    </tr>\n",
       "  </thead>\n",
       "  <tbody>\n",
       "    <tr>\n",
       "      <th>94</th>\n",
       "      <td>sub_grade_C3</td>\n",
       "      <td>0.004533</td>\n",
       "      <td>0.299838</td>\n",
       "      <td>0.583992</td>\n",
       "    </tr>\n",
       "    <tr>\n",
       "      <th>95</th>\n",
       "      <td>purpose_medical</td>\n",
       "      <td>-0.004161</td>\n",
       "      <td>0.252716</td>\n",
       "      <td>0.615177</td>\n",
       "    </tr>\n",
       "    <tr>\n",
       "      <th>96</th>\n",
       "      <td>purpose_wedding</td>\n",
       "      <td>-0.004031</td>\n",
       "      <td>0.237167</td>\n",
       "      <td>0.626267</td>\n",
       "    </tr>\n",
       "    <tr>\n",
       "      <th>97</th>\n",
       "      <td>addr_state_NV</td>\n",
       "      <td>0.003650</td>\n",
       "      <td>0.194471</td>\n",
       "      <td>0.659228</td>\n",
       "    </tr>\n",
       "    <tr>\n",
       "      <th>98</th>\n",
       "      <td>addr_state_MT</td>\n",
       "      <td>0.003607</td>\n",
       "      <td>0.189850</td>\n",
       "      <td>0.663048</td>\n",
       "    </tr>\n",
       "    <tr>\n",
       "      <th>99</th>\n",
       "      <td>addr_state_MD</td>\n",
       "      <td>0.003277</td>\n",
       "      <td>0.156712</td>\n",
       "      <td>0.692208</td>\n",
       "    </tr>\n",
       "    <tr>\n",
       "      <th>100</th>\n",
       "      <td>addr_state_MI</td>\n",
       "      <td>0.003254</td>\n",
       "      <td>0.154581</td>\n",
       "      <td>0.694202</td>\n",
       "    </tr>\n",
       "    <tr>\n",
       "      <th>101</th>\n",
       "      <td>addr_state_MN</td>\n",
       "      <td>0.002639</td>\n",
       "      <td>0.101643</td>\n",
       "      <td>0.749871</td>\n",
       "    </tr>\n",
       "    <tr>\n",
       "      <th>102</th>\n",
       "      <td>addr_state_NM</td>\n",
       "      <td>-0.002539</td>\n",
       "      <td>0.094093</td>\n",
       "      <td>0.759041</td>\n",
       "    </tr>\n",
       "    <tr>\n",
       "      <th>103</th>\n",
       "      <td>addr_state_HI</td>\n",
       "      <td>0.002499</td>\n",
       "      <td>0.091109</td>\n",
       "      <td>0.762776</td>\n",
       "    </tr>\n",
       "    <tr>\n",
       "      <th>104</th>\n",
       "      <td>addr_state_CA</td>\n",
       "      <td>-0.002368</td>\n",
       "      <td>0.081650</td>\n",
       "      <td>0.775078</td>\n",
       "    </tr>\n",
       "    <tr>\n",
       "      <th>105</th>\n",
       "      <td>addr_state_LA</td>\n",
       "      <td>0.002252</td>\n",
       "      <td>0.074017</td>\n",
       "      <td>0.785579</td>\n",
       "    </tr>\n",
       "    <tr>\n",
       "      <th>106</th>\n",
       "      <td>purpose_vacation</td>\n",
       "      <td>-0.001995</td>\n",
       "      <td>0.058087</td>\n",
       "      <td>0.809549</td>\n",
       "    </tr>\n",
       "    <tr>\n",
       "      <th>107</th>\n",
       "      <td>addr_state_SC</td>\n",
       "      <td>0.001697</td>\n",
       "      <td>0.042045</td>\n",
       "      <td>0.837537</td>\n",
       "    </tr>\n",
       "    <tr>\n",
       "      <th>108</th>\n",
       "      <td>addr_state_IL</td>\n",
       "      <td>-0.001401</td>\n",
       "      <td>0.028691</td>\n",
       "      <td>0.865496</td>\n",
       "    </tr>\n",
       "    <tr>\n",
       "      <th>109</th>\n",
       "      <td>addr_state_OK</td>\n",
       "      <td>-0.001359</td>\n",
       "      <td>0.026926</td>\n",
       "      <td>0.869662</td>\n",
       "    </tr>\n",
       "    <tr>\n",
       "      <th>110</th>\n",
       "      <td>addr_state_MO</td>\n",
       "      <td>-0.000796</td>\n",
       "      <td>0.009230</td>\n",
       "      <td>0.923463</td>\n",
       "    </tr>\n",
       "    <tr>\n",
       "      <th>111</th>\n",
       "      <td>log_revol_bal</td>\n",
       "      <td>-0.000463</td>\n",
       "      <td>0.003126</td>\n",
       "      <td>0.955416</td>\n",
       "    </tr>\n",
       "    <tr>\n",
       "      <th>112</th>\n",
       "      <td>home_ownership_OTHER</td>\n",
       "      <td>NaN</td>\n",
       "      <td>NaN</td>\n",
       "      <td>NaN</td>\n",
       "    </tr>\n",
       "    <tr>\n",
       "      <th>113</th>\n",
       "      <td>addr_state_IA</td>\n",
       "      <td>NaN</td>\n",
       "      <td>NaN</td>\n",
       "      <td>NaN</td>\n",
       "    </tr>\n",
       "  </tbody>\n",
       "</table>\n",
       "</div>"
      ],
      "text/plain": [
       "                 variable  pearson_corr         F   p_value\n",
       "94           sub_grade_C3      0.004533  0.299838  0.583992\n",
       "95        purpose_medical     -0.004161  0.252716  0.615177\n",
       "96        purpose_wedding     -0.004031  0.237167  0.626267\n",
       "97          addr_state_NV      0.003650  0.194471  0.659228\n",
       "98          addr_state_MT      0.003607  0.189850  0.663048\n",
       "99          addr_state_MD      0.003277  0.156712  0.692208\n",
       "100         addr_state_MI      0.003254  0.154581  0.694202\n",
       "101         addr_state_MN      0.002639  0.101643  0.749871\n",
       "102         addr_state_NM     -0.002539  0.094093  0.759041\n",
       "103         addr_state_HI      0.002499  0.091109  0.762776\n",
       "104         addr_state_CA     -0.002368  0.081650  0.775078\n",
       "105         addr_state_LA      0.002252  0.074017  0.785579\n",
       "106      purpose_vacation     -0.001995  0.058087  0.809549\n",
       "107         addr_state_SC      0.001697  0.042045  0.837537\n",
       "108         addr_state_IL     -0.001401  0.028691  0.865496\n",
       "109         addr_state_OK     -0.001359  0.026926  0.869662\n",
       "110         addr_state_MO     -0.000796  0.009230  0.923463\n",
       "111         log_revol_bal     -0.000463  0.003126  0.955416\n",
       "112  home_ownership_OTHER           NaN       NaN       NaN\n",
       "113         addr_state_IA           NaN       NaN       NaN"
      ]
     },
     "execution_count": 150,
     "metadata": {},
     "output_type": "execute_result"
    }
   ],
   "source": [
    "linear_dep.tail(20)"
   ]
  },
  {
   "cell_type": "markdown",
   "metadata": {
    "_uuid": "3e56b96b36ab489ecda4ff0165d0fb93eb9ee32e"
   },
   "source": [
    "It looks like the borrower's state of residence, the revolving balance, and several of the loan purposes are irrelevant for predicting charge-off."
   ]
  },
  {
   "cell_type": "markdown",
   "metadata": {
    "_cell_guid": "52309b77-d97d-412a-b20f-da81f44a486f",
    "_uuid": "bbabe5a3810756b27f10e862f3d7ea34a21a20f8"
   },
   "source": [
    "# 8. Model Training and Testing\n",
    "<a id=\"8\"></a>"
   ]
  },
  {
   "cell_type": "markdown",
   "metadata": {
    "_uuid": "19f4b16ed13d2187aebc5a76e34eb6cf2c7cfaed"
   },
   "source": [
    "We implement machine learning pipelines consisting of one or more of the following steps, depending on the particular model:\n",
    "1. Mean imputation of missing values\n",
    "2. Dimension reduction using linear discriminant analysis (LDA)\n",
    "3. Data standardization: rescaling to zero mean and unit variance\n",
    "4. The chosen model\n",
    "\n",
    "We will evaluate and compare the following models using a cross-validated AUROC score on the training set:\n",
    "1. Logistic regression with SGD training\n",
    "2. Random forest\n",
    "3. k-nearest neighbors\n",
    "\n",
    "We'll perform some hyperparameter tuning for each model to choose the most promising model, then more carefully tune the hyperparameters of the best-performing model."
   ]
  },
  {
   "cell_type": "code",
   "execution_count": 151,
   "metadata": {
    "_uuid": "de6dc56fd1630e41765845812635a38ec1aa9aee"
   },
   "outputs": [],
   "source": [
    "from sklearn.pipeline import Pipeline\n",
    "from sklearn.preprocessing import StandardScaler\n",
    "from sklearn.impute import SimpleImputer\n",
    "from sklearn.discriminant_analysis import LinearDiscriminantAnalysis\n",
    "from sklearn.model_selection import GridSearchCV"
   ]
  },
  {
   "cell_type": "markdown",
   "metadata": {
    "_uuid": "2e951c2ffc831a7abe5035c95d3011a10cf6c55f"
   },
   "source": [
    "## 8.1 Logistic regression with SGD training\n",
    "<a id=\"8.1\"></a>"
   ]
  },
  {
   "cell_type": "markdown",
   "metadata": {
    "_cell_guid": "fc774c42-47e6-427a-ac9c-a4bdbf7b5837",
    "_uuid": "39ac0b9f118cbb5b11d6749f2ec3f8aa3f97ac6d"
   },
   "source": [
    "The `SGDClassifier` estimator in scikit-learn implements linear classifiers (SVM, logistic regression, and others) with stochastic gradient descent (SGD) training. A particular linear classifier is chosen through the `loss` hyperparameter. Because we want to predict the probability of charge-off, we choose logistic regression (a probabilistic classifier) by setting `loss = 'log'`."
   ]
  },
  {
   "cell_type": "code",
   "execution_count": 152,
   "metadata": {
    "_uuid": "732a8160690b85edf5c05fcc1877e943388320d2"
   },
   "outputs": [],
   "source": [
    "from sklearn.linear_model import SGDClassifier"
   ]
  },
  {
   "cell_type": "markdown",
   "metadata": {
    "_uuid": "3bda07c1025d052dc57e47e3b8c60c2bfa1d9e83"
   },
   "source": [
    "The machine learning pipeline:"
   ]
  },
  {
   "cell_type": "code",
   "execution_count": null,
   "metadata": {},
   "outputs": [],
   "source": []
  },
  {
   "cell_type": "code",
   "execution_count": 153,
   "metadata": {
    "_uuid": "67db7c7b385300c52c55e48863a743432a54cc69"
   },
   "outputs": [],
   "source": [
    "pipeline_sgdlogreg = Pipeline([\n",
    "    ('imputer', SimpleImputer(copy=False)), # Mean imputation by default\n",
    "    ('scaler', StandardScaler(copy=False)),\n",
    "    ('model', SGDClassifier(loss='log', max_iter=1000, tol=1e-3, random_state=1, warm_start=True))\n",
    "])"
   ]
  },
  {
   "cell_type": "code",
   "execution_count": 154,
   "metadata": {},
   "outputs": [
    {
     "data": {
      "text/plain": [
       "dict_keys(['memory', 'steps', 'verbose', 'imputer', 'scaler', 'model', 'imputer__add_indicator', 'imputer__copy', 'imputer__fill_value', 'imputer__missing_values', 'imputer__strategy', 'imputer__verbose', 'scaler__copy', 'scaler__with_mean', 'scaler__with_std', 'model__alpha', 'model__average', 'model__class_weight', 'model__early_stopping', 'model__epsilon', 'model__eta0', 'model__fit_intercept', 'model__l1_ratio', 'model__learning_rate', 'model__loss', 'model__max_iter', 'model__n_iter_no_change', 'model__n_jobs', 'model__penalty', 'model__power_t', 'model__random_state', 'model__shuffle', 'model__tol', 'model__validation_fraction', 'model__verbose', 'model__warm_start'])"
      ]
     },
     "execution_count": 154,
     "metadata": {},
     "output_type": "execute_result"
    }
   ],
   "source": [
    "pipeline_sgdlogreg.get_params().keys()"
   ]
  },
  {
   "cell_type": "markdown",
   "metadata": {
    "_uuid": "3934bf0ae9ea5808ecf12254484b83c6bbe4db30"
   },
   "source": [
    "A small grid of hyperparameters to search over:"
   ]
  },
  {
   "cell_type": "code",
   "execution_count": 155,
   "metadata": {
    "_uuid": "7459d6cdd73f68f18975be07e9e8ba38353d514a"
   },
   "outputs": [],
   "source": [
    "param_grid_sgdlogreg = {\n",
    "    'model__alpha': [10**-5, 10**-2, 10**1],\n",
    "    'model__penalty': ['l1', 'l2']\n",
    "    #,'model__max_iter': [100,200,300]\n",
    "}"
   ]
  },
  {
   "cell_type": "markdown",
   "metadata": {
    "_uuid": "f7f8e7ec0d9f40aabbac611e192db879f8c22d97"
   },
   "source": [
    "Create the search grid object:"
   ]
  },
  {
   "cell_type": "code",
   "execution_count": 156,
   "metadata": {
    "_cell_guid": "c016e122-86dd-4c96-88c2-a901fe48cf70",
    "_uuid": "8144ec0a936a93a1fbf5e2dd00cd0082dbc40782"
   },
   "outputs": [],
   "source": [
    "grid_sgdlogreg = GridSearchCV(estimator=pipeline_sgdlogreg, param_grid=param_grid_sgdlogreg, scoring='roc_auc', n_jobs=1, pre_dispatch=1, cv=5, verbose=1, return_train_score=False)"
   ]
  },
  {
   "cell_type": "markdown",
   "metadata": {
    "_uuid": "38ac4e8e24104c06d2abc4d52b46f606f254a15a"
   },
   "source": [
    "Conduct the grid search and train the final model on the whole dataset:"
   ]
  },
  {
   "cell_type": "code",
   "execution_count": 157,
   "metadata": {
    "_cell_guid": "b907b40c-402d-4d4a-a919-e4b63e0a832d",
    "_uuid": "76e6c2e828e670a1494d4d4fbec01f232f067512"
   },
   "outputs": [
    {
     "name": "stdout",
     "output_type": "stream",
     "text": [
      "Fitting 5 folds for each of 6 candidates, totalling 30 fits\n"
     ]
    },
    {
     "name": "stderr",
     "output_type": "stream",
     "text": [
      "[Parallel(n_jobs=1)]: Using backend SequentialBackend with 1 concurrent workers.\n",
      "[Parallel(n_jobs=1)]: Done  30 out of  30 | elapsed:   15.4s finished\n"
     ]
    },
    {
     "data": {
      "text/plain": [
       "GridSearchCV(cv=5,\n",
       "             estimator=Pipeline(steps=[('imputer', SimpleImputer(copy=False)),\n",
       "                                       ('scaler', StandardScaler(copy=False)),\n",
       "                                       ('model',\n",
       "                                        SGDClassifier(loss='log',\n",
       "                                                      random_state=1,\n",
       "                                                      warm_start=True))]),\n",
       "             n_jobs=1,\n",
       "             param_grid={'model__alpha': [1e-05, 0.01, 10],\n",
       "                         'model__penalty': ['l1', 'l2']},\n",
       "             pre_dispatch=1, scoring='roc_auc', verbose=1)"
      ]
     },
     "execution_count": 157,
     "metadata": {},
     "output_type": "execute_result"
    }
   ],
   "source": [
    "grid_sgdlogreg.fit(X_train, y_train)"
   ]
  },
  {
   "cell_type": "markdown",
   "metadata": {
    "_uuid": "c877b3a2823c5b3a73c4f55e64a92328a1a9cb19"
   },
   "source": [
    "Mean cross-validated AUROC score of the best model:"
   ]
  },
  {
   "cell_type": "code",
   "execution_count": 158,
   "metadata": {
    "_uuid": "08435a05c474849b5e3a9faf574166383fcf3e1f"
   },
   "outputs": [
    {
     "data": {
      "text/plain": [
       "0.7074608463086876"
      ]
     },
     "execution_count": 158,
     "metadata": {},
     "output_type": "execute_result"
    }
   ],
   "source": [
    "grid_sgdlogreg.best_score_"
   ]
  },
  {
   "cell_type": "code",
   "execution_count": 159,
   "metadata": {},
   "outputs": [],
   "source": [
    "#0.7176776792936916"
   ]
  },
  {
   "cell_type": "code",
   "execution_count": 160,
   "metadata": {},
   "outputs": [],
   "source": [
    "#grid_sgdlogreg"
   ]
  },
  {
   "cell_type": "markdown",
   "metadata": {
    "_cell_guid": "67901f97-33dc-4ff0-8968-127eda9da452",
    "_uuid": "a6829cf727f13a804180637da8cfc8477754b8c6"
   },
   "source": [
    "Best hyperparameters:"
   ]
  },
  {
   "cell_type": "code",
   "execution_count": 161,
   "metadata": {
    "_cell_guid": "14983fb4-d45a-431d-9c03-20d737862cc7",
    "_uuid": "fffc4de31000514e733ccd7c8f0aac9306226644"
   },
   "outputs": [
    {
     "data": {
      "text/plain": [
       "{'model__alpha': 10, 'model__penalty': 'l2'}"
      ]
     },
     "execution_count": 161,
     "metadata": {},
     "output_type": "execute_result"
    }
   ],
   "source": [
    "grid_sgdlogreg.best_params_"
   ]
  },
  {
   "cell_type": "markdown",
   "metadata": {},
   "source": [
    "## 8.2 Support Vector Machine with SGD training. Dantong Provides an example on how to introduce a new machine learning model (Support Vector Machine or Neural Networks)  into the script.  You can customize your code to get a better performance.  You can use GridSearch Cross Valide to find the best parameter set.  "
   ]
  },
  {
   "cell_type": "markdown",
   "metadata": {},
   "source": [
    "I removed the cell content from the following cell, you need to fill in the SVC related function call and make it work!  If you directly run them, you will get error message. You are required to make the following cell work!"
   ]
  },
  {
   "cell_type": "code",
   "execution_count": 162,
   "metadata": {},
   "outputs": [],
   "source": [
    "\n",
    "from sklearn.svm import SVC  \n",
    "pipeline_SVM = Pipeline([\n",
    "    ('imputer', SimpleImputer(copy=False)),\n",
    "    ('scaler', StandardScaler(copy=False)),\n",
    "    ('svc', SVC())\n",
    "   ##\n",
    "])\n"
   ]
  },
  {
   "cell_type": "code",
   "execution_count": 163,
   "metadata": {},
   "outputs": [
    {
     "data": {
      "text/plain": [
       "dict_keys(['memory', 'steps', 'verbose', 'imputer', 'scaler', 'svc', 'imputer__add_indicator', 'imputer__copy', 'imputer__fill_value', 'imputer__missing_values', 'imputer__strategy', 'imputer__verbose', 'scaler__copy', 'scaler__with_mean', 'scaler__with_std', 'svc__C', 'svc__break_ties', 'svc__cache_size', 'svc__class_weight', 'svc__coef0', 'svc__decision_function_shape', 'svc__degree', 'svc__gamma', 'svc__kernel', 'svc__max_iter', 'svc__probability', 'svc__random_state', 'svc__shrinking', 'svc__tol', 'svc__verbose'])"
      ]
     },
     "execution_count": 163,
     "metadata": {},
     "output_type": "execute_result"
    }
   ],
   "source": [
    "pipeline_SVM.get_params().keys()\n"
   ]
  },
  {
   "cell_type": "code",
   "execution_count": 164,
   "metadata": {},
   "outputs": [],
   "source": [
    "\n",
    "param_grid_SVM = {\n",
    "    'svc__kernel': ['rbf','linear'], \n",
    "    'svc__gamma':[0.1,0.01]\n",
    "    #,'svc__C': [1, 10, 100]\n",
    "                 }\n",
    "\n",
    "# You can use the GridSearchCV over pipeline to get the best set of hyper-parameters! \n",
    "#pipeline_SVM.classes_\n",
    "grid_SVM = GridSearchCV(estimator=pipeline_SVM, param_grid=param_grid_SVM, scoring='roc_auc', n_jobs=1, pre_dispatch=1, cv=2, verbose=1, return_train_score=False)\n"
   ]
  },
  {
   "cell_type": "code",
   "execution_count": 165,
   "metadata": {},
   "outputs": [
    {
     "name": "stderr",
     "output_type": "stream",
     "text": [
      "[Parallel(n_jobs=1)]: Using backend SequentialBackend with 1 concurrent workers.\n"
     ]
    },
    {
     "name": "stdout",
     "output_type": "stream",
     "text": [
      "Fitting 2 folds for each of 4 candidates, totalling 8 fits\n"
     ]
    },
    {
     "name": "stderr",
     "output_type": "stream",
     "text": [
      "[Parallel(n_jobs=1)]: Done   8 out of   8 | elapsed:  1.8min finished\n"
     ]
    },
    {
     "data": {
      "text/plain": [
       "GridSearchCV(cv=2,\n",
       "             estimator=Pipeline(steps=[('imputer', SimpleImputer(copy=False)),\n",
       "                                       ('scaler', StandardScaler(copy=False)),\n",
       "                                       ('svc', SVC())]),\n",
       "             n_jobs=1,\n",
       "             param_grid={'svc__gamma': [0.1, 0.01],\n",
       "                         'svc__kernel': ['rbf', 'linear']},\n",
       "             pre_dispatch=1, scoring='roc_auc', verbose=1)"
      ]
     },
     "execution_count": 165,
     "metadata": {},
     "output_type": "execute_result"
    }
   ],
   "source": [
    "grid_SVM.fit(X_train, y_train)"
   ]
  },
  {
   "cell_type": "code",
   "execution_count": 166,
   "metadata": {},
   "outputs": [
    {
     "data": {
      "text/plain": [
       "0.6338340626146137"
      ]
     },
     "execution_count": 166,
     "metadata": {},
     "output_type": "execute_result"
    }
   ],
   "source": [
    "grid_SVM.best_score_"
   ]
  },
  {
   "cell_type": "code",
   "execution_count": 167,
   "metadata": {},
   "outputs": [
    {
     "data": {
      "text/plain": [
       "{'svc__gamma': 0.01, 'svc__kernel': 'rbf'}"
      ]
     },
     "execution_count": 167,
     "metadata": {},
     "output_type": "execute_result"
    }
   ],
   "source": [
    "grid_SVM.best_params_"
   ]
  },
  {
   "cell_type": "markdown",
   "metadata": {
    "_uuid": "cc88ccfb97a0f7678a5e629ccb7ad3cdf59c2ca2"
   },
   "source": [
    "## 8.3 Random forest classifier\n",
    "<a id=\"8.2\"></a>"
   ]
  },
  {
   "cell_type": "markdown",
   "metadata": {
    "_cell_guid": "fc774c42-47e6-427a-ac9c-a4bdbf7b5837",
    "_uuid": "39ac0b9f118cbb5b11d6749f2ec3f8aa3f97ac6d"
   },
   "source": [
    "Next we train a random forest model. Note that data standardization is not necessary for a random forest."
   ]
  },
  {
   "cell_type": "code",
   "execution_count": 168,
   "metadata": {
    "_uuid": "e3ac2ed291bcd75f60f5f42172b0cc2af7283d5c"
   },
   "outputs": [],
   "source": [
    "from sklearn.ensemble import RandomForestClassifier"
   ]
  },
  {
   "cell_type": "code",
   "execution_count": 169,
   "metadata": {
    "_uuid": "44cef4bc961a193829febfc689817575eb023691"
   },
   "outputs": [],
   "source": [
    "pipeline_rfc = Pipeline([\n",
    "    ('imputer', SimpleImputer(copy=False)),\n",
    "    ('model', RandomForestClassifier(n_jobs=-1, random_state=10))\n",
    "])\n"
   ]
  },
  {
   "cell_type": "code",
   "execution_count": 170,
   "metadata": {},
   "outputs": [
    {
     "data": {
      "text/plain": [
       "dict_keys(['memory', 'steps', 'verbose', 'imputer', 'model', 'imputer__add_indicator', 'imputer__copy', 'imputer__fill_value', 'imputer__missing_values', 'imputer__strategy', 'imputer__verbose', 'model__bootstrap', 'model__ccp_alpha', 'model__class_weight', 'model__criterion', 'model__max_depth', 'model__max_features', 'model__max_leaf_nodes', 'model__max_samples', 'model__min_impurity_decrease', 'model__min_impurity_split', 'model__min_samples_leaf', 'model__min_samples_split', 'model__min_weight_fraction_leaf', 'model__n_estimators', 'model__n_jobs', 'model__oob_score', 'model__random_state', 'model__verbose', 'model__warm_start'])"
      ]
     },
     "execution_count": 170,
     "metadata": {},
     "output_type": "execute_result"
    }
   ],
   "source": [
    "pipeline_rfc.get_params().keys()"
   ]
  },
  {
   "cell_type": "markdown",
   "metadata": {
    "_uuid": "5a421f2838ac69f19d963768245c172b6a856a69"
   },
   "source": [
    "The random forest takes very long to train, so we don't test different hyperparameter choices. We'll still use `GridSearchCV` for the sake of consistency."
   ]
  },
  {
   "cell_type": "code",
   "execution_count": 171,
   "metadata": {
    "_uuid": "40e26dde7b06814585e336cc93636279b7b063e8"
   },
   "outputs": [],
   "source": [
    "param_grid_rfc = {\n",
    "    'model__n_estimators': [60] \n",
    "    \n",
    "}"
   ]
  },
  {
   "cell_type": "markdown",
   "metadata": {
    "_uuid": "b3ddc28e898d8e4127cc8ac532bfdc5efdd564b5"
   },
   "source": [
    "The AUROC will always improve (with decreasing gains) as the number of estimators increases, but it's not necessarily worth the extra training time and model complexity."
   ]
  },
  {
   "cell_type": "code",
   "execution_count": 172,
   "metadata": {
    "_cell_guid": "c016e122-86dd-4c96-88c2-a901fe48cf70",
    "_uuid": "8144ec0a936a93a1fbf5e2dd00cd0082dbc40782"
   },
   "outputs": [],
   "source": [
    "grid_rfc = grid_rfc = GridSearchCV(estimator=pipeline_rfc, param_grid=param_grid_rfc, scoring='roc_auc', n_jobs=1, pre_dispatch=1, cv=5, verbose=1, return_train_score=False)\n",
    "### Please fill in the blank, otherwise, you will get error message. "
   ]
  },
  {
   "cell_type": "code",
   "execution_count": 173,
   "metadata": {
    "_cell_guid": "b907b40c-402d-4d4a-a919-e4b63e0a832d",
    "_uuid": "76e6c2e828e670a1494d4d4fbec01f232f067512"
   },
   "outputs": [
    {
     "name": "stdout",
     "output_type": "stream",
     "text": [
      "Fitting 5 folds for each of 1 candidates, totalling 5 fits\n"
     ]
    },
    {
     "name": "stderr",
     "output_type": "stream",
     "text": [
      "[Parallel(n_jobs=1)]: Using backend SequentialBackend with 1 concurrent workers.\n",
      "[Parallel(n_jobs=1)]: Done   5 out of   5 | elapsed:    4.8s finished\n"
     ]
    },
    {
     "data": {
      "text/plain": [
       "GridSearchCV(cv=5,\n",
       "             estimator=Pipeline(steps=[('imputer', SimpleImputer(copy=False)),\n",
       "                                       ('model',\n",
       "                                        RandomForestClassifier(n_jobs=-1,\n",
       "                                                               random_state=10))]),\n",
       "             n_jobs=1, param_grid={'model__n_estimators': [60]}, pre_dispatch=1,\n",
       "             scoring='roc_auc', verbose=1)"
      ]
     },
     "execution_count": 173,
     "metadata": {},
     "output_type": "execute_result"
    }
   ],
   "source": [
    "grid_rfc.fit(X_train, y_train)"
   ]
  },
  {
   "cell_type": "markdown",
   "metadata": {
    "_uuid": "85e7efcd2cec88501d0e47e12a6a5982ecaaf405"
   },
   "source": [
    "Mean cross-validated AUROC score of the random forest:"
   ]
  },
  {
   "cell_type": "code",
   "execution_count": 174,
   "metadata": {
    "_uuid": "54a61497986d5cafaad3a1d93933f49ec0fa328e"
   },
   "outputs": [
    {
     "data": {
      "text/plain": [
       "0.6861419579103305"
      ]
     },
     "execution_count": 174,
     "metadata": {},
     "output_type": "execute_result"
    }
   ],
   "source": [
    "grid_rfc.best_score_"
   ]
  },
  {
   "cell_type": "code",
   "execution_count": null,
   "metadata": {},
   "outputs": [],
   "source": []
  },
  {
   "cell_type": "markdown",
   "metadata": {
    "_uuid": "acc3197dc05fa0bd5164850aa86fdd783f53088a"
   },
   "source": [
    "Not quite as good as logistic regression, at least according to this metric."
   ]
  },
  {
   "cell_type": "markdown",
   "metadata": {
    "_uuid": "fd08230abd9280d520181a667054428a6bce6b56"
   },
   "source": [
    "## 8.4 k-nearest neighbors\n",
    "<a id=\"8.3\"></a>"
   ]
  },
  {
   "cell_type": "markdown",
   "metadata": {
    "_cell_guid": "fc774c42-47e6-427a-ac9c-a4bdbf7b5837",
    "_uuid": "39ac0b9f118cbb5b11d6749f2ec3f8aa3f97ac6d"
   },
   "source": [
    "Next we try k-nearest neighbors. We need to reduce the number of variables to 10 or fewer ([reference](https://en.wikipedia.org/wiki/K-nearest_neighbors_algorithm#Dimension_reduction)) for kNN to perform well. We'll use LDA for dimension reduction. The number of component variables to keep is a hyperparameter."
   ]
  },
  {
   "cell_type": "code",
   "execution_count": 175,
   "metadata": {
    "_uuid": "04a2c7dee800b909c4dca3330604f3d7fe8fc415"
   },
   "outputs": [],
   "source": [
    "from sklearn.neighbors import KNeighborsClassifier"
   ]
  },
  {
   "cell_type": "code",
   "execution_count": 176,
   "metadata": {
    "_uuid": "420c474a1001c4e89953dc88427f15c045ed0a51"
   },
   "outputs": [],
   "source": [
    "pipeline_knn = Pipeline([\n",
    "    ('imputer', SimpleImputer(copy=False)),\n",
    "    ('scaler', StandardScaler(copy=False)),\n",
    "    ('lda', LinearDiscriminantAnalysis()),\n",
    "    ('model', KNeighborsClassifier(n_jobs=-1))\n",
    "])"
   ]
  },
  {
   "cell_type": "code",
   "execution_count": 177,
   "metadata": {},
   "outputs": [
    {
     "data": {
      "text/plain": [
       "dict_keys(['memory', 'steps', 'verbose', 'imputer', 'scaler', 'lda', 'model', 'imputer__add_indicator', 'imputer__copy', 'imputer__fill_value', 'imputer__missing_values', 'imputer__strategy', 'imputer__verbose', 'scaler__copy', 'scaler__with_mean', 'scaler__with_std', 'lda__n_components', 'lda__priors', 'lda__shrinkage', 'lda__solver', 'lda__store_covariance', 'lda__tol', 'model__algorithm', 'model__leaf_size', 'model__metric', 'model__metric_params', 'model__n_jobs', 'model__n_neighbors', 'model__p', 'model__weights'])"
      ]
     },
     "execution_count": 177,
     "metadata": {},
     "output_type": "execute_result"
    }
   ],
   "source": [
    "pipeline_knn.get_params().keys()"
   ]
  },
  {
   "cell_type": "code",
   "execution_count": 178,
   "metadata": {
    "_uuid": "a6bf52de06a0bb4abf2faa282ed8d37ce9b6a698"
   },
   "outputs": [],
   "source": [
    "param_grid_knn = {\n",
    "    #'lda__n_components': [1], #Nan with anything >1 \n",
    "    'model__n_neighbors': [10, 20, 80, 160],\n",
    "    'model__n_jobs': [-1],\n",
    "}"
   ]
  },
  {
   "cell_type": "code",
   "execution_count": 179,
   "metadata": {
    "_cell_guid": "c016e122-86dd-4c96-88c2-a901fe48cf70",
    "_uuid": "8144ec0a936a93a1fbf5e2dd00cd0082dbc40782"
   },
   "outputs": [],
   "source": [
    "grid_knn = GridSearchCV(estimator=pipeline_knn, param_grid=param_grid_knn, scoring='roc_auc', n_jobs=1, pre_dispatch=1, cv=5, verbose=1, return_train_score=False)"
   ]
  },
  {
   "cell_type": "code",
   "execution_count": 180,
   "metadata": {
    "_cell_guid": "b907b40c-402d-4d4a-a919-e4b63e0a832d",
    "_uuid": "76e6c2e828e670a1494d4d4fbec01f232f067512"
   },
   "outputs": [
    {
     "name": "stdout",
     "output_type": "stream",
     "text": [
      "Fitting 5 folds for each of 4 candidates, totalling 20 fits\n"
     ]
    },
    {
     "name": "stderr",
     "output_type": "stream",
     "text": [
      "[Parallel(n_jobs=1)]: Using backend SequentialBackend with 1 concurrent workers.\n",
      "[Parallel(n_jobs=1)]: Done  20 out of  20 | elapsed:    6.1s finished\n"
     ]
    },
    {
     "data": {
      "text/plain": [
       "GridSearchCV(cv=5,\n",
       "             estimator=Pipeline(steps=[('imputer', SimpleImputer(copy=False)),\n",
       "                                       ('scaler', StandardScaler(copy=False)),\n",
       "                                       ('lda', LinearDiscriminantAnalysis()),\n",
       "                                       ('model',\n",
       "                                        KNeighborsClassifier(n_jobs=-1))]),\n",
       "             n_jobs=1,\n",
       "             param_grid={'model__n_jobs': [-1],\n",
       "                         'model__n_neighbors': [10, 20, 80, 160]},\n",
       "             pre_dispatch=1, scoring='roc_auc', verbose=1)"
      ]
     },
     "execution_count": 180,
     "metadata": {},
     "output_type": "execute_result"
    }
   ],
   "source": [
    "grid_knn.fit(X_train, y_train)"
   ]
  },
  {
   "cell_type": "markdown",
   "metadata": {
    "_uuid": "4b600aa605a1df0aa9aed7813a0a58ebfc0c1acd"
   },
   "source": [
    "Mean cross-validated AUROC score of the best model:"
   ]
  },
  {
   "cell_type": "code",
   "execution_count": 181,
   "metadata": {
    "_uuid": "fb69ab73a93c093a87d2f320e7fc658925effda9"
   },
   "outputs": [
    {
     "data": {
      "text/plain": [
       "0.6995899512338851"
      ]
     },
     "execution_count": 181,
     "metadata": {},
     "output_type": "execute_result"
    }
   ],
   "source": [
    "grid_knn.best_score_"
   ]
  },
  {
   "cell_type": "markdown",
   "metadata": {
    "_cell_guid": "67901f97-33dc-4ff0-8968-127eda9da452",
    "_uuid": "a6829cf727f13a804180637da8cfc8477754b8c6"
   },
   "source": [
    "Best hyperparameters:"
   ]
  },
  {
   "cell_type": "code",
   "execution_count": 182,
   "metadata": {
    "_cell_guid": "14983fb4-d45a-431d-9c03-20d737862cc7",
    "_uuid": "fffc4de31000514e733ccd7c8f0aac9306226644"
   },
   "outputs": [
    {
     "data": {
      "text/plain": [
       "{'model__n_jobs': -1, 'model__n_neighbors': 160}"
      ]
     },
     "execution_count": 182,
     "metadata": {},
     "output_type": "execute_result"
    }
   ],
   "source": [
    "grid_knn.best_params_"
   ]
  },
  {
   "cell_type": "markdown",
   "metadata": {
    "_uuid": "6f03f5ac3f24ca51d9b38fe9d5cdcaaf6f4283d4"
   },
   "source": [
    "Only 3 LDA components are necessary for kNN to perform almost as well as logistic regression!"
   ]
  },
  {
   "cell_type": "markdown",
   "metadata": {},
   "source": [
    "# Neural Network\n"
   ]
  },
  {
   "cell_type": "code",
   "execution_count": 183,
   "metadata": {},
   "outputs": [],
   "source": [
    "from sklearn.neural_network import MLPClassifier"
   ]
  },
  {
   "cell_type": "code",
   "execution_count": 184,
   "metadata": {},
   "outputs": [],
   "source": [
    "pipeline_nn = Pipeline([\n",
    "    ('imputer', SimpleImputer(copy=False)),\n",
    "    ('scaler', StandardScaler(copy=False)),\n",
    "    ('model', MLPClassifier())\n",
    "])"
   ]
  },
  {
   "cell_type": "code",
   "execution_count": 185,
   "metadata": {},
   "outputs": [
    {
     "data": {
      "text/plain": [
       "dict_keys(['memory', 'steps', 'verbose', 'imputer', 'scaler', 'model', 'imputer__add_indicator', 'imputer__copy', 'imputer__fill_value', 'imputer__missing_values', 'imputer__strategy', 'imputer__verbose', 'scaler__copy', 'scaler__with_mean', 'scaler__with_std', 'model__activation', 'model__alpha', 'model__batch_size', 'model__beta_1', 'model__beta_2', 'model__early_stopping', 'model__epsilon', 'model__hidden_layer_sizes', 'model__learning_rate', 'model__learning_rate_init', 'model__max_fun', 'model__max_iter', 'model__momentum', 'model__n_iter_no_change', 'model__nesterovs_momentum', 'model__power_t', 'model__random_state', 'model__shuffle', 'model__solver', 'model__tol', 'model__validation_fraction', 'model__verbose', 'model__warm_start'])"
      ]
     },
     "execution_count": 185,
     "metadata": {},
     "output_type": "execute_result"
    }
   ],
   "source": [
    "pipeline_nn.get_params().keys()"
   ]
  },
  {
   "cell_type": "code",
   "execution_count": 186,
   "metadata": {},
   "outputs": [],
   "source": [
    "param_grid_nn = {\n",
    "    'model__max_iter': [400],\n",
    "    'model__tol':[1e-4]\n",
    "    #,'model__hidden_layer_sizes':[2,5,10]\n",
    "    ,'model__hidden_layer_sizes':range(2,5)\n",
    "}"
   ]
  },
  {
   "cell_type": "code",
   "execution_count": 187,
   "metadata": {},
   "outputs": [],
   "source": [
    "grid_nn = GridSearchCV(estimator=pipeline_nn, param_grid=param_grid_nn, scoring='roc_auc', n_jobs=1, pre_dispatch=1, cv=5, verbose=1, return_train_score=False)"
   ]
  },
  {
   "cell_type": "code",
   "execution_count": 188,
   "metadata": {},
   "outputs": [
    {
     "name": "stdout",
     "output_type": "stream",
     "text": [
      "Fitting 5 folds for each of 3 candidates, totalling 15 fits\n"
     ]
    },
    {
     "name": "stderr",
     "output_type": "stream",
     "text": [
      "[Parallel(n_jobs=1)]: Using backend SequentialBackend with 1 concurrent workers.\n",
      "[Parallel(n_jobs=1)]: Done  15 out of  15 | elapsed:  1.1min finished\n"
     ]
    },
    {
     "data": {
      "text/plain": [
       "GridSearchCV(cv=5,\n",
       "             estimator=Pipeline(steps=[('imputer', SimpleImputer(copy=False)),\n",
       "                                       ('scaler', StandardScaler(copy=False)),\n",
       "                                       ('model', MLPClassifier())]),\n",
       "             n_jobs=1,\n",
       "             param_grid={'model__hidden_layer_sizes': range(2, 5),\n",
       "                         'model__max_iter': [400], 'model__tol': [0.0001]},\n",
       "             pre_dispatch=1, scoring='roc_auc', verbose=1)"
      ]
     },
     "execution_count": 188,
     "metadata": {},
     "output_type": "execute_result"
    }
   ],
   "source": [
    "grid_nn.fit(X_train, y_train)"
   ]
  },
  {
   "cell_type": "code",
   "execution_count": 189,
   "metadata": {},
   "outputs": [
    {
     "data": {
      "text/plain": [
       "0.686202791135837"
      ]
     },
     "execution_count": 189,
     "metadata": {},
     "output_type": "execute_result"
    }
   ],
   "source": [
    "grid_nn.best_score_"
   ]
  },
  {
   "cell_type": "code",
   "execution_count": 190,
   "metadata": {},
   "outputs": [
    {
     "data": {
      "text/plain": [
       "{'model__hidden_layer_sizes': 3, 'model__max_iter': 400, 'model__tol': 0.0001}"
      ]
     },
     "execution_count": 190,
     "metadata": {},
     "output_type": "execute_result"
    }
   ],
   "source": [
    "grid_nn.best_params_"
   ]
  },
  {
   "cell_type": "markdown",
   "metadata": {
    "_cell_guid": "04560103-0efe-4ace-831b-be73ece4fe7b",
    "_uuid": "4476709021bd10a8e39d8f7e99e8fdf4adcb6970"
   },
   "source": [
    "## 8.5 Tune hyperparameters on the chosen model more finely\n",
    "<a id=\"8.4\"></a>"
   ]
  },
  {
   "cell_type": "markdown",
   "metadata": {
    "_cell_guid": "b7460548-ee72-4f66-b921-2ea68bd5db24",
    "_uuid": "edd6b1de60cf7b9da054d0259ea83e8b4e4e8719"
   },
   "source": [
    "The three models performed quite similarly according to the AUROC:"
   ]
  },
  {
   "cell_type": "code",
   "execution_count": 191,
   "metadata": {
    "_uuid": "399dbe1ae869b7b09f4c793b2f0d2dbf2ab3ce99"
   },
   "outputs": [
    {
     "name": "stdout",
     "output_type": "stream",
     "text": [
      "Cross-validated AUROC scores\n",
      "0.7074608463086876 - Logistic regression\n",
      "0.6861419579103305 - Random forest\n",
      "0.6995899512338851 - k-nearest neighbors\n",
      "0.686202791135837 - Nueral Network\n",
      "0.6338340626146137 - SVM\n"
     ]
    }
   ],
   "source": [
    "print('Cross-validated AUROC scores')\n",
    "print(grid_sgdlogreg.best_score_, '- Logistic regression')\n",
    "print(grid_rfc.best_score_, '- Random forest')\n",
    "print(grid_knn.best_score_, '- k-nearest neighbors')\n",
    "print(grid_nn.best_score_, '- Nueral Network')\n",
    "print(grid_SVM.best_score_, '- SVM')"
   ]
  },
  {
   "cell_type": "markdown",
   "metadata": {
    "_uuid": "ad636baf5b85663770647c4c49572d9d6b5ea445"
   },
   "source": [
    "Logistic regression squeaked out ahead, and coupled with the fact that `SGDClassifier` trains much faster than the other two models, we'll select logistic regression as our final model. Now we'll tune the hyperparameters more finely."
   ]
  },
  {
   "cell_type": "code",
   "execution_count": 192,
   "metadata": {
    "_uuid": "f793dda90e2860bb02a771f9d960fa13d53140ea"
   },
   "outputs": [],
   "source": [
    "param_grid_sgdlogreg = {\n",
    "    'model__alpha': [10**-5, 10**-2, 10**1],\n",
    "    #'model__penalty': ['l1', 'l2']\n",
    "    'model__penalty': ['l2']\n",
    "}\n"
   ]
  },
  {
   "cell_type": "code",
   "execution_count": null,
   "metadata": {},
   "outputs": [],
   "source": []
  },
  {
   "cell_type": "code",
   "execution_count": 193,
   "metadata": {
    "_cell_guid": "c016e122-86dd-4c96-88c2-a901fe48cf70",
    "_uuid": "8144ec0a936a93a1fbf5e2dd00cd0082dbc40782"
   },
   "outputs": [],
   "source": [
    "grid_sgdlogreg = GridSearchCV(estimator=pipeline_sgdlogreg, param_grid=param_grid_sgdlogreg, scoring='roc_auc', n_jobs=1, pre_dispatch=1, cv=5, verbose=1, return_train_score=False)"
   ]
  },
  {
   "cell_type": "code",
   "execution_count": 194,
   "metadata": {
    "_cell_guid": "b907b40c-402d-4d4a-a919-e4b63e0a832d",
    "_uuid": "76e6c2e828e670a1494d4d4fbec01f232f067512",
    "scrolled": true
   },
   "outputs": [
    {
     "name": "stdout",
     "output_type": "stream",
     "text": [
      "Fitting 5 folds for each of 3 candidates, totalling 15 fits\n"
     ]
    },
    {
     "name": "stderr",
     "output_type": "stream",
     "text": [
      "[Parallel(n_jobs=1)]: Using backend SequentialBackend with 1 concurrent workers.\n",
      "[Parallel(n_jobs=1)]: Done  15 out of  15 | elapsed:    5.7s finished\n"
     ]
    },
    {
     "data": {
      "text/plain": [
       "GridSearchCV(cv=5,\n",
       "             estimator=Pipeline(steps=[('imputer', SimpleImputer(copy=False)),\n",
       "                                       ('scaler', StandardScaler(copy=False)),\n",
       "                                       ('model',\n",
       "                                        SGDClassifier(loss='log',\n",
       "                                                      random_state=1,\n",
       "                                                      warm_start=True))]),\n",
       "             n_jobs=1,\n",
       "             param_grid={'model__alpha': [1e-05, 0.01, 10],\n",
       "                         'model__penalty': ['l2']},\n",
       "             pre_dispatch=1, scoring='roc_auc', verbose=1)"
      ]
     },
     "execution_count": 194,
     "metadata": {},
     "output_type": "execute_result"
    }
   ],
   "source": [
    "grid_sgdlogreg.fit(X_train, y_train)"
   ]
  },
  {
   "cell_type": "markdown",
   "metadata": {
    "_uuid": "fffdf580c56431cd185b46c3761b3ae5013e996e"
   },
   "source": [
    "Mean cross-validated AUROC score of the best model:"
   ]
  },
  {
   "cell_type": "code",
   "execution_count": 195,
   "metadata": {
    "_uuid": "27ba528bb11b21569f709e91f8166b044f72acc5"
   },
   "outputs": [
    {
     "data": {
      "text/plain": [
       "0.7074608463086876"
      ]
     },
     "execution_count": 195,
     "metadata": {},
     "output_type": "execute_result"
    }
   ],
   "source": [
    "grid_sgdlogreg.best_score_"
   ]
  },
  {
   "cell_type": "code",
   "execution_count": 196,
   "metadata": {},
   "outputs": [
    {
     "data": {
      "text/plain": [
       "747"
      ]
     },
     "execution_count": 196,
     "metadata": {},
     "output_type": "execute_result"
    }
   ],
   "source": [
    " 747"
   ]
  },
  {
   "cell_type": "markdown",
   "metadata": {
    "_cell_guid": "67901f97-33dc-4ff0-8968-127eda9da452",
    "_uuid": "a6829cf727f13a804180637da8cfc8477754b8c6"
   },
   "source": [
    "Best hyperparameters:"
   ]
  },
  {
   "cell_type": "code",
   "execution_count": 197,
   "metadata": {
    "_cell_guid": "14983fb4-d45a-431d-9c03-20d737862cc7",
    "_uuid": "fffc4de31000514e733ccd7c8f0aac9306226644"
   },
   "outputs": [
    {
     "data": {
      "text/plain": [
       "{'model__alpha': 10, 'model__penalty': 'l2'}"
      ]
     },
     "execution_count": 197,
     "metadata": {},
     "output_type": "execute_result"
    }
   ],
   "source": [
    "grid_sgdlogreg.best_params_"
   ]
  },
  {
   "cell_type": "markdown",
   "metadata": {
    "_uuid": "235152491393c80244d2b352a00a687f24db3c0b"
   },
   "source": [
    "By some coincidence, the optimal hyperparameters here are the same as from our first grid search for logistic regression!"
   ]
  },
  {
   "cell_type": "markdown",
   "metadata": {
    "_cell_guid": "61ffd538-9579-4638-8156-bcb3f29b39ab",
    "_uuid": "f3b87036a9ae078b8a9cc36ce5b47f734059358c"
   },
   "source": [
    "## 8.6 Test set evaluation\n",
    "<a id=\"8.5\"></a>"
   ]
  },
  {
   "cell_type": "markdown",
   "metadata": {
    "_uuid": "392c3c4194201722d6139f71c030be32411858f4"
   },
   "source": [
    "Now we can finally see how our chosen model performs on the test data (the most recent 10% of the loans)."
   ]
  },
  {
   "cell_type": "code",
   "execution_count": 198,
   "metadata": {
    "_uuid": "5e30cfcec41346c823cfd51b574de4628a091cb1"
   },
   "outputs": [],
   "source": [
    "from sklearn.metrics import roc_auc_score"
   ]
  },
  {
   "cell_type": "code",
   "execution_count": 199,
   "metadata": {
    "_uuid": "9422581825e175f37148cfae47016c7a81bbe29a"
   },
   "outputs": [
    {
     "data": {
      "text/plain": [
       "0.7257755121671592"
      ]
     },
     "execution_count": 199,
     "metadata": {},
     "output_type": "execute_result"
    }
   ],
   "source": [
    "y_score = grid_sgdlogreg.predict_proba(X_test)[:,1]\n",
    "roc_auc_score(y_test, y_score)"
   ]
  },
  {
   "cell_type": "code",
   "execution_count": 200,
   "metadata": {},
   "outputs": [
    {
     "ename": "AttributeError",
     "evalue": "predict_proba is not available when  probability=False",
     "output_type": "error",
     "traceback": [
      "\u001b[0;31m---------------------------------------------------------------------------\u001b[0m",
      "\u001b[0;31mAttributeError\u001b[0m                            Traceback (most recent call last)",
      "\u001b[0;32m<ipython-input-200-bc829038c258>\u001b[0m in \u001b[0;36m<module>\u001b[0;34m\u001b[0m\n\u001b[0;32m----> 1\u001b[0;31m \u001b[0my_score\u001b[0m \u001b[0;34m=\u001b[0m \u001b[0mgrid_SVM\u001b[0m\u001b[0;34m.\u001b[0m\u001b[0mpredict_proba\u001b[0m\u001b[0;34m(\u001b[0m\u001b[0mX_test\u001b[0m\u001b[0;34m)\u001b[0m\u001b[0;34m[\u001b[0m\u001b[0;34m:\u001b[0m\u001b[0;34m,\u001b[0m\u001b[0;36m1\u001b[0m\u001b[0;34m]\u001b[0m\u001b[0;34m\u001b[0m\u001b[0;34m\u001b[0m\u001b[0m\n\u001b[0m\u001b[1;32m      2\u001b[0m \u001b[0mroc_auc_score\u001b[0m\u001b[0;34m(\u001b[0m\u001b[0my_test\u001b[0m\u001b[0;34m,\u001b[0m \u001b[0my_score\u001b[0m\u001b[0;34m)\u001b[0m\u001b[0;34m\u001b[0m\u001b[0;34m\u001b[0m\u001b[0m\n",
      "\u001b[0;32m~/opt/anaconda3/lib/python3.8/site-packages/sklearn/utils/metaestimators.py\u001b[0m in \u001b[0;36m__get__\u001b[0;34m(self, obj, type)\u001b[0m\n\u001b[1;32m    111\u001b[0m                     \u001b[0;32mcontinue\u001b[0m\u001b[0;34m\u001b[0m\u001b[0;34m\u001b[0m\u001b[0m\n\u001b[1;32m    112\u001b[0m                 \u001b[0;32melse\u001b[0m\u001b[0;34m:\u001b[0m\u001b[0;34m\u001b[0m\u001b[0;34m\u001b[0m\u001b[0m\n\u001b[0;32m--> 113\u001b[0;31m                     \u001b[0mgetattr\u001b[0m\u001b[0;34m(\u001b[0m\u001b[0mdelegate\u001b[0m\u001b[0;34m,\u001b[0m \u001b[0mself\u001b[0m\u001b[0;34m.\u001b[0m\u001b[0mattribute_name\u001b[0m\u001b[0;34m)\u001b[0m\u001b[0;34m\u001b[0m\u001b[0;34m\u001b[0m\u001b[0m\n\u001b[0m\u001b[1;32m    114\u001b[0m                     \u001b[0;32mbreak\u001b[0m\u001b[0;34m\u001b[0m\u001b[0;34m\u001b[0m\u001b[0m\n\u001b[1;32m    115\u001b[0m             \u001b[0;32melse\u001b[0m\u001b[0;34m:\u001b[0m\u001b[0;34m\u001b[0m\u001b[0;34m\u001b[0m\u001b[0m\n",
      "\u001b[0;32m~/opt/anaconda3/lib/python3.8/site-packages/sklearn/utils/metaestimators.py\u001b[0m in \u001b[0;36m__get__\u001b[0;34m(self, obj, type)\u001b[0m\n\u001b[1;32m    111\u001b[0m                     \u001b[0;32mcontinue\u001b[0m\u001b[0;34m\u001b[0m\u001b[0;34m\u001b[0m\u001b[0m\n\u001b[1;32m    112\u001b[0m                 \u001b[0;32melse\u001b[0m\u001b[0;34m:\u001b[0m\u001b[0;34m\u001b[0m\u001b[0;34m\u001b[0m\u001b[0m\n\u001b[0;32m--> 113\u001b[0;31m                     \u001b[0mgetattr\u001b[0m\u001b[0;34m(\u001b[0m\u001b[0mdelegate\u001b[0m\u001b[0;34m,\u001b[0m \u001b[0mself\u001b[0m\u001b[0;34m.\u001b[0m\u001b[0mattribute_name\u001b[0m\u001b[0;34m)\u001b[0m\u001b[0;34m\u001b[0m\u001b[0;34m\u001b[0m\u001b[0m\n\u001b[0m\u001b[1;32m    114\u001b[0m                     \u001b[0;32mbreak\u001b[0m\u001b[0;34m\u001b[0m\u001b[0;34m\u001b[0m\u001b[0m\n\u001b[1;32m    115\u001b[0m             \u001b[0;32melse\u001b[0m\u001b[0;34m:\u001b[0m\u001b[0;34m\u001b[0m\u001b[0;34m\u001b[0m\u001b[0m\n",
      "\u001b[0;32m~/opt/anaconda3/lib/python3.8/site-packages/sklearn/svm/_base.py\u001b[0m in \u001b[0;36mpredict_proba\u001b[0;34m(self)\u001b[0m\n\u001b[1;32m    655\u001b[0m         \u001b[0mdatasets\u001b[0m\u001b[0;34m.\u001b[0m\u001b[0;34m\u001b[0m\u001b[0;34m\u001b[0m\u001b[0m\n\u001b[1;32m    656\u001b[0m         \"\"\"\n\u001b[0;32m--> 657\u001b[0;31m         \u001b[0mself\u001b[0m\u001b[0;34m.\u001b[0m\u001b[0m_check_proba\u001b[0m\u001b[0;34m(\u001b[0m\u001b[0;34m)\u001b[0m\u001b[0;34m\u001b[0m\u001b[0;34m\u001b[0m\u001b[0m\n\u001b[0m\u001b[1;32m    658\u001b[0m         \u001b[0;32mreturn\u001b[0m \u001b[0mself\u001b[0m\u001b[0;34m.\u001b[0m\u001b[0m_predict_proba\u001b[0m\u001b[0;34m\u001b[0m\u001b[0;34m\u001b[0m\u001b[0m\n\u001b[1;32m    659\u001b[0m \u001b[0;34m\u001b[0m\u001b[0m\n",
      "\u001b[0;32m~/opt/anaconda3/lib/python3.8/site-packages/sklearn/svm/_base.py\u001b[0m in \u001b[0;36m_check_proba\u001b[0;34m(self)\u001b[0m\n\u001b[1;32m    622\u001b[0m     \u001b[0;32mdef\u001b[0m \u001b[0m_check_proba\u001b[0m\u001b[0;34m(\u001b[0m\u001b[0mself\u001b[0m\u001b[0;34m)\u001b[0m\u001b[0;34m:\u001b[0m\u001b[0;34m\u001b[0m\u001b[0;34m\u001b[0m\u001b[0m\n\u001b[1;32m    623\u001b[0m         \u001b[0;32mif\u001b[0m \u001b[0;32mnot\u001b[0m \u001b[0mself\u001b[0m\u001b[0;34m.\u001b[0m\u001b[0mprobability\u001b[0m\u001b[0;34m:\u001b[0m\u001b[0;34m\u001b[0m\u001b[0;34m\u001b[0m\u001b[0m\n\u001b[0;32m--> 624\u001b[0;31m             raise AttributeError(\"predict_proba is not available when \"\n\u001b[0m\u001b[1;32m    625\u001b[0m                                  \" probability=False\")\n\u001b[1;32m    626\u001b[0m         \u001b[0;32mif\u001b[0m \u001b[0mself\u001b[0m\u001b[0;34m.\u001b[0m\u001b[0m_impl\u001b[0m \u001b[0;32mnot\u001b[0m \u001b[0;32min\u001b[0m \u001b[0;34m(\u001b[0m\u001b[0;34m'c_svc'\u001b[0m\u001b[0;34m,\u001b[0m \u001b[0;34m'nu_svc'\u001b[0m\u001b[0;34m)\u001b[0m\u001b[0;34m:\u001b[0m\u001b[0;34m\u001b[0m\u001b[0;34m\u001b[0m\u001b[0m\n",
      "\u001b[0;31mAttributeError\u001b[0m: predict_proba is not available when  probability=False"
     ]
    }
   ],
   "source": [
    "y_score = grid_SVM.predict_proba(X_test)[:,1]\n",
    "roc_auc_score(y_test, y_score)"
   ]
  },
  {
   "cell_type": "code",
   "execution_count": null,
   "metadata": {},
   "outputs": [],
   "source": [
    "y_score = grid_SVM.predict(X_test)\n",
    "print(y_score)\n",
    "roc_auc_score(y_test, y_score)"
   ]
  },
  {
   "cell_type": "code",
   "execution_count": null,
   "metadata": {},
   "outputs": [],
   "source": [
    "y_score = grid_knn.predict_proba(X_test)[:,1]\n",
    "roc_auc_score(y_test, y_score)"
   ]
  },
  {
   "cell_type": "code",
   "execution_count": null,
   "metadata": {},
   "outputs": [],
   "source": [
    "y_score = grid_rfc.predict_proba(X_test)[:,1]\n",
    "roc_auc_score(y_test, y_score)"
   ]
  },
  {
   "cell_type": "markdown",
   "metadata": {
    "_uuid": "75ec79860214bfcc917bf58cc1f945b58ed5e8a6"
   },
   "source": [
    "The test set AUROC score is somewhat lower than the cross-validated score (0.713)."
   ]
  },
  {
   "cell_type": "markdown",
   "metadata": {
    "_uuid": "4d779c09e670092936e083526dffbdd12e02e1c6"
   },
   "source": [
    "# 9. Conclusion\n",
    "<a id=\"9\"></a>"
   ]
  },
  {
   "cell_type": "markdown",
   "metadata": {
    "_uuid": "d93f5d6f4cc477e453a27475cd8647f97b642dc2"
   },
   "source": [
    "We applied machine learning methods to predict the probability that a requested loan on LendingClub will charge off. After training and evaluating three different models (logistic regression, random forest, and k-nearest neighbors), we found that all three performed similarly according to a cross-validated AUROC score on the training data. We selected logistic regression (with ridge penalty) because it was the fastest model to train, and this model obtained an AUROC score of 0.689 on a test set consisting of the most recent 10% of the loans.\n",
    "\n",
    "This model, while far from perfect, can provide a somewhat informed prediction of the likelihood that a loan will charge off, using only data available to potential investors before the loan is fully funded.\n",
    "\n",
    "We also found that, according to linear measures of correlation between the predictors and the response, the most important variables for predicting charge-off are the loan interest rate and term, and the borrower's FICO score and debt-to-income ratio."
   ]
  },
  {
   "cell_type": "code",
   "execution_count": null,
   "metadata": {},
   "outputs": [],
   "source": []
  }
 ],
 "metadata": {
  "kernelspec": {
   "display_name": "Python 3",
   "language": "python",
   "name": "python3"
  },
  "language_info": {
   "codemirror_mode": {
    "name": "ipython",
    "version": 3
   },
   "file_extension": ".py",
   "mimetype": "text/x-python",
   "name": "python",
   "nbconvert_exporter": "python",
   "pygments_lexer": "ipython3",
   "version": "3.8.3"
  }
 },
 "nbformat": 4,
 "nbformat_minor": 1
}
